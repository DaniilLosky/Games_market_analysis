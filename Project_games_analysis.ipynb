{
 "cells": [
  {
   "cell_type": "markdown",
   "metadata": {},
   "source": [
    "# Исследование данных рынка игр"
   ]
  },
  {
   "cell_type": "markdown",
   "metadata": {},
   "source": [
    "# План проекта\n",
    "## Основные задачи\n",
    "1. Выявить определяющие успешность игры закономерности, что позволит спланировать рекламные кампании для интернет-магазина \"Стримчик\";\n",
    "2. Изучить данные и определить года выпусков игр, определить наиболее популярные игровые платформы по продажам в год;\n",
    "3. Оценить за актуальный период популярность платформ, какие растут и какие падают, чтобы в дальнейшем сделать вывод о потенциально прибыльных платформах;\n",
    "4. Изучить влияние на продажи внутри одной популярной платформы отзывы пользователей и критиков;\n",
    "5. Оценить прибыльность игр по жанрам;\n",
    "6. Составить портрет пользователя каждого региона. Определить самый популярный жанр и платформу для каждого региона и оценить влияние рейтинга ESRB на продажи;\n",
    "7. Сравнить средние пользовательские рейтинги платформ Xbox One и PC и провести ttest на их равенство;\n",
    "8. Сравнить средние пользовательские рейтинги жанров Action и Sports и провести ttest на их различие.\n",
    "\n",
    "\n",
    "## Краткий план работы\n",
    "1. Рассмотреть и описать данные\n",
    "2. Обработать данные: заменить название столбцов, преобразовать данные в нужный тип, обработать дубликаты и аномальные значения там, где это возможно. Добавить отдельный столбец с суммарной продажей во всех регионах. Отдельно разобрать это значение 'tbd' в столбце с оценкой пользователей\n",
    "3. Провести исследовательский анализ по жанрам и платформам игр, визуализировать данные там, где это необходимо и сделать выводы. Оценить продажы по жанрам и платформам.\n",
    "4. Составить портрет пользователя по регионам. Определить: топ-5 популярных жанром и платформ, влияние рейтинга ESRB на продажи в отдельном регионе\n",
    "5. Проверить необходимые гипотезы о средних пользовательских рейтингах\n",
    "6. Сделать общий вывод по проекту\n",
    "\n",
    "## Описание данных\n",
    "* Name — название игры\n",
    "* Platform — платформа\n",
    "* Year_of_Release — год выпуска\n",
    "* Genre — жанр игры\n",
    "* NA_sales — продажи в Северной Америке (миллионы проданных копий)\n",
    "* EU_sales — продажи в Европе (миллионы проданных копий)\n",
    "* JP_sales — продажи в Японии (миллионы проданных копий)\n",
    "* Other_sales — продажи в других странах (миллионы проданных копий)\n",
    "* Critic_Score — оценка критиков (максимум 100)\n",
    "* User_Score — оценка пользователей (максимум 10)\n",
    "* Rating — рейтинг от организации ESRB (англ. Entertainment Software Rating Board). Эта ассоциация определяет рейтинг компьютерных игр и присваивает им подходящую возрастную категорию."
   ]
  },
  {
   "cell_type": "markdown",
   "metadata": {},
   "source": [
    "## 1. Загрузка данных"
   ]
  },
  {
   "cell_type": "code",
   "execution_count": 3,
   "metadata": {},
   "outputs": [
    {
     "ename": "FileNotFoundError",
     "evalue": "[Errno 2] No such file or directory: '/datasets/games.csv'",
     "output_type": "error",
     "traceback": [
      "\u001b[0;31m---------------------------------------------------------------------------\u001b[0m",
      "\u001b[0;31mFileNotFoundError\u001b[0m                         Traceback (most recent call last)",
      "Cell \u001b[0;32mIn[3], line 7\u001b[0m\n\u001b[1;32m      6\u001b[0m \u001b[38;5;28;01mtry\u001b[39;00m:\n\u001b[0;32m----> 7\u001b[0m     data \u001b[38;5;241m=\u001b[39m pd\u001b[38;5;241m.\u001b[39mread_csv(\u001b[38;5;124m'\u001b[39m\u001b[38;5;124m/games.csv\u001b[39m\u001b[38;5;124m'\u001b[39m,sep\u001b[38;5;241m=\u001b[39m\u001b[38;5;124m'\u001b[39m\u001b[38;5;124m,\u001b[39m\u001b[38;5;124m'\u001b[39m)\n\u001b[1;32m      8\u001b[0m \u001b[38;5;28;01mexcept\u001b[39;00m:\n",
      "File \u001b[0;32m/opt/anaconda3/lib/python3.11/site-packages/pandas/io/parsers/readers.py:1026\u001b[0m, in \u001b[0;36mread_csv\u001b[0;34m(filepath_or_buffer, sep, delimiter, header, names, index_col, usecols, dtype, engine, converters, true_values, false_values, skipinitialspace, skiprows, skipfooter, nrows, na_values, keep_default_na, na_filter, verbose, skip_blank_lines, parse_dates, infer_datetime_format, keep_date_col, date_parser, date_format, dayfirst, cache_dates, iterator, chunksize, compression, thousands, decimal, lineterminator, quotechar, quoting, doublequote, escapechar, comment, encoding, encoding_errors, dialect, on_bad_lines, delim_whitespace, low_memory, memory_map, float_precision, storage_options, dtype_backend)\u001b[0m\n\u001b[1;32m   1024\u001b[0m kwds\u001b[38;5;241m.\u001b[39mupdate(kwds_defaults)\n\u001b[0;32m-> 1026\u001b[0m \u001b[38;5;28;01mreturn\u001b[39;00m _read(filepath_or_buffer, kwds)\n",
      "File \u001b[0;32m/opt/anaconda3/lib/python3.11/site-packages/pandas/io/parsers/readers.py:620\u001b[0m, in \u001b[0;36m_read\u001b[0;34m(filepath_or_buffer, kwds)\u001b[0m\n\u001b[1;32m    619\u001b[0m \u001b[38;5;66;03m# Create the parser.\u001b[39;00m\n\u001b[0;32m--> 620\u001b[0m parser \u001b[38;5;241m=\u001b[39m TextFileReader(filepath_or_buffer, \u001b[38;5;241m*\u001b[39m\u001b[38;5;241m*\u001b[39mkwds)\n\u001b[1;32m    622\u001b[0m \u001b[38;5;28;01mif\u001b[39;00m chunksize \u001b[38;5;129;01mor\u001b[39;00m iterator:\n",
      "File \u001b[0;32m/opt/anaconda3/lib/python3.11/site-packages/pandas/io/parsers/readers.py:1620\u001b[0m, in \u001b[0;36mTextFileReader.__init__\u001b[0;34m(self, f, engine, **kwds)\u001b[0m\n\u001b[1;32m   1619\u001b[0m \u001b[38;5;28mself\u001b[39m\u001b[38;5;241m.\u001b[39mhandles: IOHandles \u001b[38;5;241m|\u001b[39m \u001b[38;5;28;01mNone\u001b[39;00m \u001b[38;5;241m=\u001b[39m \u001b[38;5;28;01mNone\u001b[39;00m\n\u001b[0;32m-> 1620\u001b[0m \u001b[38;5;28mself\u001b[39m\u001b[38;5;241m.\u001b[39m_engine \u001b[38;5;241m=\u001b[39m \u001b[38;5;28mself\u001b[39m\u001b[38;5;241m.\u001b[39m_make_engine(f, \u001b[38;5;28mself\u001b[39m\u001b[38;5;241m.\u001b[39mengine)\n",
      "File \u001b[0;32m/opt/anaconda3/lib/python3.11/site-packages/pandas/io/parsers/readers.py:1880\u001b[0m, in \u001b[0;36mTextFileReader._make_engine\u001b[0;34m(self, f, engine)\u001b[0m\n\u001b[1;32m   1879\u001b[0m         mode \u001b[38;5;241m+\u001b[39m\u001b[38;5;241m=\u001b[39m \u001b[38;5;124m\"\u001b[39m\u001b[38;5;124mb\u001b[39m\u001b[38;5;124m\"\u001b[39m\n\u001b[0;32m-> 1880\u001b[0m \u001b[38;5;28mself\u001b[39m\u001b[38;5;241m.\u001b[39mhandles \u001b[38;5;241m=\u001b[39m get_handle(\n\u001b[1;32m   1881\u001b[0m     f,\n\u001b[1;32m   1882\u001b[0m     mode,\n\u001b[1;32m   1883\u001b[0m     encoding\u001b[38;5;241m=\u001b[39m\u001b[38;5;28mself\u001b[39m\u001b[38;5;241m.\u001b[39moptions\u001b[38;5;241m.\u001b[39mget(\u001b[38;5;124m\"\u001b[39m\u001b[38;5;124mencoding\u001b[39m\u001b[38;5;124m\"\u001b[39m, \u001b[38;5;28;01mNone\u001b[39;00m),\n\u001b[1;32m   1884\u001b[0m     compression\u001b[38;5;241m=\u001b[39m\u001b[38;5;28mself\u001b[39m\u001b[38;5;241m.\u001b[39moptions\u001b[38;5;241m.\u001b[39mget(\u001b[38;5;124m\"\u001b[39m\u001b[38;5;124mcompression\u001b[39m\u001b[38;5;124m\"\u001b[39m, \u001b[38;5;28;01mNone\u001b[39;00m),\n\u001b[1;32m   1885\u001b[0m     memory_map\u001b[38;5;241m=\u001b[39m\u001b[38;5;28mself\u001b[39m\u001b[38;5;241m.\u001b[39moptions\u001b[38;5;241m.\u001b[39mget(\u001b[38;5;124m\"\u001b[39m\u001b[38;5;124mmemory_map\u001b[39m\u001b[38;5;124m\"\u001b[39m, \u001b[38;5;28;01mFalse\u001b[39;00m),\n\u001b[1;32m   1886\u001b[0m     is_text\u001b[38;5;241m=\u001b[39mis_text,\n\u001b[1;32m   1887\u001b[0m     errors\u001b[38;5;241m=\u001b[39m\u001b[38;5;28mself\u001b[39m\u001b[38;5;241m.\u001b[39moptions\u001b[38;5;241m.\u001b[39mget(\u001b[38;5;124m\"\u001b[39m\u001b[38;5;124mencoding_errors\u001b[39m\u001b[38;5;124m\"\u001b[39m, \u001b[38;5;124m\"\u001b[39m\u001b[38;5;124mstrict\u001b[39m\u001b[38;5;124m\"\u001b[39m),\n\u001b[1;32m   1888\u001b[0m     storage_options\u001b[38;5;241m=\u001b[39m\u001b[38;5;28mself\u001b[39m\u001b[38;5;241m.\u001b[39moptions\u001b[38;5;241m.\u001b[39mget(\u001b[38;5;124m\"\u001b[39m\u001b[38;5;124mstorage_options\u001b[39m\u001b[38;5;124m\"\u001b[39m, \u001b[38;5;28;01mNone\u001b[39;00m),\n\u001b[1;32m   1889\u001b[0m )\n\u001b[1;32m   1890\u001b[0m \u001b[38;5;28;01massert\u001b[39;00m \u001b[38;5;28mself\u001b[39m\u001b[38;5;241m.\u001b[39mhandles \u001b[38;5;129;01mis\u001b[39;00m \u001b[38;5;129;01mnot\u001b[39;00m \u001b[38;5;28;01mNone\u001b[39;00m\n",
      "File \u001b[0;32m/opt/anaconda3/lib/python3.11/site-packages/pandas/io/common.py:873\u001b[0m, in \u001b[0;36mget_handle\u001b[0;34m(path_or_buf, mode, encoding, compression, memory_map, is_text, errors, storage_options)\u001b[0m\n\u001b[1;32m    871\u001b[0m \u001b[38;5;28;01mif\u001b[39;00m ioargs\u001b[38;5;241m.\u001b[39mencoding \u001b[38;5;129;01mand\u001b[39;00m \u001b[38;5;124m\"\u001b[39m\u001b[38;5;124mb\u001b[39m\u001b[38;5;124m\"\u001b[39m \u001b[38;5;129;01mnot\u001b[39;00m \u001b[38;5;129;01min\u001b[39;00m ioargs\u001b[38;5;241m.\u001b[39mmode:\n\u001b[1;32m    872\u001b[0m     \u001b[38;5;66;03m# Encoding\u001b[39;00m\n\u001b[0;32m--> 873\u001b[0m     handle \u001b[38;5;241m=\u001b[39m \u001b[38;5;28mopen\u001b[39m(\n\u001b[1;32m    874\u001b[0m         handle,\n\u001b[1;32m    875\u001b[0m         ioargs\u001b[38;5;241m.\u001b[39mmode,\n\u001b[1;32m    876\u001b[0m         encoding\u001b[38;5;241m=\u001b[39mioargs\u001b[38;5;241m.\u001b[39mencoding,\n\u001b[1;32m    877\u001b[0m         errors\u001b[38;5;241m=\u001b[39merrors,\n\u001b[1;32m    878\u001b[0m         newline\u001b[38;5;241m=\u001b[39m\u001b[38;5;124m\"\u001b[39m\u001b[38;5;124m\"\u001b[39m,\n\u001b[1;32m    879\u001b[0m     )\n\u001b[1;32m    880\u001b[0m \u001b[38;5;28;01melse\u001b[39;00m:\n\u001b[1;32m    881\u001b[0m     \u001b[38;5;66;03m# Binary mode\u001b[39;00m\n",
      "\u001b[0;31mFileNotFoundError\u001b[0m: [Errno 2] No such file or directory: '/games.csv'",
      "\nDuring handling of the above exception, another exception occurred:\n",
      "\u001b[0;31mFileNotFoundError\u001b[0m                         Traceback (most recent call last)",
      "Cell \u001b[0;32mIn[3], line 9\u001b[0m\n\u001b[1;32m      7\u001b[0m     data \u001b[38;5;241m=\u001b[39m pd\u001b[38;5;241m.\u001b[39mread_csv(\u001b[38;5;124m'\u001b[39m\u001b[38;5;124m/games.csv\u001b[39m\u001b[38;5;124m'\u001b[39m,sep\u001b[38;5;241m=\u001b[39m\u001b[38;5;124m'\u001b[39m\u001b[38;5;124m,\u001b[39m\u001b[38;5;124m'\u001b[39m)\n\u001b[1;32m      8\u001b[0m \u001b[38;5;28;01mexcept\u001b[39;00m:\n\u001b[0;32m----> 9\u001b[0m     data \u001b[38;5;241m=\u001b[39m pd\u001b[38;5;241m.\u001b[39mread_csv(\u001b[38;5;124m'\u001b[39m\u001b[38;5;124m/datasets/games.csv\u001b[39m\u001b[38;5;124m'\u001b[39m,sep\u001b[38;5;241m=\u001b[39m\u001b[38;5;124m'\u001b[39m\u001b[38;5;124m,\u001b[39m\u001b[38;5;124m'\u001b[39m)\n",
      "File \u001b[0;32m/opt/anaconda3/lib/python3.11/site-packages/pandas/io/parsers/readers.py:1026\u001b[0m, in \u001b[0;36mread_csv\u001b[0;34m(filepath_or_buffer, sep, delimiter, header, names, index_col, usecols, dtype, engine, converters, true_values, false_values, skipinitialspace, skiprows, skipfooter, nrows, na_values, keep_default_na, na_filter, verbose, skip_blank_lines, parse_dates, infer_datetime_format, keep_date_col, date_parser, date_format, dayfirst, cache_dates, iterator, chunksize, compression, thousands, decimal, lineterminator, quotechar, quoting, doublequote, escapechar, comment, encoding, encoding_errors, dialect, on_bad_lines, delim_whitespace, low_memory, memory_map, float_precision, storage_options, dtype_backend)\u001b[0m\n\u001b[1;32m   1013\u001b[0m kwds_defaults \u001b[38;5;241m=\u001b[39m _refine_defaults_read(\n\u001b[1;32m   1014\u001b[0m     dialect,\n\u001b[1;32m   1015\u001b[0m     delimiter,\n\u001b[0;32m   (...)\u001b[0m\n\u001b[1;32m   1022\u001b[0m     dtype_backend\u001b[38;5;241m=\u001b[39mdtype_backend,\n\u001b[1;32m   1023\u001b[0m )\n\u001b[1;32m   1024\u001b[0m kwds\u001b[38;5;241m.\u001b[39mupdate(kwds_defaults)\n\u001b[0;32m-> 1026\u001b[0m \u001b[38;5;28;01mreturn\u001b[39;00m _read(filepath_or_buffer, kwds)\n",
      "File \u001b[0;32m/opt/anaconda3/lib/python3.11/site-packages/pandas/io/parsers/readers.py:620\u001b[0m, in \u001b[0;36m_read\u001b[0;34m(filepath_or_buffer, kwds)\u001b[0m\n\u001b[1;32m    617\u001b[0m _validate_names(kwds\u001b[38;5;241m.\u001b[39mget(\u001b[38;5;124m\"\u001b[39m\u001b[38;5;124mnames\u001b[39m\u001b[38;5;124m\"\u001b[39m, \u001b[38;5;28;01mNone\u001b[39;00m))\n\u001b[1;32m    619\u001b[0m \u001b[38;5;66;03m# Create the parser.\u001b[39;00m\n\u001b[0;32m--> 620\u001b[0m parser \u001b[38;5;241m=\u001b[39m TextFileReader(filepath_or_buffer, \u001b[38;5;241m*\u001b[39m\u001b[38;5;241m*\u001b[39mkwds)\n\u001b[1;32m    622\u001b[0m \u001b[38;5;28;01mif\u001b[39;00m chunksize \u001b[38;5;129;01mor\u001b[39;00m iterator:\n\u001b[1;32m    623\u001b[0m     \u001b[38;5;28;01mreturn\u001b[39;00m parser\n",
      "File \u001b[0;32m/opt/anaconda3/lib/python3.11/site-packages/pandas/io/parsers/readers.py:1620\u001b[0m, in \u001b[0;36mTextFileReader.__init__\u001b[0;34m(self, f, engine, **kwds)\u001b[0m\n\u001b[1;32m   1617\u001b[0m     \u001b[38;5;28mself\u001b[39m\u001b[38;5;241m.\u001b[39moptions[\u001b[38;5;124m\"\u001b[39m\u001b[38;5;124mhas_index_names\u001b[39m\u001b[38;5;124m\"\u001b[39m] \u001b[38;5;241m=\u001b[39m kwds[\u001b[38;5;124m\"\u001b[39m\u001b[38;5;124mhas_index_names\u001b[39m\u001b[38;5;124m\"\u001b[39m]\n\u001b[1;32m   1619\u001b[0m \u001b[38;5;28mself\u001b[39m\u001b[38;5;241m.\u001b[39mhandles: IOHandles \u001b[38;5;241m|\u001b[39m \u001b[38;5;28;01mNone\u001b[39;00m \u001b[38;5;241m=\u001b[39m \u001b[38;5;28;01mNone\u001b[39;00m\n\u001b[0;32m-> 1620\u001b[0m \u001b[38;5;28mself\u001b[39m\u001b[38;5;241m.\u001b[39m_engine \u001b[38;5;241m=\u001b[39m \u001b[38;5;28mself\u001b[39m\u001b[38;5;241m.\u001b[39m_make_engine(f, \u001b[38;5;28mself\u001b[39m\u001b[38;5;241m.\u001b[39mengine)\n",
      "File \u001b[0;32m/opt/anaconda3/lib/python3.11/site-packages/pandas/io/parsers/readers.py:1880\u001b[0m, in \u001b[0;36mTextFileReader._make_engine\u001b[0;34m(self, f, engine)\u001b[0m\n\u001b[1;32m   1878\u001b[0m     \u001b[38;5;28;01mif\u001b[39;00m \u001b[38;5;124m\"\u001b[39m\u001b[38;5;124mb\u001b[39m\u001b[38;5;124m\"\u001b[39m \u001b[38;5;129;01mnot\u001b[39;00m \u001b[38;5;129;01min\u001b[39;00m mode:\n\u001b[1;32m   1879\u001b[0m         mode \u001b[38;5;241m+\u001b[39m\u001b[38;5;241m=\u001b[39m \u001b[38;5;124m\"\u001b[39m\u001b[38;5;124mb\u001b[39m\u001b[38;5;124m\"\u001b[39m\n\u001b[0;32m-> 1880\u001b[0m \u001b[38;5;28mself\u001b[39m\u001b[38;5;241m.\u001b[39mhandles \u001b[38;5;241m=\u001b[39m get_handle(\n\u001b[1;32m   1881\u001b[0m     f,\n\u001b[1;32m   1882\u001b[0m     mode,\n\u001b[1;32m   1883\u001b[0m     encoding\u001b[38;5;241m=\u001b[39m\u001b[38;5;28mself\u001b[39m\u001b[38;5;241m.\u001b[39moptions\u001b[38;5;241m.\u001b[39mget(\u001b[38;5;124m\"\u001b[39m\u001b[38;5;124mencoding\u001b[39m\u001b[38;5;124m\"\u001b[39m, \u001b[38;5;28;01mNone\u001b[39;00m),\n\u001b[1;32m   1884\u001b[0m     compression\u001b[38;5;241m=\u001b[39m\u001b[38;5;28mself\u001b[39m\u001b[38;5;241m.\u001b[39moptions\u001b[38;5;241m.\u001b[39mget(\u001b[38;5;124m\"\u001b[39m\u001b[38;5;124mcompression\u001b[39m\u001b[38;5;124m\"\u001b[39m, \u001b[38;5;28;01mNone\u001b[39;00m),\n\u001b[1;32m   1885\u001b[0m     memory_map\u001b[38;5;241m=\u001b[39m\u001b[38;5;28mself\u001b[39m\u001b[38;5;241m.\u001b[39moptions\u001b[38;5;241m.\u001b[39mget(\u001b[38;5;124m\"\u001b[39m\u001b[38;5;124mmemory_map\u001b[39m\u001b[38;5;124m\"\u001b[39m, \u001b[38;5;28;01mFalse\u001b[39;00m),\n\u001b[1;32m   1886\u001b[0m     is_text\u001b[38;5;241m=\u001b[39mis_text,\n\u001b[1;32m   1887\u001b[0m     errors\u001b[38;5;241m=\u001b[39m\u001b[38;5;28mself\u001b[39m\u001b[38;5;241m.\u001b[39moptions\u001b[38;5;241m.\u001b[39mget(\u001b[38;5;124m\"\u001b[39m\u001b[38;5;124mencoding_errors\u001b[39m\u001b[38;5;124m\"\u001b[39m, \u001b[38;5;124m\"\u001b[39m\u001b[38;5;124mstrict\u001b[39m\u001b[38;5;124m\"\u001b[39m),\n\u001b[1;32m   1888\u001b[0m     storage_options\u001b[38;5;241m=\u001b[39m\u001b[38;5;28mself\u001b[39m\u001b[38;5;241m.\u001b[39moptions\u001b[38;5;241m.\u001b[39mget(\u001b[38;5;124m\"\u001b[39m\u001b[38;5;124mstorage_options\u001b[39m\u001b[38;5;124m\"\u001b[39m, \u001b[38;5;28;01mNone\u001b[39;00m),\n\u001b[1;32m   1889\u001b[0m )\n\u001b[1;32m   1890\u001b[0m \u001b[38;5;28;01massert\u001b[39;00m \u001b[38;5;28mself\u001b[39m\u001b[38;5;241m.\u001b[39mhandles \u001b[38;5;129;01mis\u001b[39;00m \u001b[38;5;129;01mnot\u001b[39;00m \u001b[38;5;28;01mNone\u001b[39;00m\n\u001b[1;32m   1891\u001b[0m f \u001b[38;5;241m=\u001b[39m \u001b[38;5;28mself\u001b[39m\u001b[38;5;241m.\u001b[39mhandles\u001b[38;5;241m.\u001b[39mhandle\n",
      "File \u001b[0;32m/opt/anaconda3/lib/python3.11/site-packages/pandas/io/common.py:873\u001b[0m, in \u001b[0;36mget_handle\u001b[0;34m(path_or_buf, mode, encoding, compression, memory_map, is_text, errors, storage_options)\u001b[0m\n\u001b[1;32m    868\u001b[0m \u001b[38;5;28;01melif\u001b[39;00m \u001b[38;5;28misinstance\u001b[39m(handle, \u001b[38;5;28mstr\u001b[39m):\n\u001b[1;32m    869\u001b[0m     \u001b[38;5;66;03m# Check whether the filename is to be opened in binary mode.\u001b[39;00m\n\u001b[1;32m    870\u001b[0m     \u001b[38;5;66;03m# Binary mode does not support 'encoding' and 'newline'.\u001b[39;00m\n\u001b[1;32m    871\u001b[0m     \u001b[38;5;28;01mif\u001b[39;00m ioargs\u001b[38;5;241m.\u001b[39mencoding \u001b[38;5;129;01mand\u001b[39;00m \u001b[38;5;124m\"\u001b[39m\u001b[38;5;124mb\u001b[39m\u001b[38;5;124m\"\u001b[39m \u001b[38;5;129;01mnot\u001b[39;00m \u001b[38;5;129;01min\u001b[39;00m ioargs\u001b[38;5;241m.\u001b[39mmode:\n\u001b[1;32m    872\u001b[0m         \u001b[38;5;66;03m# Encoding\u001b[39;00m\n\u001b[0;32m--> 873\u001b[0m         handle \u001b[38;5;241m=\u001b[39m \u001b[38;5;28mopen\u001b[39m(\n\u001b[1;32m    874\u001b[0m             handle,\n\u001b[1;32m    875\u001b[0m             ioargs\u001b[38;5;241m.\u001b[39mmode,\n\u001b[1;32m    876\u001b[0m             encoding\u001b[38;5;241m=\u001b[39mioargs\u001b[38;5;241m.\u001b[39mencoding,\n\u001b[1;32m    877\u001b[0m             errors\u001b[38;5;241m=\u001b[39merrors,\n\u001b[1;32m    878\u001b[0m             newline\u001b[38;5;241m=\u001b[39m\u001b[38;5;124m\"\u001b[39m\u001b[38;5;124m\"\u001b[39m,\n\u001b[1;32m    879\u001b[0m         )\n\u001b[1;32m    880\u001b[0m     \u001b[38;5;28;01melse\u001b[39;00m:\n\u001b[1;32m    881\u001b[0m         \u001b[38;5;66;03m# Binary mode\u001b[39;00m\n\u001b[1;32m    882\u001b[0m         handle \u001b[38;5;241m=\u001b[39m \u001b[38;5;28mopen\u001b[39m(handle, ioargs\u001b[38;5;241m.\u001b[39mmode)\n",
      "\u001b[0;31mFileNotFoundError\u001b[0m: [Errno 2] No such file or directory: '/datasets/games.csv'"
     ]
    }
   ],
   "source": [
    "import pandas as pd\n",
    "import seaborn as sns\n",
    "import matplotlib.pyplot as plt\n",
    "import numpy as np\n",
    "\n",
    "try:\n",
    "    data = pd.read_csv('/games.csv',sep=',')\n",
    "except:\n",
    "    data = pd.read_csv('/datasets/games.csv',sep=',')"
   ]
  },
  {
   "cell_type": "code",
   "execution_count": null,
   "metadata": {},
   "outputs": [],
   "source": [
    "data.info()\n",
    "print('Количество строк на момент загрузки файла:',data.shape[0])\n",
    "data.head(10)"
   ]
  },
  {
   "cell_type": "markdown",
   "metadata": {},
   "source": [
    "**Промежуточный вывод:**\n",
    "1) В данных необходимо заменить название столбцов (привести все к нижнему регистру)\n",
    "2) Заполнить Nan-значения там, где это возможно\n",
    "3) Проверить данные на дубликаты в столбце \"Название игры\"\n",
    "4) Изменить тип данных в столбцах (Например, в столбце \"Год релиза\" поменять тип данных с float на int)\n",
    "5) Просмотреть текстовые данные на возможные опечатки"
   ]
  },
  {
   "cell_type": "markdown",
   "metadata": {},
   "source": [
    "## 2. Предобработка данных"
   ]
  },
  {
   "cell_type": "markdown",
   "metadata": {},
   "source": [
    "### 2.1. Переименование столбцов"
   ]
  },
  {
   "cell_type": "code",
   "execution_count": 3,
   "metadata": {},
   "outputs": [
    {
     "data": {
      "text/plain": [
       "['Name',\n",
       " 'Platform',\n",
       " 'Year_of_Release',\n",
       " 'Genre',\n",
       " 'NA_sales',\n",
       " 'EU_sales',\n",
       " 'JP_sales',\n",
       " 'Other_sales',\n",
       " 'Critic_Score',\n",
       " 'User_Score',\n",
       " 'Rating']"
      ]
     },
     "execution_count": 3,
     "metadata": {},
     "output_type": "execute_result"
    }
   ],
   "source": [
    "list(data) #выведем отдельно названия столбцов"
   ]
  },
  {
   "cell_type": "markdown",
   "metadata": {},
   "source": [
    "Как можно заметить, большинство все столбцы имееют верхний регистр. Поэтому используем функцию замены названий \"data.columns\"."
   ]
  },
  {
   "cell_type": "code",
   "execution_count": 4,
   "metadata": {},
   "outputs": [],
   "source": [
    "data.columns = [\n",
    "    'name',\n",
    "    'platform',\n",
    "    'year_of_release',\n",
    "    'genre',\n",
    "    'na_sales',\n",
    "    'eu_sales',\n",
    "    'jp_sales',\n",
    "    'other_sales',\n",
    "    'critic_score',\n",
    "    'user_score',\n",
    "    'rating']"
   ]
  },
  {
   "cell_type": "markdown",
   "metadata": {},
   "source": [
    "Выведем список ещё раз и убедимся, что все названия изменены:"
   ]
  },
  {
   "cell_type": "code",
   "execution_count": 5,
   "metadata": {},
   "outputs": [
    {
     "data": {
      "text/plain": [
       "['name',\n",
       " 'platform',\n",
       " 'year_of_release',\n",
       " 'genre',\n",
       " 'na_sales',\n",
       " 'eu_sales',\n",
       " 'jp_sales',\n",
       " 'other_sales',\n",
       " 'critic_score',\n",
       " 'user_score',\n",
       " 'rating']"
      ]
     },
     "execution_count": 5,
     "metadata": {},
     "output_type": "execute_result"
    }
   ],
   "source": [
    "list(data)"
   ]
  },
  {
   "cell_type": "markdown",
   "metadata": {},
   "source": [
    "### 2.2. Предобработка дубликатов и пропусков"
   ]
  },
  {
   "cell_type": "markdown",
   "metadata": {},
   "source": [
    "#### 2.2.1. Предобработка пропусков"
   ]
  },
  {
   "cell_type": "code",
   "execution_count": 6,
   "metadata": {},
   "outputs": [
    {
     "name": "stdout",
     "output_type": "stream",
     "text": [
      "<class 'pandas.core.frame.DataFrame'>\n",
      "RangeIndex: 16715 entries, 0 to 16714\n",
      "Data columns (total 11 columns):\n",
      " #   Column           Non-Null Count  Dtype  \n",
      "---  ------           --------------  -----  \n",
      " 0   name             16713 non-null  object \n",
      " 1   platform         16715 non-null  object \n",
      " 2   year_of_release  16446 non-null  float64\n",
      " 3   genre            16713 non-null  object \n",
      " 4   na_sales         16715 non-null  float64\n",
      " 5   eu_sales         16715 non-null  float64\n",
      " 6   jp_sales         16715 non-null  float64\n",
      " 7   other_sales      16715 non-null  float64\n",
      " 8   critic_score     8137 non-null   float64\n",
      " 9   user_score       10014 non-null  object \n",
      " 10  rating           9949 non-null   object \n",
      "dtypes: float64(6), object(5)\n",
      "memory usage: 1.4+ MB\n"
     ]
    }
   ],
   "source": [
    "data.info()"
   ]
  },
  {
   "cell_type": "code",
   "execution_count": 7,
   "metadata": {},
   "outputs": [
    {
     "data": {
      "text/plain": [
       "name                  2\n",
       "platform              0\n",
       "year_of_release     269\n",
       "genre                 2\n",
       "na_sales              0\n",
       "eu_sales              0\n",
       "jp_sales              0\n",
       "other_sales           0\n",
       "critic_score       8578\n",
       "user_score         6701\n",
       "rating             6766\n",
       "dtype: int64"
      ]
     },
     "execution_count": 7,
     "metadata": {},
     "output_type": "execute_result"
    }
   ],
   "source": [
    "data.isna().sum()#посмотрим на общее кол-во пустных значений в данных через фукнцию isna()"
   ]
  },
  {
   "cell_type": "markdown",
   "metadata": {},
   "source": [
    "В столбце с названием игр содержится всего 2 пропуска. Выведем эти 2 строки."
   ]
  },
  {
   "cell_type": "code",
   "execution_count": 8,
   "metadata": {},
   "outputs": [
    {
     "data": {
      "text/html": [
       "<div>\n",
       "<style scoped>\n",
       "    .dataframe tbody tr th:only-of-type {\n",
       "        vertical-align: middle;\n",
       "    }\n",
       "\n",
       "    .dataframe tbody tr th {\n",
       "        vertical-align: top;\n",
       "    }\n",
       "\n",
       "    .dataframe thead th {\n",
       "        text-align: right;\n",
       "    }\n",
       "</style>\n",
       "<table border=\"1\" class=\"dataframe\">\n",
       "  <thead>\n",
       "    <tr style=\"text-align: right;\">\n",
       "      <th></th>\n",
       "      <th>name</th>\n",
       "      <th>platform</th>\n",
       "      <th>year_of_release</th>\n",
       "      <th>genre</th>\n",
       "      <th>na_sales</th>\n",
       "      <th>eu_sales</th>\n",
       "      <th>jp_sales</th>\n",
       "      <th>other_sales</th>\n",
       "      <th>critic_score</th>\n",
       "      <th>user_score</th>\n",
       "      <th>rating</th>\n",
       "    </tr>\n",
       "  </thead>\n",
       "  <tbody>\n",
       "    <tr>\n",
       "      <th>659</th>\n",
       "      <td>NaN</td>\n",
       "      <td>GEN</td>\n",
       "      <td>1993.0</td>\n",
       "      <td>NaN</td>\n",
       "      <td>1.78</td>\n",
       "      <td>0.53</td>\n",
       "      <td>0.00</td>\n",
       "      <td>0.08</td>\n",
       "      <td>NaN</td>\n",
       "      <td>NaN</td>\n",
       "      <td>NaN</td>\n",
       "    </tr>\n",
       "    <tr>\n",
       "      <th>14244</th>\n",
       "      <td>NaN</td>\n",
       "      <td>GEN</td>\n",
       "      <td>1993.0</td>\n",
       "      <td>NaN</td>\n",
       "      <td>0.00</td>\n",
       "      <td>0.00</td>\n",
       "      <td>0.03</td>\n",
       "      <td>0.00</td>\n",
       "      <td>NaN</td>\n",
       "      <td>NaN</td>\n",
       "      <td>NaN</td>\n",
       "    </tr>\n",
       "  </tbody>\n",
       "</table>\n",
       "</div>"
      ],
      "text/plain": [
       "      name platform  year_of_release genre  na_sales  eu_sales  jp_sales  \\\n",
       "659    NaN      GEN           1993.0   NaN      1.78      0.53      0.00   \n",
       "14244  NaN      GEN           1993.0   NaN      0.00      0.00      0.03   \n",
       "\n",
       "       other_sales  critic_score user_score rating  \n",
       "659           0.08           NaN        NaN    NaN  \n",
       "14244         0.00           NaN        NaN    NaN  "
      ]
     },
     "execution_count": 8,
     "metadata": {},
     "output_type": "execute_result"
    }
   ],
   "source": [
    "data[data['name'].isnull()]"
   ]
  },
  {
   "cell_type": "markdown",
   "metadata": {},
   "source": [
    "Просуски в данном случае полностью случайны. Об этих неизвестных играх мы можем только узнать, что они обе выпущены на платформу Sega и они 1993 года выпуска. Удалим пропуски с играми без названий, так как эти данные не помуг нам при дальнейших расчётах."
   ]
  },
  {
   "cell_type": "code",
   "execution_count": 9,
   "metadata": {},
   "outputs": [
    {
     "name": "stdout",
     "output_type": "stream",
     "text": [
      "<class 'pandas.core.frame.DataFrame'>\n",
      "Int64Index: 16713 entries, 0 to 16714\n",
      "Data columns (total 11 columns):\n",
      " #   Column           Non-Null Count  Dtype  \n",
      "---  ------           --------------  -----  \n",
      " 0   name             16713 non-null  object \n",
      " 1   platform         16713 non-null  object \n",
      " 2   year_of_release  16444 non-null  float64\n",
      " 3   genre            16713 non-null  object \n",
      " 4   na_sales         16713 non-null  float64\n",
      " 5   eu_sales         16713 non-null  float64\n",
      " 6   jp_sales         16713 non-null  float64\n",
      " 7   other_sales      16713 non-null  float64\n",
      " 8   critic_score     8137 non-null   float64\n",
      " 9   user_score       10014 non-null  object \n",
      " 10  rating           9949 non-null   object \n",
      "dtypes: float64(6), object(5)\n",
      "memory usage: 1.5+ MB\n"
     ]
    }
   ],
   "source": [
    "data = data.dropna(subset=['name'])\n",
    "data.info()"
   ]
  },
  {
   "cell_type": "markdown",
   "metadata": {},
   "source": [
    "В столбце `year_of_release` содержит 269 пропусков, исследуем его."
   ]
  },
  {
   "cell_type": "code",
   "execution_count": 10,
   "metadata": {},
   "outputs": [
    {
     "data": {
      "text/html": [
       "<div>\n",
       "<style scoped>\n",
       "    .dataframe tbody tr th:only-of-type {\n",
       "        vertical-align: middle;\n",
       "    }\n",
       "\n",
       "    .dataframe tbody tr th {\n",
       "        vertical-align: top;\n",
       "    }\n",
       "\n",
       "    .dataframe thead th {\n",
       "        text-align: right;\n",
       "    }\n",
       "</style>\n",
       "<table border=\"1\" class=\"dataframe\">\n",
       "  <thead>\n",
       "    <tr style=\"text-align: right;\">\n",
       "      <th></th>\n",
       "      <th>name</th>\n",
       "      <th>platform</th>\n",
       "      <th>year_of_release</th>\n",
       "      <th>genre</th>\n",
       "      <th>na_sales</th>\n",
       "      <th>eu_sales</th>\n",
       "      <th>jp_sales</th>\n",
       "      <th>other_sales</th>\n",
       "      <th>critic_score</th>\n",
       "      <th>user_score</th>\n",
       "      <th>rating</th>\n",
       "    </tr>\n",
       "  </thead>\n",
       "  <tbody>\n",
       "    <tr>\n",
       "      <th>183</th>\n",
       "      <td>Madden NFL 2004</td>\n",
       "      <td>PS2</td>\n",
       "      <td>NaN</td>\n",
       "      <td>Sports</td>\n",
       "      <td>4.26</td>\n",
       "      <td>0.26</td>\n",
       "      <td>0.01</td>\n",
       "      <td>0.71</td>\n",
       "      <td>94.0</td>\n",
       "      <td>8.5</td>\n",
       "      <td>E</td>\n",
       "    </tr>\n",
       "    <tr>\n",
       "      <th>377</th>\n",
       "      <td>FIFA Soccer 2004</td>\n",
       "      <td>PS2</td>\n",
       "      <td>NaN</td>\n",
       "      <td>Sports</td>\n",
       "      <td>0.59</td>\n",
       "      <td>2.36</td>\n",
       "      <td>0.04</td>\n",
       "      <td>0.51</td>\n",
       "      <td>84.0</td>\n",
       "      <td>6.4</td>\n",
       "      <td>E</td>\n",
       "    </tr>\n",
       "    <tr>\n",
       "      <th>456</th>\n",
       "      <td>LEGO Batman: The Videogame</td>\n",
       "      <td>Wii</td>\n",
       "      <td>NaN</td>\n",
       "      <td>Action</td>\n",
       "      <td>1.80</td>\n",
       "      <td>0.97</td>\n",
       "      <td>0.00</td>\n",
       "      <td>0.29</td>\n",
       "      <td>74.0</td>\n",
       "      <td>7.9</td>\n",
       "      <td>E10+</td>\n",
       "    </tr>\n",
       "    <tr>\n",
       "      <th>475</th>\n",
       "      <td>wwe Smackdown vs. Raw 2006</td>\n",
       "      <td>PS2</td>\n",
       "      <td>NaN</td>\n",
       "      <td>Fighting</td>\n",
       "      <td>1.57</td>\n",
       "      <td>1.02</td>\n",
       "      <td>0.00</td>\n",
       "      <td>0.41</td>\n",
       "      <td>NaN</td>\n",
       "      <td>NaN</td>\n",
       "      <td>NaN</td>\n",
       "    </tr>\n",
       "    <tr>\n",
       "      <th>609</th>\n",
       "      <td>Space Invaders</td>\n",
       "      <td>2600</td>\n",
       "      <td>NaN</td>\n",
       "      <td>Shooter</td>\n",
       "      <td>2.36</td>\n",
       "      <td>0.14</td>\n",
       "      <td>0.00</td>\n",
       "      <td>0.03</td>\n",
       "      <td>NaN</td>\n",
       "      <td>NaN</td>\n",
       "      <td>NaN</td>\n",
       "    </tr>\n",
       "    <tr>\n",
       "      <th>...</th>\n",
       "      <td>...</td>\n",
       "      <td>...</td>\n",
       "      <td>...</td>\n",
       "      <td>...</td>\n",
       "      <td>...</td>\n",
       "      <td>...</td>\n",
       "      <td>...</td>\n",
       "      <td>...</td>\n",
       "      <td>...</td>\n",
       "      <td>...</td>\n",
       "      <td>...</td>\n",
       "    </tr>\n",
       "    <tr>\n",
       "      <th>16373</th>\n",
       "      <td>PDC World Championship Darts 2008</td>\n",
       "      <td>PSP</td>\n",
       "      <td>NaN</td>\n",
       "      <td>Sports</td>\n",
       "      <td>0.01</td>\n",
       "      <td>0.00</td>\n",
       "      <td>0.00</td>\n",
       "      <td>0.00</td>\n",
       "      <td>43.0</td>\n",
       "      <td>tbd</td>\n",
       "      <td>E10+</td>\n",
       "    </tr>\n",
       "    <tr>\n",
       "      <th>16405</th>\n",
       "      <td>Freaky Flyers</td>\n",
       "      <td>GC</td>\n",
       "      <td>NaN</td>\n",
       "      <td>Racing</td>\n",
       "      <td>0.01</td>\n",
       "      <td>0.00</td>\n",
       "      <td>0.00</td>\n",
       "      <td>0.00</td>\n",
       "      <td>69.0</td>\n",
       "      <td>6.5</td>\n",
       "      <td>T</td>\n",
       "    </tr>\n",
       "    <tr>\n",
       "      <th>16448</th>\n",
       "      <td>Inversion</td>\n",
       "      <td>PC</td>\n",
       "      <td>NaN</td>\n",
       "      <td>Shooter</td>\n",
       "      <td>0.01</td>\n",
       "      <td>0.00</td>\n",
       "      <td>0.00</td>\n",
       "      <td>0.00</td>\n",
       "      <td>59.0</td>\n",
       "      <td>6.7</td>\n",
       "      <td>M</td>\n",
       "    </tr>\n",
       "    <tr>\n",
       "      <th>16458</th>\n",
       "      <td>Hakuouki: Shinsengumi Kitan</td>\n",
       "      <td>PS3</td>\n",
       "      <td>NaN</td>\n",
       "      <td>Adventure</td>\n",
       "      <td>0.01</td>\n",
       "      <td>0.00</td>\n",
       "      <td>0.00</td>\n",
       "      <td>0.00</td>\n",
       "      <td>NaN</td>\n",
       "      <td>NaN</td>\n",
       "      <td>NaN</td>\n",
       "    </tr>\n",
       "    <tr>\n",
       "      <th>16522</th>\n",
       "      <td>Virtua Quest</td>\n",
       "      <td>GC</td>\n",
       "      <td>NaN</td>\n",
       "      <td>Role-Playing</td>\n",
       "      <td>0.01</td>\n",
       "      <td>0.00</td>\n",
       "      <td>0.00</td>\n",
       "      <td>0.00</td>\n",
       "      <td>55.0</td>\n",
       "      <td>5.5</td>\n",
       "      <td>T</td>\n",
       "    </tr>\n",
       "  </tbody>\n",
       "</table>\n",
       "<p>269 rows × 11 columns</p>\n",
       "</div>"
      ],
      "text/plain": [
       "                                    name platform  year_of_release  \\\n",
       "183                      Madden NFL 2004      PS2              NaN   \n",
       "377                     FIFA Soccer 2004      PS2              NaN   \n",
       "456           LEGO Batman: The Videogame      Wii              NaN   \n",
       "475           wwe Smackdown vs. Raw 2006      PS2              NaN   \n",
       "609                       Space Invaders     2600              NaN   \n",
       "...                                  ...      ...              ...   \n",
       "16373  PDC World Championship Darts 2008      PSP              NaN   \n",
       "16405                      Freaky Flyers       GC              NaN   \n",
       "16448                          Inversion       PC              NaN   \n",
       "16458        Hakuouki: Shinsengumi Kitan      PS3              NaN   \n",
       "16522                       Virtua Quest       GC              NaN   \n",
       "\n",
       "              genre  na_sales  eu_sales  jp_sales  other_sales  critic_score  \\\n",
       "183          Sports      4.26      0.26      0.01         0.71          94.0   \n",
       "377          Sports      0.59      2.36      0.04         0.51          84.0   \n",
       "456          Action      1.80      0.97      0.00         0.29          74.0   \n",
       "475        Fighting      1.57      1.02      0.00         0.41           NaN   \n",
       "609         Shooter      2.36      0.14      0.00         0.03           NaN   \n",
       "...             ...       ...       ...       ...          ...           ...   \n",
       "16373        Sports      0.01      0.00      0.00         0.00          43.0   \n",
       "16405        Racing      0.01      0.00      0.00         0.00          69.0   \n",
       "16448       Shooter      0.01      0.00      0.00         0.00          59.0   \n",
       "16458     Adventure      0.01      0.00      0.00         0.00           NaN   \n",
       "16522  Role-Playing      0.01      0.00      0.00         0.00          55.0   \n",
       "\n",
       "      user_score rating  \n",
       "183          8.5      E  \n",
       "377          6.4      E  \n",
       "456          7.9   E10+  \n",
       "475          NaN    NaN  \n",
       "609          NaN    NaN  \n",
       "...          ...    ...  \n",
       "16373        tbd   E10+  \n",
       "16405        6.5      T  \n",
       "16448        6.7      M  \n",
       "16458        NaN    NaN  \n",
       "16522        5.5      T  \n",
       "\n",
       "[269 rows x 11 columns]"
      ]
     },
     "execution_count": 10,
     "metadata": {},
     "output_type": "execute_result"
    }
   ],
   "source": [
    "data[data['year_of_release'].isnull()]"
   ]
  },
  {
   "cell_type": "markdown",
   "metadata": {},
   "source": [
    "В данном случае также можно удалить пропуски в столбце. Мы не можем никак заполнить значения, так как каждая игра могла появиться на рынке в любой год в  зависимости от платформы и жанра. Например, Fifa выпускает версию всегда на \"год вперед\" (Fifa 2004 вышла в 2003 году). В случае с Space Invaders дата выхода - 1978 году на картрижной платформе 2600, которая сейчас не имеет популярности.\\\n",
    "\\\n",
    "Следуя из перечисленных выше довыдов, удалим пропуски в столбце 'year_of_release'."
   ]
  },
  {
   "cell_type": "code",
   "execution_count": 11,
   "metadata": {},
   "outputs": [
    {
     "data": {
      "text/plain": [
       "name                  0\n",
       "platform              0\n",
       "year_of_release       0\n",
       "genre                 0\n",
       "na_sales              0\n",
       "eu_sales              0\n",
       "jp_sales              0\n",
       "other_sales           0\n",
       "critic_score       8461\n",
       "user_score         6605\n",
       "rating             6676\n",
       "dtype: int64"
      ]
     },
     "execution_count": 11,
     "metadata": {},
     "output_type": "execute_result"
    }
   ],
   "source": [
    "data = data.dropna(subset=['year_of_release'])\n",
    "data.isna().sum() #заодно совпало с удалением пропусков в столбце жанра"
   ]
  },
  {
   "cell_type": "markdown",
   "metadata": {},
   "source": [
    "Теперь разберемся со столбцом 'rating'. Выведем уникальные значения столбца и выясним какие там данные хранятся."
   ]
  },
  {
   "cell_type": "code",
   "execution_count": 12,
   "metadata": {},
   "outputs": [
    {
     "data": {
      "text/plain": [
       "array(['E', nan, 'M', 'T', 'E10+', 'K-A', 'AO', 'EC', 'RP'], dtype=object)"
      ]
     },
     "execution_count": 12,
     "metadata": {},
     "output_type": "execute_result"
    }
   ],
   "source": [
    "data['rating'].unique()"
   ]
  },
  {
   "cell_type": "markdown",
   "metadata": {},
   "source": [
    "В столбце содержится 6676 пропусков, что слишком много.\\\n",
    "\\\n",
    "Как было выяснено из статьи, рейтинг ESRB присвается играм по наличию ненормативной лексики, насилия и другим условиям, чтобы дети не видели всего ужаса. Но есть предположение, что пропуски можно заменить на значение RP - категория ещё не присвоена.\\\n",
    "\\\n",
    "Рассмотрим строки, содержащие пропуски:"
   ]
  },
  {
   "cell_type": "markdown",
   "metadata": {},
   "source": [
    "**Тщательно изучив вопрос, никак нельзя заполнить Nan-значения рейтингом RP**\n",
    "\n",
    "<div style=\"border-radius: 15px; box-shadow: 2px 2px 4px; border: 1px solid; background:#bdc3c7; position: relative; padding: 15px; padding-left: 50px;\">\n",
    "    <b>Объяснение:</b>\n",
    "    \n",
    "К рейтингу часто приписываются краткие пояснения, которые призваны обосновать его. Эти пояснения можно найти на обратной стороне коробки с игрой (http://www.gamer.ru/everything/reytingi-esrb-ot-a-do-ya).\n",
    "\n",
    "<b>1 причина</b>.\n",
    "    \n",
    "    Игры, представленные выше уже вышли в релиз и не стоят на очереди на получение рейтинга. Игре не\n",
    "    присвоен именно ESRB рейтинг, так как игра является открытой для любого пользователя.\n",
    "    \n",
    "(Пример, Тетрис 1989 года - https://gamefaqs.gamespot.com/gameboy/585960-tetris/data?validate=1)\n",
    "    \n",
    "<b>2 причина</b>.\n",
    "    \n",
    "    Игра выпущена локально и не имеет рейтинга ESRB в принципе. Например, Haitaka no Psychedelica судя \n",
    "    по данным имеет продажи только в Японии и в открытых источниках можно увидеть, что имеет рейтинг \n",
    "    CERO (Computer Entertainment Rating Organization)."
   ]
  },
  {
   "cell_type": "code",
   "execution_count": 13,
   "metadata": {},
   "outputs": [
    {
     "data": {
      "text/html": [
       "<div>\n",
       "<style scoped>\n",
       "    .dataframe tbody tr th:only-of-type {\n",
       "        vertical-align: middle;\n",
       "    }\n",
       "\n",
       "    .dataframe tbody tr th {\n",
       "        vertical-align: top;\n",
       "    }\n",
       "\n",
       "    .dataframe thead th {\n",
       "        text-align: right;\n",
       "    }\n",
       "</style>\n",
       "<table border=\"1\" class=\"dataframe\">\n",
       "  <thead>\n",
       "    <tr style=\"text-align: right;\">\n",
       "      <th></th>\n",
       "      <th>name</th>\n",
       "      <th>platform</th>\n",
       "      <th>year_of_release</th>\n",
       "      <th>genre</th>\n",
       "      <th>na_sales</th>\n",
       "      <th>eu_sales</th>\n",
       "      <th>jp_sales</th>\n",
       "      <th>other_sales</th>\n",
       "      <th>critic_score</th>\n",
       "      <th>user_score</th>\n",
       "      <th>rating</th>\n",
       "    </tr>\n",
       "  </thead>\n",
       "  <tbody>\n",
       "    <tr>\n",
       "      <th>1</th>\n",
       "      <td>Super Mario Bros.</td>\n",
       "      <td>NES</td>\n",
       "      <td>1985.0</td>\n",
       "      <td>Platform</td>\n",
       "      <td>29.08</td>\n",
       "      <td>3.58</td>\n",
       "      <td>6.81</td>\n",
       "      <td>0.77</td>\n",
       "      <td>NaN</td>\n",
       "      <td>NaN</td>\n",
       "      <td>NaN</td>\n",
       "    </tr>\n",
       "    <tr>\n",
       "      <th>4</th>\n",
       "      <td>Pokemon Red/Pokemon Blue</td>\n",
       "      <td>GB</td>\n",
       "      <td>1996.0</td>\n",
       "      <td>Role-Playing</td>\n",
       "      <td>11.27</td>\n",
       "      <td>8.89</td>\n",
       "      <td>10.22</td>\n",
       "      <td>1.00</td>\n",
       "      <td>NaN</td>\n",
       "      <td>NaN</td>\n",
       "      <td>NaN</td>\n",
       "    </tr>\n",
       "    <tr>\n",
       "      <th>5</th>\n",
       "      <td>Tetris</td>\n",
       "      <td>GB</td>\n",
       "      <td>1989.0</td>\n",
       "      <td>Puzzle</td>\n",
       "      <td>23.20</td>\n",
       "      <td>2.26</td>\n",
       "      <td>4.22</td>\n",
       "      <td>0.58</td>\n",
       "      <td>NaN</td>\n",
       "      <td>NaN</td>\n",
       "      <td>NaN</td>\n",
       "    </tr>\n",
       "    <tr>\n",
       "      <th>9</th>\n",
       "      <td>Duck Hunt</td>\n",
       "      <td>NES</td>\n",
       "      <td>1984.0</td>\n",
       "      <td>Shooter</td>\n",
       "      <td>26.93</td>\n",
       "      <td>0.63</td>\n",
       "      <td>0.28</td>\n",
       "      <td>0.47</td>\n",
       "      <td>NaN</td>\n",
       "      <td>NaN</td>\n",
       "      <td>NaN</td>\n",
       "    </tr>\n",
       "    <tr>\n",
       "      <th>10</th>\n",
       "      <td>Nintendogs</td>\n",
       "      <td>DS</td>\n",
       "      <td>2005.0</td>\n",
       "      <td>Simulation</td>\n",
       "      <td>9.05</td>\n",
       "      <td>10.95</td>\n",
       "      <td>1.93</td>\n",
       "      <td>2.74</td>\n",
       "      <td>NaN</td>\n",
       "      <td>NaN</td>\n",
       "      <td>NaN</td>\n",
       "    </tr>\n",
       "    <tr>\n",
       "      <th>...</th>\n",
       "      <td>...</td>\n",
       "      <td>...</td>\n",
       "      <td>...</td>\n",
       "      <td>...</td>\n",
       "      <td>...</td>\n",
       "      <td>...</td>\n",
       "      <td>...</td>\n",
       "      <td>...</td>\n",
       "      <td>...</td>\n",
       "      <td>...</td>\n",
       "      <td>...</td>\n",
       "    </tr>\n",
       "    <tr>\n",
       "      <th>16710</th>\n",
       "      <td>Samurai Warriors: Sanada Maru</td>\n",
       "      <td>PS3</td>\n",
       "      <td>2016.0</td>\n",
       "      <td>Action</td>\n",
       "      <td>0.00</td>\n",
       "      <td>0.00</td>\n",
       "      <td>0.01</td>\n",
       "      <td>0.00</td>\n",
       "      <td>NaN</td>\n",
       "      <td>NaN</td>\n",
       "      <td>NaN</td>\n",
       "    </tr>\n",
       "    <tr>\n",
       "      <th>16711</th>\n",
       "      <td>LMA Manager 2007</td>\n",
       "      <td>X360</td>\n",
       "      <td>2006.0</td>\n",
       "      <td>Sports</td>\n",
       "      <td>0.00</td>\n",
       "      <td>0.01</td>\n",
       "      <td>0.00</td>\n",
       "      <td>0.00</td>\n",
       "      <td>NaN</td>\n",
       "      <td>NaN</td>\n",
       "      <td>NaN</td>\n",
       "    </tr>\n",
       "    <tr>\n",
       "      <th>16712</th>\n",
       "      <td>Haitaka no Psychedelica</td>\n",
       "      <td>PSV</td>\n",
       "      <td>2016.0</td>\n",
       "      <td>Adventure</td>\n",
       "      <td>0.00</td>\n",
       "      <td>0.00</td>\n",
       "      <td>0.01</td>\n",
       "      <td>0.00</td>\n",
       "      <td>NaN</td>\n",
       "      <td>NaN</td>\n",
       "      <td>NaN</td>\n",
       "    </tr>\n",
       "    <tr>\n",
       "      <th>16713</th>\n",
       "      <td>Spirits &amp; Spells</td>\n",
       "      <td>GBA</td>\n",
       "      <td>2003.0</td>\n",
       "      <td>Platform</td>\n",
       "      <td>0.01</td>\n",
       "      <td>0.00</td>\n",
       "      <td>0.00</td>\n",
       "      <td>0.00</td>\n",
       "      <td>NaN</td>\n",
       "      <td>NaN</td>\n",
       "      <td>NaN</td>\n",
       "    </tr>\n",
       "    <tr>\n",
       "      <th>16714</th>\n",
       "      <td>Winning Post 8 2016</td>\n",
       "      <td>PSV</td>\n",
       "      <td>2016.0</td>\n",
       "      <td>Simulation</td>\n",
       "      <td>0.00</td>\n",
       "      <td>0.00</td>\n",
       "      <td>0.01</td>\n",
       "      <td>0.00</td>\n",
       "      <td>NaN</td>\n",
       "      <td>NaN</td>\n",
       "      <td>NaN</td>\n",
       "    </tr>\n",
       "  </tbody>\n",
       "</table>\n",
       "<p>6676 rows × 11 columns</p>\n",
       "</div>"
      ],
      "text/plain": [
       "                                name platform  year_of_release         genre  \\\n",
       "1                  Super Mario Bros.      NES           1985.0      Platform   \n",
       "4           Pokemon Red/Pokemon Blue       GB           1996.0  Role-Playing   \n",
       "5                             Tetris       GB           1989.0        Puzzle   \n",
       "9                          Duck Hunt      NES           1984.0       Shooter   \n",
       "10                        Nintendogs       DS           2005.0    Simulation   \n",
       "...                              ...      ...              ...           ...   \n",
       "16710  Samurai Warriors: Sanada Maru      PS3           2016.0        Action   \n",
       "16711               LMA Manager 2007     X360           2006.0        Sports   \n",
       "16712        Haitaka no Psychedelica      PSV           2016.0     Adventure   \n",
       "16713               Spirits & Spells      GBA           2003.0      Platform   \n",
       "16714            Winning Post 8 2016      PSV           2016.0    Simulation   \n",
       "\n",
       "       na_sales  eu_sales  jp_sales  other_sales  critic_score user_score  \\\n",
       "1         29.08      3.58      6.81         0.77           NaN        NaN   \n",
       "4         11.27      8.89     10.22         1.00           NaN        NaN   \n",
       "5         23.20      2.26      4.22         0.58           NaN        NaN   \n",
       "9         26.93      0.63      0.28         0.47           NaN        NaN   \n",
       "10         9.05     10.95      1.93         2.74           NaN        NaN   \n",
       "...         ...       ...       ...          ...           ...        ...   \n",
       "16710      0.00      0.00      0.01         0.00           NaN        NaN   \n",
       "16711      0.00      0.01      0.00         0.00           NaN        NaN   \n",
       "16712      0.00      0.00      0.01         0.00           NaN        NaN   \n",
       "16713      0.01      0.00      0.00         0.00           NaN        NaN   \n",
       "16714      0.00      0.00      0.01         0.00           NaN        NaN   \n",
       "\n",
       "      rating  \n",
       "1        NaN  \n",
       "4        NaN  \n",
       "5        NaN  \n",
       "9        NaN  \n",
       "10       NaN  \n",
       "...      ...  \n",
       "16710    NaN  \n",
       "16711    NaN  \n",
       "16712    NaN  \n",
       "16713    NaN  \n",
       "16714    NaN  \n",
       "\n",
       "[6676 rows x 11 columns]"
      ]
     },
     "execution_count": 13,
     "metadata": {},
     "output_type": "execute_result"
    }
   ],
   "source": [
    "data[data['rating'].isnull()]"
   ]
  },
  {
   "cell_type": "code",
   "execution_count": 14,
   "metadata": {},
   "outputs": [
    {
     "data": {
      "text/plain": [
       "array(['E', 'without', 'M', 'T', 'E10+', 'K-A', 'AO', 'EC', 'RP'],\n",
       "      dtype=object)"
      ]
     },
     "execution_count": 14,
     "metadata": {},
     "output_type": "execute_result"
    }
   ],
   "source": [
    "#заменим nan-значения на without, так как рейтинг может быть не определен по разным\n",
    "#причинам (еще не определен, игра разрешена для всех)\n",
    "data['rating'] = data['rating'].fillna('without')\n",
    "data['rating'].unique()"
   ]
  },
  {
   "cell_type": "markdown",
   "metadata": {},
   "source": [
    "Пропуски в остальных столбцах мы не сможем удалить, так как это сильно отобразиться на конечных выводах и расчётах в целом. Поэтому пустые значения мы оставим как есть. В исследовательском анализе мы не будем использовать эти данные, а при проверке гипотез используем только имеющиеся данные."
   ]
  },
  {
   "cell_type": "code",
   "execution_count": 15,
   "metadata": {},
   "outputs": [
    {
     "data": {
      "text/plain": [
       "16444"
      ]
     },
     "execution_count": 15,
     "metadata": {},
     "output_type": "execute_result"
    }
   ],
   "source": [
    "data.shape[0]#выведем кол-во строк после заполнения пропусков\n",
    "#общее кол-во строк сократилось на 271 строку"
   ]
  },
  {
   "cell_type": "markdown",
   "metadata": {},
   "source": [
    "#### 2.2.2. Предобработка дубликатов"
   ]
  },
  {
   "cell_type": "markdown",
   "metadata": {},
   "source": [
    "Проверим данные на наличие дубликатов методом duplicated().sum()"
   ]
  },
  {
   "cell_type": "code",
   "execution_count": 16,
   "metadata": {},
   "outputs": [
    {
     "data": {
      "text/plain": [
       "0"
      ]
     },
     "execution_count": 16,
     "metadata": {},
     "output_type": "execute_result"
    }
   ],
   "source": [
    "data.duplicated().sum()#увы, дубликатов не обнаружено"
   ]
  },
  {
   "cell_type": "markdown",
   "metadata": {},
   "source": [
    "Теперь проверим вторым способом, вызвав метод value_counts() в столбцах, где могут встретиться дубликаты. Такими столбцами могут быть: name, platform, genre."
   ]
  },
  {
   "cell_type": "code",
   "execution_count": 17,
   "metadata": {},
   "outputs": [
    {
     "data": {
      "text/plain": [
       "action          3307\n",
       "sports          2306\n",
       "misc            1721\n",
       "role-playing    1481\n",
       "shooter         1296\n",
       "adventure       1293\n",
       "racing          1226\n",
       "platform         878\n",
       "simulation       857\n",
       "fighting         837\n",
       "strategy         673\n",
       "puzzle           569\n",
       "Name: genre, dtype: int64"
      ]
     },
     "execution_count": 17,
     "metadata": {},
     "output_type": "execute_result"
    }
   ],
   "source": [
    "data['genre'] = data['genre'].str.lower()#приведем жанр к нижнему регистру и проверим на дубликаты\n",
    "data['genre'].value_counts()"
   ]
  },
  {
   "cell_type": "code",
   "execution_count": 18,
   "metadata": {},
   "outputs": [
    {
     "data": {
      "text/plain": [
       "PS2     2127\n",
       "DS      2121\n",
       "PS3     1306\n",
       "Wii     1286\n",
       "X360    1232\n",
       "PSP     1193\n",
       "PS      1190\n",
       "PC       957\n",
       "GBA      811\n",
       "XB       803\n",
       "GC       542\n",
       "3DS      512\n",
       "PSV      429\n",
       "PS4      392\n",
       "N64      316\n",
       "XOne     247\n",
       "SNES     239\n",
       "SAT      173\n",
       "WiiU     147\n",
       "2600     116\n",
       "NES       98\n",
       "GB        97\n",
       "DC        52\n",
       "GEN       27\n",
       "NG        12\n",
       "SCD        6\n",
       "WS         6\n",
       "3DO        3\n",
       "TG16       2\n",
       "GG         1\n",
       "PCFX       1\n",
       "Name: platform, dtype: int64"
      ]
     },
     "execution_count": 18,
     "metadata": {},
     "output_type": "execute_result"
    }
   ],
   "source": [
    "data['platform'].value_counts()#в данном случае также нет дубликатов"
   ]
  },
  {
   "cell_type": "code",
   "execution_count": 19,
   "metadata": {},
   "outputs": [
    {
     "data": {
      "text/plain": [
       "Need for Speed: Most Wanted                                 12\n",
       "Ratatouille                                                  9\n",
       "LEGO Marvel Super Heroes                                     9\n",
       "FIFA 14                                                      9\n",
       "LEGO Star Wars II: The Original Trilogy                      8\n",
       "                                                            ..\n",
       "My World, My Way (US sales)                                  1\n",
       "Majesty 2: The Fantasy Kingdom Sim                           1\n",
       "Killer Loop                                                  1\n",
       "Katekyoo Hitman Reborn! DS: Fate of Heat - Hono no Unmei     1\n",
       "Lotus Challenge                                              1\n",
       "Name: name, Length: 11426, dtype: int64"
      ]
     },
     "execution_count": 19,
     "metadata": {},
     "output_type": "execute_result"
    }
   ],
   "source": [
    "data['name'].value_counts()#а этот столбец необходимо рассмотреть подробнее, так как имеется много дубликатов"
   ]
  },
  {
   "cell_type": "code",
   "execution_count": 20,
   "metadata": {},
   "outputs": [
    {
     "data": {
      "text/html": [
       "<div>\n",
       "<style scoped>\n",
       "    .dataframe tbody tr th:only-of-type {\n",
       "        vertical-align: middle;\n",
       "    }\n",
       "\n",
       "    .dataframe tbody tr th {\n",
       "        vertical-align: top;\n",
       "    }\n",
       "\n",
       "    .dataframe thead th {\n",
       "        text-align: right;\n",
       "    }\n",
       "</style>\n",
       "<table border=\"1\" class=\"dataframe\">\n",
       "  <thead>\n",
       "    <tr style=\"text-align: right;\">\n",
       "      <th></th>\n",
       "      <th>name</th>\n",
       "      <th>platform</th>\n",
       "      <th>year_of_release</th>\n",
       "      <th>genre</th>\n",
       "      <th>na_sales</th>\n",
       "      <th>eu_sales</th>\n",
       "      <th>jp_sales</th>\n",
       "      <th>other_sales</th>\n",
       "      <th>critic_score</th>\n",
       "      <th>user_score</th>\n",
       "      <th>rating</th>\n",
       "    </tr>\n",
       "  </thead>\n",
       "  <tbody>\n",
       "    <tr>\n",
       "      <th>253</th>\n",
       "      <td>Need for Speed: Most Wanted</td>\n",
       "      <td>PS2</td>\n",
       "      <td>2005.0</td>\n",
       "      <td>racing</td>\n",
       "      <td>2.03</td>\n",
       "      <td>1.79</td>\n",
       "      <td>0.08</td>\n",
       "      <td>0.47</td>\n",
       "      <td>82.0</td>\n",
       "      <td>9.1</td>\n",
       "      <td>T</td>\n",
       "    </tr>\n",
       "    <tr>\n",
       "      <th>523</th>\n",
       "      <td>Need for Speed: Most Wanted</td>\n",
       "      <td>PS3</td>\n",
       "      <td>2012.0</td>\n",
       "      <td>racing</td>\n",
       "      <td>0.71</td>\n",
       "      <td>1.46</td>\n",
       "      <td>0.06</td>\n",
       "      <td>0.58</td>\n",
       "      <td>NaN</td>\n",
       "      <td>NaN</td>\n",
       "      <td>without</td>\n",
       "    </tr>\n",
       "    <tr>\n",
       "      <th>1190</th>\n",
       "      <td>Need for Speed: Most Wanted</td>\n",
       "      <td>X360</td>\n",
       "      <td>2012.0</td>\n",
       "      <td>racing</td>\n",
       "      <td>0.62</td>\n",
       "      <td>0.78</td>\n",
       "      <td>0.01</td>\n",
       "      <td>0.15</td>\n",
       "      <td>83.0</td>\n",
       "      <td>8.5</td>\n",
       "      <td>T</td>\n",
       "    </tr>\n",
       "    <tr>\n",
       "      <th>1591</th>\n",
       "      <td>Need for Speed: Most Wanted</td>\n",
       "      <td>X360</td>\n",
       "      <td>2005.0</td>\n",
       "      <td>racing</td>\n",
       "      <td>1.00</td>\n",
       "      <td>0.13</td>\n",
       "      <td>0.02</td>\n",
       "      <td>0.10</td>\n",
       "      <td>83.0</td>\n",
       "      <td>8.5</td>\n",
       "      <td>T</td>\n",
       "    </tr>\n",
       "    <tr>\n",
       "      <th>1998</th>\n",
       "      <td>Need for Speed: Most Wanted</td>\n",
       "      <td>XB</td>\n",
       "      <td>2005.0</td>\n",
       "      <td>racing</td>\n",
       "      <td>0.53</td>\n",
       "      <td>0.46</td>\n",
       "      <td>0.00</td>\n",
       "      <td>0.05</td>\n",
       "      <td>83.0</td>\n",
       "      <td>8.8</td>\n",
       "      <td>T</td>\n",
       "    </tr>\n",
       "    <tr>\n",
       "      <th>2048</th>\n",
       "      <td>Need for Speed: Most Wanted</td>\n",
       "      <td>PSV</td>\n",
       "      <td>2012.0</td>\n",
       "      <td>racing</td>\n",
       "      <td>0.33</td>\n",
       "      <td>0.45</td>\n",
       "      <td>0.01</td>\n",
       "      <td>0.22</td>\n",
       "      <td>NaN</td>\n",
       "      <td>NaN</td>\n",
       "      <td>without</td>\n",
       "    </tr>\n",
       "    <tr>\n",
       "      <th>3581</th>\n",
       "      <td>Need for Speed: Most Wanted</td>\n",
       "      <td>GC</td>\n",
       "      <td>2005.0</td>\n",
       "      <td>racing</td>\n",
       "      <td>0.43</td>\n",
       "      <td>0.11</td>\n",
       "      <td>0.00</td>\n",
       "      <td>0.02</td>\n",
       "      <td>80.0</td>\n",
       "      <td>9.1</td>\n",
       "      <td>T</td>\n",
       "    </tr>\n",
       "    <tr>\n",
       "      <th>5972</th>\n",
       "      <td>Need for Speed: Most Wanted</td>\n",
       "      <td>PC</td>\n",
       "      <td>2005.0</td>\n",
       "      <td>racing</td>\n",
       "      <td>0.02</td>\n",
       "      <td>0.23</td>\n",
       "      <td>0.00</td>\n",
       "      <td>0.04</td>\n",
       "      <td>82.0</td>\n",
       "      <td>8.5</td>\n",
       "      <td>T</td>\n",
       "    </tr>\n",
       "    <tr>\n",
       "      <th>6273</th>\n",
       "      <td>Need for Speed: Most Wanted</td>\n",
       "      <td>WiiU</td>\n",
       "      <td>2013.0</td>\n",
       "      <td>racing</td>\n",
       "      <td>0.13</td>\n",
       "      <td>0.12</td>\n",
       "      <td>0.00</td>\n",
       "      <td>0.02</td>\n",
       "      <td>NaN</td>\n",
       "      <td>NaN</td>\n",
       "      <td>without</td>\n",
       "    </tr>\n",
       "    <tr>\n",
       "      <th>6410</th>\n",
       "      <td>Need for Speed: Most Wanted</td>\n",
       "      <td>DS</td>\n",
       "      <td>2005.0</td>\n",
       "      <td>racing</td>\n",
       "      <td>0.24</td>\n",
       "      <td>0.01</td>\n",
       "      <td>0.00</td>\n",
       "      <td>0.02</td>\n",
       "      <td>45.0</td>\n",
       "      <td>6.1</td>\n",
       "      <td>E</td>\n",
       "    </tr>\n",
       "    <tr>\n",
       "      <th>6473</th>\n",
       "      <td>Need for Speed: Most Wanted</td>\n",
       "      <td>GBA</td>\n",
       "      <td>2005.0</td>\n",
       "      <td>racing</td>\n",
       "      <td>0.19</td>\n",
       "      <td>0.07</td>\n",
       "      <td>0.00</td>\n",
       "      <td>0.00</td>\n",
       "      <td>NaN</td>\n",
       "      <td>8.3</td>\n",
       "      <td>E</td>\n",
       "    </tr>\n",
       "    <tr>\n",
       "      <th>11715</th>\n",
       "      <td>Need for Speed: Most Wanted</td>\n",
       "      <td>PC</td>\n",
       "      <td>2012.0</td>\n",
       "      <td>racing</td>\n",
       "      <td>0.00</td>\n",
       "      <td>0.06</td>\n",
       "      <td>0.00</td>\n",
       "      <td>0.02</td>\n",
       "      <td>82.0</td>\n",
       "      <td>8.5</td>\n",
       "      <td>T</td>\n",
       "    </tr>\n",
       "  </tbody>\n",
       "</table>\n",
       "</div>"
      ],
      "text/plain": [
       "                              name platform  year_of_release   genre  \\\n",
       "253    Need for Speed: Most Wanted      PS2           2005.0  racing   \n",
       "523    Need for Speed: Most Wanted      PS3           2012.0  racing   \n",
       "1190   Need for Speed: Most Wanted     X360           2012.0  racing   \n",
       "1591   Need for Speed: Most Wanted     X360           2005.0  racing   \n",
       "1998   Need for Speed: Most Wanted       XB           2005.0  racing   \n",
       "2048   Need for Speed: Most Wanted      PSV           2012.0  racing   \n",
       "3581   Need for Speed: Most Wanted       GC           2005.0  racing   \n",
       "5972   Need for Speed: Most Wanted       PC           2005.0  racing   \n",
       "6273   Need for Speed: Most Wanted     WiiU           2013.0  racing   \n",
       "6410   Need for Speed: Most Wanted       DS           2005.0  racing   \n",
       "6473   Need for Speed: Most Wanted      GBA           2005.0  racing   \n",
       "11715  Need for Speed: Most Wanted       PC           2012.0  racing   \n",
       "\n",
       "       na_sales  eu_sales  jp_sales  other_sales  critic_score user_score  \\\n",
       "253        2.03      1.79      0.08         0.47          82.0        9.1   \n",
       "523        0.71      1.46      0.06         0.58           NaN        NaN   \n",
       "1190       0.62      0.78      0.01         0.15          83.0        8.5   \n",
       "1591       1.00      0.13      0.02         0.10          83.0        8.5   \n",
       "1998       0.53      0.46      0.00         0.05          83.0        8.8   \n",
       "2048       0.33      0.45      0.01         0.22           NaN        NaN   \n",
       "3581       0.43      0.11      0.00         0.02          80.0        9.1   \n",
       "5972       0.02      0.23      0.00         0.04          82.0        8.5   \n",
       "6273       0.13      0.12      0.00         0.02           NaN        NaN   \n",
       "6410       0.24      0.01      0.00         0.02          45.0        6.1   \n",
       "6473       0.19      0.07      0.00         0.00           NaN        8.3   \n",
       "11715      0.00      0.06      0.00         0.02          82.0        8.5   \n",
       "\n",
       "        rating  \n",
       "253          T  \n",
       "523    without  \n",
       "1190         T  \n",
       "1591         T  \n",
       "1998         T  \n",
       "2048   without  \n",
       "3581         T  \n",
       "5972         T  \n",
       "6273   without  \n",
       "6410         E  \n",
       "6473         E  \n",
       "11715        T  "
      ]
     },
     "execution_count": 20,
     "metadata": {},
     "output_type": "execute_result"
    }
   ],
   "source": [
    "data[data['name'] == 'Need for Speed: Most Wanted']#проверим строки с самой популярной игрой по версии value_counts()"
   ]
  },
  {
   "cell_type": "markdown",
   "metadata": {},
   "source": [
    "Данные показали, что дубликаты образовались не просто так. Оказалось, что выпуск игры с одним и тем же названием связан с выпуском игры в разные года на разных платформах. Поэтому мы не можем удалить дубликаты в данном случае."
   ]
  },
  {
   "cell_type": "markdown",
   "metadata": {},
   "source": [
    "Рассмотрим неполные дубликаты в столбах год релиза игры, название игры и платформа."
   ]
  },
  {
   "cell_type": "code",
   "execution_count": 21,
   "metadata": {},
   "outputs": [
    {
     "data": {
      "text/html": [
       "<div>\n",
       "<style scoped>\n",
       "    .dataframe tbody tr th:only-of-type {\n",
       "        vertical-align: middle;\n",
       "    }\n",
       "\n",
       "    .dataframe tbody tr th {\n",
       "        vertical-align: top;\n",
       "    }\n",
       "\n",
       "    .dataframe thead th {\n",
       "        text-align: right;\n",
       "    }\n",
       "</style>\n",
       "<table border=\"1\" class=\"dataframe\">\n",
       "  <thead>\n",
       "    <tr style=\"text-align: right;\">\n",
       "      <th></th>\n",
       "      <th>name</th>\n",
       "      <th>platform</th>\n",
       "      <th>year_of_release</th>\n",
       "      <th>genre</th>\n",
       "      <th>na_sales</th>\n",
       "      <th>eu_sales</th>\n",
       "      <th>jp_sales</th>\n",
       "      <th>other_sales</th>\n",
       "      <th>critic_score</th>\n",
       "      <th>user_score</th>\n",
       "      <th>rating</th>\n",
       "    </tr>\n",
       "  </thead>\n",
       "  <tbody>\n",
       "    <tr>\n",
       "      <th>16230</th>\n",
       "      <td>Madden NFL 13</td>\n",
       "      <td>PS3</td>\n",
       "      <td>2012.0</td>\n",
       "      <td>sports</td>\n",
       "      <td>0.0</td>\n",
       "      <td>0.01</td>\n",
       "      <td>0.0</td>\n",
       "      <td>0.0</td>\n",
       "      <td>83.0</td>\n",
       "      <td>5.5</td>\n",
       "      <td>E</td>\n",
       "    </tr>\n",
       "  </tbody>\n",
       "</table>\n",
       "</div>"
      ],
      "text/plain": [
       "                name platform  year_of_release   genre  na_sales  eu_sales  \\\n",
       "16230  Madden NFL 13      PS3           2012.0  sports       0.0      0.01   \n",
       "\n",
       "       jp_sales  other_sales  critic_score user_score rating  \n",
       "16230       0.0          0.0          83.0        5.5      E  "
      ]
     },
     "metadata": {},
     "output_type": "display_data"
    },
    {
     "data": {
      "text/html": [
       "<div>\n",
       "<style scoped>\n",
       "    .dataframe tbody tr th:only-of-type {\n",
       "        vertical-align: middle;\n",
       "    }\n",
       "\n",
       "    .dataframe tbody tr th {\n",
       "        vertical-align: top;\n",
       "    }\n",
       "\n",
       "    .dataframe thead th {\n",
       "        text-align: right;\n",
       "    }\n",
       "</style>\n",
       "<table border=\"1\" class=\"dataframe\">\n",
       "  <thead>\n",
       "    <tr style=\"text-align: right;\">\n",
       "      <th></th>\n",
       "      <th>name</th>\n",
       "      <th>platform</th>\n",
       "      <th>year_of_release</th>\n",
       "      <th>genre</th>\n",
       "      <th>na_sales</th>\n",
       "      <th>eu_sales</th>\n",
       "      <th>jp_sales</th>\n",
       "      <th>other_sales</th>\n",
       "      <th>critic_score</th>\n",
       "      <th>user_score</th>\n",
       "      <th>rating</th>\n",
       "    </tr>\n",
       "  </thead>\n",
       "  <tbody>\n",
       "    <tr>\n",
       "      <th>604</th>\n",
       "      <td>Madden NFL 13</td>\n",
       "      <td>PS3</td>\n",
       "      <td>2012.0</td>\n",
       "      <td>sports</td>\n",
       "      <td>2.11</td>\n",
       "      <td>0.22</td>\n",
       "      <td>0.0</td>\n",
       "      <td>0.23</td>\n",
       "      <td>83.0</td>\n",
       "      <td>5.5</td>\n",
       "      <td>E</td>\n",
       "    </tr>\n",
       "  </tbody>\n",
       "</table>\n",
       "</div>"
      ],
      "text/plain": [
       "              name platform  year_of_release   genre  na_sales  eu_sales  \\\n",
       "604  Madden NFL 13      PS3           2012.0  sports      2.11      0.22   \n",
       "\n",
       "     jp_sales  other_sales  critic_score user_score rating  \n",
       "604       0.0         0.23          83.0        5.5      E  "
      ]
     },
     "metadata": {},
     "output_type": "display_data"
    }
   ],
   "source": [
    "#отобразим поиск дубликатов по 3-м столбац сразу\n",
    "display(data[data.duplicated(subset=['name','platform','year_of_release'],keep='first')])\n",
    "display(data[data.duplicated(subset=['name','platform','year_of_release'],keep='last')])"
   ]
  },
  {
   "cell_type": "code",
   "execution_count": 22,
   "metadata": {},
   "outputs": [
    {
     "name": "stdout",
     "output_type": "stream",
     "text": [
      "Количество строк на момент загрузки файла: 16444\n"
     ]
    }
   ],
   "source": [
    "print('Количество строк на момент загрузки файла:',data.shape[0])"
   ]
  },
  {
   "cell_type": "code",
   "execution_count": 23,
   "metadata": {},
   "outputs": [],
   "source": [
    "#были найдены дублирующиеся значения в столбце name, игра - Madden NFL 13\n",
    "#устраним дубликаты\n",
    "data = data.drop_duplicates(subset=['name','platform','year_of_release'])"
   ]
  },
  {
   "cell_type": "code",
   "execution_count": 24,
   "metadata": {},
   "outputs": [
    {
     "data": {
      "text/html": [
       "<div>\n",
       "<style scoped>\n",
       "    .dataframe tbody tr th:only-of-type {\n",
       "        vertical-align: middle;\n",
       "    }\n",
       "\n",
       "    .dataframe tbody tr th {\n",
       "        vertical-align: top;\n",
       "    }\n",
       "\n",
       "    .dataframe thead th {\n",
       "        text-align: right;\n",
       "    }\n",
       "</style>\n",
       "<table border=\"1\" class=\"dataframe\">\n",
       "  <thead>\n",
       "    <tr style=\"text-align: right;\">\n",
       "      <th></th>\n",
       "      <th>name</th>\n",
       "      <th>platform</th>\n",
       "      <th>year_of_release</th>\n",
       "      <th>genre</th>\n",
       "      <th>na_sales</th>\n",
       "      <th>eu_sales</th>\n",
       "      <th>jp_sales</th>\n",
       "      <th>other_sales</th>\n",
       "      <th>critic_score</th>\n",
       "      <th>user_score</th>\n",
       "      <th>rating</th>\n",
       "    </tr>\n",
       "  </thead>\n",
       "  <tbody>\n",
       "  </tbody>\n",
       "</table>\n",
       "</div>"
      ],
      "text/plain": [
       "Empty DataFrame\n",
       "Columns: [name, platform, year_of_release, genre, na_sales, eu_sales, jp_sales, other_sales, critic_score, user_score, rating]\n",
       "Index: []"
      ]
     },
     "metadata": {},
     "output_type": "display_data"
    },
    {
     "data": {
      "text/html": [
       "<div>\n",
       "<style scoped>\n",
       "    .dataframe tbody tr th:only-of-type {\n",
       "        vertical-align: middle;\n",
       "    }\n",
       "\n",
       "    .dataframe tbody tr th {\n",
       "        vertical-align: top;\n",
       "    }\n",
       "\n",
       "    .dataframe thead th {\n",
       "        text-align: right;\n",
       "    }\n",
       "</style>\n",
       "<table border=\"1\" class=\"dataframe\">\n",
       "  <thead>\n",
       "    <tr style=\"text-align: right;\">\n",
       "      <th></th>\n",
       "      <th>name</th>\n",
       "      <th>platform</th>\n",
       "      <th>year_of_release</th>\n",
       "      <th>genre</th>\n",
       "      <th>na_sales</th>\n",
       "      <th>eu_sales</th>\n",
       "      <th>jp_sales</th>\n",
       "      <th>other_sales</th>\n",
       "      <th>critic_score</th>\n",
       "      <th>user_score</th>\n",
       "      <th>rating</th>\n",
       "    </tr>\n",
       "  </thead>\n",
       "  <tbody>\n",
       "  </tbody>\n",
       "</table>\n",
       "</div>"
      ],
      "text/plain": [
       "Empty DataFrame\n",
       "Columns: [name, platform, year_of_release, genre, na_sales, eu_sales, jp_sales, other_sales, critic_score, user_score, rating]\n",
       "Index: []"
      ]
     },
     "metadata": {},
     "output_type": "display_data"
    },
    {
     "name": "stdout",
     "output_type": "stream",
     "text": [
      "Количество строк на момент загрузки файла: 16443\n"
     ]
    }
   ],
   "source": [
    "#проверим результат и выведем кол-во строк\n",
    "display(data[data.duplicated(subset=['name','platform','year_of_release'],keep='first')])\n",
    "display(data[data.duplicated(subset=['name','platform','year_of_release'],keep='last')])\n",
    "print('Количество строк на момент загрузки файла:',data.shape[0])\n",
    "#все как и планировалось, дубликаты убраны"
   ]
  },
  {
   "cell_type": "markdown",
   "metadata": {},
   "source": [
    "### 2.3. Изменение типов данных"
   ]
  },
  {
   "cell_type": "code",
   "execution_count": 25,
   "metadata": {},
   "outputs": [
    {
     "name": "stdout",
     "output_type": "stream",
     "text": [
      "<class 'pandas.core.frame.DataFrame'>\n",
      "Int64Index: 16443 entries, 0 to 16714\n",
      "Data columns (total 11 columns):\n",
      " #   Column           Non-Null Count  Dtype  \n",
      "---  ------           --------------  -----  \n",
      " 0   name             16443 non-null  object \n",
      " 1   platform         16443 non-null  object \n",
      " 2   year_of_release  16443 non-null  float64\n",
      " 3   genre            16443 non-null  object \n",
      " 4   na_sales         16443 non-null  float64\n",
      " 5   eu_sales         16443 non-null  float64\n",
      " 6   jp_sales         16443 non-null  float64\n",
      " 7   other_sales      16443 non-null  float64\n",
      " 8   critic_score     7982 non-null   float64\n",
      " 9   user_score       9838 non-null   object \n",
      " 10  rating           16443 non-null  object \n",
      "dtypes: float64(6), object(5)\n",
      "memory usage: 1.5+ MB\n"
     ]
    }
   ],
   "source": [
    "data.info()#выведим данные через info(), чтобы посмотреть типы данных"
   ]
  },
  {
   "cell_type": "markdown",
   "metadata": {},
   "source": [
    "Заменим тип данных в столбце 'year_of_release' на тип данных int."
   ]
  },
  {
   "cell_type": "code",
   "execution_count": 26,
   "metadata": {},
   "outputs": [
    {
     "data": {
      "text/html": [
       "<div>\n",
       "<style scoped>\n",
       "    .dataframe tbody tr th:only-of-type {\n",
       "        vertical-align: middle;\n",
       "    }\n",
       "\n",
       "    .dataframe tbody tr th {\n",
       "        vertical-align: top;\n",
       "    }\n",
       "\n",
       "    .dataframe thead th {\n",
       "        text-align: right;\n",
       "    }\n",
       "</style>\n",
       "<table border=\"1\" class=\"dataframe\">\n",
       "  <thead>\n",
       "    <tr style=\"text-align: right;\">\n",
       "      <th></th>\n",
       "      <th>name</th>\n",
       "      <th>platform</th>\n",
       "      <th>year_of_release</th>\n",
       "      <th>genre</th>\n",
       "      <th>na_sales</th>\n",
       "      <th>eu_sales</th>\n",
       "      <th>jp_sales</th>\n",
       "      <th>other_sales</th>\n",
       "      <th>critic_score</th>\n",
       "      <th>user_score</th>\n",
       "      <th>rating</th>\n",
       "    </tr>\n",
       "  </thead>\n",
       "  <tbody>\n",
       "    <tr>\n",
       "      <th>0</th>\n",
       "      <td>Wii Sports</td>\n",
       "      <td>Wii</td>\n",
       "      <td>2006</td>\n",
       "      <td>sports</td>\n",
       "      <td>41.36</td>\n",
       "      <td>28.96</td>\n",
       "      <td>3.77</td>\n",
       "      <td>8.45</td>\n",
       "      <td>76.0</td>\n",
       "      <td>8</td>\n",
       "      <td>E</td>\n",
       "    </tr>\n",
       "    <tr>\n",
       "      <th>1</th>\n",
       "      <td>Super Mario Bros.</td>\n",
       "      <td>NES</td>\n",
       "      <td>1985</td>\n",
       "      <td>platform</td>\n",
       "      <td>29.08</td>\n",
       "      <td>3.58</td>\n",
       "      <td>6.81</td>\n",
       "      <td>0.77</td>\n",
       "      <td>NaN</td>\n",
       "      <td>NaN</td>\n",
       "      <td>without</td>\n",
       "    </tr>\n",
       "    <tr>\n",
       "      <th>2</th>\n",
       "      <td>Mario Kart Wii</td>\n",
       "      <td>Wii</td>\n",
       "      <td>2008</td>\n",
       "      <td>racing</td>\n",
       "      <td>15.68</td>\n",
       "      <td>12.76</td>\n",
       "      <td>3.79</td>\n",
       "      <td>3.29</td>\n",
       "      <td>82.0</td>\n",
       "      <td>8.3</td>\n",
       "      <td>E</td>\n",
       "    </tr>\n",
       "    <tr>\n",
       "      <th>3</th>\n",
       "      <td>Wii Sports Resort</td>\n",
       "      <td>Wii</td>\n",
       "      <td>2009</td>\n",
       "      <td>sports</td>\n",
       "      <td>15.61</td>\n",
       "      <td>10.93</td>\n",
       "      <td>3.28</td>\n",
       "      <td>2.95</td>\n",
       "      <td>80.0</td>\n",
       "      <td>8</td>\n",
       "      <td>E</td>\n",
       "    </tr>\n",
       "    <tr>\n",
       "      <th>4</th>\n",
       "      <td>Pokemon Red/Pokemon Blue</td>\n",
       "      <td>GB</td>\n",
       "      <td>1996</td>\n",
       "      <td>role-playing</td>\n",
       "      <td>11.27</td>\n",
       "      <td>8.89</td>\n",
       "      <td>10.22</td>\n",
       "      <td>1.00</td>\n",
       "      <td>NaN</td>\n",
       "      <td>NaN</td>\n",
       "      <td>without</td>\n",
       "    </tr>\n",
       "  </tbody>\n",
       "</table>\n",
       "</div>"
      ],
      "text/plain": [
       "                       name platform  year_of_release         genre  na_sales  \\\n",
       "0                Wii Sports      Wii             2006        sports     41.36   \n",
       "1         Super Mario Bros.      NES             1985      platform     29.08   \n",
       "2            Mario Kart Wii      Wii             2008        racing     15.68   \n",
       "3         Wii Sports Resort      Wii             2009        sports     15.61   \n",
       "4  Pokemon Red/Pokemon Blue       GB             1996  role-playing     11.27   \n",
       "\n",
       "   eu_sales  jp_sales  other_sales  critic_score user_score   rating  \n",
       "0     28.96      3.77         8.45          76.0          8        E  \n",
       "1      3.58      6.81         0.77           NaN        NaN  without  \n",
       "2     12.76      3.79         3.29          82.0        8.3        E  \n",
       "3     10.93      3.28         2.95          80.0          8        E  \n",
       "4      8.89     10.22         1.00           NaN        NaN  without  "
      ]
     },
     "execution_count": 26,
     "metadata": {},
     "output_type": "execute_result"
    }
   ],
   "source": [
    "data['year_of_release'] = data['year_of_release'].astype('int')\n",
    "data.head()"
   ]
  },
  {
   "cell_type": "code",
   "execution_count": 27,
   "metadata": {},
   "outputs": [
    {
     "data": {
      "text/plain": [
       "array([76., nan, 82., 80., 89., 58., 87., 91., 61., 97., 95., 77., 88.,\n",
       "       83., 94., 93., 85., 86., 98., 96., 90., 84., 73., 74., 78., 92.,\n",
       "       71., 72., 68., 62., 49., 67., 81., 66., 56., 79., 70., 59., 64.,\n",
       "       75., 60., 63., 69., 50., 25., 42., 44., 55., 48., 57., 29., 47.,\n",
       "       65., 54., 20., 53., 37., 38., 33., 52., 30., 32., 43., 45., 51.,\n",
       "       40., 46., 39., 34., 41., 36., 31., 27., 35., 26., 19., 28., 23.,\n",
       "       24., 21., 17., 13.])"
      ]
     },
     "execution_count": 27,
     "metadata": {},
     "output_type": "execute_result"
    }
   ],
   "source": [
    "data['critic_score'].unique()#проверим столбец оценок игр критиками"
   ]
  },
  {
   "cell_type": "markdown",
   "metadata": {},
   "source": [
    "В столбце оценки критиков видно, что все оценки не содержат дробной части, поэтому заменим тип float на int."
   ]
  },
  {
   "cell_type": "code",
   "execution_count": 28,
   "metadata": {},
   "outputs": [
    {
     "data": {
      "text/plain": [
       "0    76.0\n",
       "1     NaN\n",
       "2    82.0\n",
       "3    80.0\n",
       "4     NaN\n",
       "Name: critic_score, dtype: float64"
      ]
     },
     "execution_count": 28,
     "metadata": {},
     "output_type": "execute_result"
    }
   ],
   "source": [
    "data['critic_score'] = data['critic_score'].astype('float')\n",
    "data['critic_score'].head()"
   ]
  },
  {
   "cell_type": "markdown",
   "metadata": {},
   "source": [
    "Выведем столбец 'user_score' и посмотрим, почему тип данных - object, а не float."
   ]
  },
  {
   "cell_type": "code",
   "execution_count": 29,
   "metadata": {},
   "outputs": [
    {
     "data": {
      "text/plain": [
       "array(['8', nan, '8.3', '8.5', '6.6', '8.4', '8.6', '7.7', '6.3', '7.4',\n",
       "       '8.2', '9', '7.9', '8.1', '8.7', '7.1', '3.4', '5.3', '4.8', '3.2',\n",
       "       '8.9', '6.4', '7.8', '7.5', '2.6', '7.2', '9.2', '7', '7.3', '4.3',\n",
       "       '7.6', '5.7', '5', '9.1', '6.5', 'tbd', '8.8', '6.9', '9.4', '6.8',\n",
       "       '6.1', '6.7', '5.4', '4', '4.9', '4.5', '9.3', '6.2', '4.2', '6',\n",
       "       '3.7', '4.1', '5.8', '5.6', '5.5', '4.4', '4.6', '5.9', '3.9',\n",
       "       '3.1', '2.9', '5.2', '3.3', '4.7', '5.1', '3.5', '2.5', '1.9', '3',\n",
       "       '2.7', '2.2', '2', '9.5', '2.1', '3.6', '2.8', '1.8', '3.8', '0',\n",
       "       '1.6', '9.6', '2.4', '1.7', '1.1', '0.3', '1.5', '0.7', '1.2',\n",
       "       '2.3', '0.5', '1.3', '0.2', '0.6', '1.4', '0.9', '1', '9.7'],\n",
       "      dtype=object)"
      ]
     },
     "execution_count": 29,
     "metadata": {},
     "output_type": "execute_result"
    }
   ],
   "source": [
    "data['user_score'].unique()"
   ]
  },
  {
   "cell_type": "markdown",
   "metadata": {},
   "source": [
    "В данных присутствуют данные с текстовым форматом, а именно аббревиатура \"tbd\". \"TBD\" с \"геймерского\" языка расшифровывается как \"To Be Determined\", что означает \"Дата выхода не определена\". Соответственно, заменим tbd на Nan значения, так как мы не сможем использовать их в исследовании, а остальные даннные столбца заменим на тип float.\n",
    "\n",
    "Подробнее о TBD - https://fb.ru/article/171345/tbd---chto-znachit-eto-sokraschenie\" \\\n",
    "https://www.kingston.com/ru/blog/gaming/understanding-video-games-age-ratings-esrb-pegi"
   ]
  },
  {
   "cell_type": "code",
   "execution_count": 30,
   "metadata": {},
   "outputs": [
    {
     "data": {
      "text/plain": [
       "array([8. , nan, 8.3, 8.5, 6.6, 8.4, 8.6, 7.7, 6.3, 7.4, 8.2, 9. , 7.9,\n",
       "       8.1, 8.7, 7.1, 3.4, 5.3, 4.8, 3.2, 8.9, 6.4, 7.8, 7.5, 2.6, 7.2,\n",
       "       9.2, 7. , 7.3, 4.3, 7.6, 5.7, 5. , 9.1, 6.5, 8.8, 6.9, 9.4, 6.8,\n",
       "       6.1, 6.7, 5.4, 4. , 4.9, 4.5, 9.3, 6.2, 4.2, 6. , 3.7, 4.1, 5.8,\n",
       "       5.6, 5.5, 4.4, 4.6, 5.9, 3.9, 3.1, 2.9, 5.2, 3.3, 4.7, 5.1, 3.5,\n",
       "       2.5, 1.9, 3. , 2.7, 2.2, 2. , 9.5, 2.1, 3.6, 2.8, 1.8, 3.8, 0. ,\n",
       "       1.6, 9.6, 2.4, 1.7, 1.1, 0.3, 1.5, 0.7, 1.2, 2.3, 0.5, 1.3, 0.2,\n",
       "       0.6, 1.4, 0.9, 1. , 9.7])"
      ]
     },
     "execution_count": 30,
     "metadata": {},
     "output_type": "execute_result"
    }
   ],
   "source": [
    "data.loc[data['user_score'] == 'tbd', 'user_score'] = np.nan\n",
    "data['user_score'] = data['user_score'].astype('float')\n",
    "data['user_score'].unique()"
   ]
  },
  {
   "cell_type": "code",
   "execution_count": 31,
   "metadata": {},
   "outputs": [
    {
     "name": "stdout",
     "output_type": "stream",
     "text": [
      "<class 'pandas.core.frame.DataFrame'>\n",
      "Int64Index: 16443 entries, 0 to 16714\n",
      "Data columns (total 11 columns):\n",
      " #   Column           Non-Null Count  Dtype  \n",
      "---  ------           --------------  -----  \n",
      " 0   name             16443 non-null  object \n",
      " 1   platform         16443 non-null  object \n",
      " 2   year_of_release  16443 non-null  int64  \n",
      " 3   genre            16443 non-null  object \n",
      " 4   na_sales         16443 non-null  float64\n",
      " 5   eu_sales         16443 non-null  float64\n",
      " 6   jp_sales         16443 non-null  float64\n",
      " 7   other_sales      16443 non-null  float64\n",
      " 8   critic_score     7982 non-null   float64\n",
      " 9   user_score       7462 non-null   float64\n",
      " 10  rating           16443 non-null  object \n",
      "dtypes: float64(6), int64(1), object(4)\n",
      "memory usage: 1.5+ MB\n"
     ]
    }
   ],
   "source": [
    "data.info()"
   ]
  },
  {
   "cell_type": "markdown",
   "metadata": {},
   "source": [
    "После замены tbd значений в столбце user_score кол-во Non-null значений уменьшилось на 2424 значения.\\\n",
    "Остальное оставим без изменения, так как больше нет необходимых изменений в типах данных."
   ]
  },
  {
   "cell_type": "markdown",
   "metadata": {},
   "source": [
    "### 2.4. Создание столбца с суммарными продажами во всех регионах."
   ]
  },
  {
   "cell_type": "code",
   "execution_count": 32,
   "metadata": {},
   "outputs": [
    {
     "data": {
      "text/html": [
       "<div>\n",
       "<style scoped>\n",
       "    .dataframe tbody tr th:only-of-type {\n",
       "        vertical-align: middle;\n",
       "    }\n",
       "\n",
       "    .dataframe tbody tr th {\n",
       "        vertical-align: top;\n",
       "    }\n",
       "\n",
       "    .dataframe thead th {\n",
       "        text-align: right;\n",
       "    }\n",
       "</style>\n",
       "<table border=\"1\" class=\"dataframe\">\n",
       "  <thead>\n",
       "    <tr style=\"text-align: right;\">\n",
       "      <th></th>\n",
       "      <th>name</th>\n",
       "      <th>platform</th>\n",
       "      <th>year_of_release</th>\n",
       "      <th>genre</th>\n",
       "      <th>na_sales</th>\n",
       "      <th>eu_sales</th>\n",
       "      <th>jp_sales</th>\n",
       "      <th>other_sales</th>\n",
       "      <th>critic_score</th>\n",
       "      <th>user_score</th>\n",
       "      <th>rating</th>\n",
       "      <th>income</th>\n",
       "    </tr>\n",
       "  </thead>\n",
       "  <tbody>\n",
       "    <tr>\n",
       "      <th>0</th>\n",
       "      <td>Wii Sports</td>\n",
       "      <td>Wii</td>\n",
       "      <td>2006</td>\n",
       "      <td>sports</td>\n",
       "      <td>41.36</td>\n",
       "      <td>28.96</td>\n",
       "      <td>3.77</td>\n",
       "      <td>8.45</td>\n",
       "      <td>76.0</td>\n",
       "      <td>8.0</td>\n",
       "      <td>E</td>\n",
       "      <td>82.54</td>\n",
       "    </tr>\n",
       "    <tr>\n",
       "      <th>1</th>\n",
       "      <td>Super Mario Bros.</td>\n",
       "      <td>NES</td>\n",
       "      <td>1985</td>\n",
       "      <td>platform</td>\n",
       "      <td>29.08</td>\n",
       "      <td>3.58</td>\n",
       "      <td>6.81</td>\n",
       "      <td>0.77</td>\n",
       "      <td>NaN</td>\n",
       "      <td>NaN</td>\n",
       "      <td>without</td>\n",
       "      <td>40.24</td>\n",
       "    </tr>\n",
       "    <tr>\n",
       "      <th>2</th>\n",
       "      <td>Mario Kart Wii</td>\n",
       "      <td>Wii</td>\n",
       "      <td>2008</td>\n",
       "      <td>racing</td>\n",
       "      <td>15.68</td>\n",
       "      <td>12.76</td>\n",
       "      <td>3.79</td>\n",
       "      <td>3.29</td>\n",
       "      <td>82.0</td>\n",
       "      <td>8.3</td>\n",
       "      <td>E</td>\n",
       "      <td>35.52</td>\n",
       "    </tr>\n",
       "    <tr>\n",
       "      <th>3</th>\n",
       "      <td>Wii Sports Resort</td>\n",
       "      <td>Wii</td>\n",
       "      <td>2009</td>\n",
       "      <td>sports</td>\n",
       "      <td>15.61</td>\n",
       "      <td>10.93</td>\n",
       "      <td>3.28</td>\n",
       "      <td>2.95</td>\n",
       "      <td>80.0</td>\n",
       "      <td>8.0</td>\n",
       "      <td>E</td>\n",
       "      <td>32.77</td>\n",
       "    </tr>\n",
       "    <tr>\n",
       "      <th>4</th>\n",
       "      <td>Pokemon Red/Pokemon Blue</td>\n",
       "      <td>GB</td>\n",
       "      <td>1996</td>\n",
       "      <td>role-playing</td>\n",
       "      <td>11.27</td>\n",
       "      <td>8.89</td>\n",
       "      <td>10.22</td>\n",
       "      <td>1.00</td>\n",
       "      <td>NaN</td>\n",
       "      <td>NaN</td>\n",
       "      <td>without</td>\n",
       "      <td>31.38</td>\n",
       "    </tr>\n",
       "  </tbody>\n",
       "</table>\n",
       "</div>"
      ],
      "text/plain": [
       "                       name platform  year_of_release         genre  na_sales  \\\n",
       "0                Wii Sports      Wii             2006        sports     41.36   \n",
       "1         Super Mario Bros.      NES             1985      platform     29.08   \n",
       "2            Mario Kart Wii      Wii             2008        racing     15.68   \n",
       "3         Wii Sports Resort      Wii             2009        sports     15.61   \n",
       "4  Pokemon Red/Pokemon Blue       GB             1996  role-playing     11.27   \n",
       "\n",
       "   eu_sales  jp_sales  other_sales  critic_score  user_score   rating  income  \n",
       "0     28.96      3.77         8.45          76.0         8.0        E   82.54  \n",
       "1      3.58      6.81         0.77           NaN         NaN  without   40.24  \n",
       "2     12.76      3.79         3.29          82.0         8.3        E   35.52  \n",
       "3     10.93      3.28         2.95          80.0         8.0        E   32.77  \n",
       "4      8.89     10.22         1.00           NaN         NaN  without   31.38  "
      ]
     },
     "execution_count": 32,
     "metadata": {},
     "output_type": "execute_result"
    }
   ],
   "source": [
    "#посчитаем суммарную выручку для каждой игры сложением 4 столбцов продаж по регионам\n",
    "data['income'] = data['na_sales'] + data['jp_sales'] + data['eu_sales'] + data['other_sales']\n",
    "data.head()"
   ]
  },
  {
   "cell_type": "markdown",
   "metadata": {},
   "source": [
    "### Вывод по предобработке:\n",
    "1) Все столбцы были приведены к нижнему регистру;\n",
    "2) Данные столбца 'year_of_release','critic_score' были изменены на int. Данные столбца 'user_score' были изменены на тип float, а также значение tbd заменено на Nan-значение, т.к. термин означает \"Дата выхода не определена\". Соответсвенно, по ним мы не сможем сделать определенные выводы (пустых строк стало больше на 2424). Пустые значения rating были заменены на without, так как рейтинг ещё не определен (замена пустых значений повлияет на оценку влияния рейтинга ESRB);\n",
    "3) Были удалены пустые значения в столбце 'name' (2 строки), в столбце 'year_of_release' (т.к. нельзя заполнить данные). Всего было убрано 271 строки, которые не повлияют на вывод в проекте (доля меньше 5%);\n",
    "4) При помощи функции value_counts() были обнаружены дубликаты в данных. Были рассмотрены на дубликаты 3 столбца: имена, жанры и платформы. В каждом из них не было явных дубликатов, поэтому данные остались без удаления.\n",
    "5) В данные добавлен отдельный столбец с суммарной продажей игры во всех регионах.\\\n",
    "\\\n",
    "Финальный размер данных - 16.444 строки. Все возможные пропуски и дубликаты были удалены."
   ]
  },
  {
   "cell_type": "code",
   "execution_count": 33,
   "metadata": {},
   "outputs": [
    {
     "name": "stdout",
     "output_type": "stream",
     "text": [
      "Кол-во строк после предобработки: 16443\n"
     ]
    }
   ],
   "source": [
    "print('Кол-во строк после предобработки:',data.shape[0])"
   ]
  },
  {
   "cell_type": "markdown",
   "metadata": {},
   "source": [
    "## 3. Исследовательский анализ данных"
   ]
  },
  {
   "cell_type": "markdown",
   "metadata": {},
   "source": [
    "### 3.1. Количество выпущенных игр за каждый представленный год"
   ]
  },
  {
   "cell_type": "markdown",
   "metadata": {},
   "source": [
    "Определим важность периодов выпуска игр. Напишем строку, где мы сможем наблюдать кол-во выпущенных игр за каждый год."
   ]
  },
  {
   "cell_type": "code",
   "execution_count": 34,
   "metadata": {},
   "outputs": [
    {
     "data": {
      "text/plain": [
       "2016     502\n",
       "2015     606\n",
       "2014     581\n",
       "2013     544\n",
       "2012     652\n",
       "2011    1136\n",
       "2010    1255\n",
       "2009    1426\n",
       "2008    1427\n",
       "2007    1197\n",
       "2006    1006\n",
       "2005     939\n",
       "2004     762\n",
       "2003     775\n",
       "2002     829\n",
       "2001     482\n",
       "2000     350\n",
       "1999     338\n",
       "1998     379\n",
       "1997     289\n",
       "1996     263\n",
       "1995     219\n",
       "1994     121\n",
       "1993      60\n",
       "1992      43\n",
       "1991      41\n",
       "1990      16\n",
       "1989      17\n",
       "1988      15\n",
       "1987      16\n",
       "1986      21\n",
       "1985      14\n",
       "1984      14\n",
       "1983      17\n",
       "1982      36\n",
       "1981      46\n",
       "1980       9\n",
       "Name: year_of_release, dtype: int64"
      ]
     },
     "execution_count": 34,
     "metadata": {},
     "output_type": "execute_result"
    }
   ],
   "source": [
    "data['year_of_release'].value_counts().sort_index(ascending=False)"
   ]
  },
  {
   "cell_type": "code",
   "execution_count": 35,
   "metadata": {},
   "outputs": [
    {
     "data": {
      "image/png": "[encoded data removed]",
      "text/plain": [
       "<Figure size 720x504 with 1 Axes>"
      ]
     },
     "metadata": {
      "needs_background": "light"
     },
     "output_type": "display_data"
    }
   ],
   "source": [
    "#построим диаграмму выпуска игр по годам\n",
    "#для начала создадим сводную таблицу с нужжными нам данными\n",
    "games_per_year = data.pivot_table(index='year_of_release', values='name', aggfunc='count').reset_index()\n",
    "#так как мы строим распределение игр по годам, используем линейную гистограмму\n",
    "fig, ax = plt.subplots(figsize=(10,7))\n",
    "ax.set(title='Количество вышедших игр по годам',\n",
    "       xlabel='Год выпуска игры', ylabel='Количество вышедших игр')\n",
    "ax.plot(games_per_year['year_of_release'], games_per_year['name'], '-o')\n",
    "ax.grid=True\n",
    "plt.show()"
   ]
  },
  {
   "cell_type": "markdown",
   "metadata": {},
   "source": [
    "Как можно наблюдать, в период с 1980 года по 1993 было выпущено суммарно примерно как в 2000 г. Как печально это бы не звучало, но Марио 80-х и 90-х не поможет в анализе данных и период с 1980 по 1995 году не является важным периодом в контексте исследования данных.\\\n",
    "\\\n",
    "В 1994 году показатель выпуска игр вырос в 2 раза. В период по 2005 г. число игр в год активно увеличивалось и уже в 2006 г. перевалило за 1000 игр в год.\\\n",
    "\\\n",
    "Период с 2007 по 2011 г. можно выделить как \"золотой\" выпуск игр, так как выпускалось наибольшее кол-во игр за весь временной промежуток.\\\n",
    "\\\n",
    "Наименьшее количество выпущенных игр было в 1980 году - 9 игр, а наибольшее количество было выпущено в 2008 - 1427 игр (на 1 игру больше, чем в 2009 году).\\\n",
    "\\\n",
    "Таким образом, \"хвост\" данных в период до 1995 года является не показательным и его можно отбросить."
   ]
  },
  {
   "cell_type": "markdown",
   "metadata": {},
   "source": [
    "### 3.2. Суммарные продажи по платформам"
   ]
  },
  {
   "cell_type": "markdown",
   "metadata": {},
   "source": [
    "Выведем список платформ по сумме продаж:"
   ]
  },
  {
   "cell_type": "code",
   "execution_count": 36,
   "metadata": {},
   "outputs": [
    {
     "data": {
      "text/html": [
       "<div>\n",
       "<style scoped>\n",
       "    .dataframe tbody tr th:only-of-type {\n",
       "        vertical-align: middle;\n",
       "    }\n",
       "\n",
       "    .dataframe tbody tr th {\n",
       "        vertical-align: top;\n",
       "    }\n",
       "\n",
       "    .dataframe thead th {\n",
       "        text-align: right;\n",
       "    }\n",
       "</style>\n",
       "<table border=\"1\" class=\"dataframe\">\n",
       "  <thead>\n",
       "    <tr style=\"text-align: right;\">\n",
       "      <th></th>\n",
       "      <th>name</th>\n",
       "      <th>platform</th>\n",
       "      <th>year_of_release</th>\n",
       "      <th>genre</th>\n",
       "      <th>na_sales</th>\n",
       "      <th>eu_sales</th>\n",
       "      <th>jp_sales</th>\n",
       "      <th>other_sales</th>\n",
       "      <th>critic_score</th>\n",
       "      <th>user_score</th>\n",
       "      <th>rating</th>\n",
       "      <th>income</th>\n",
       "    </tr>\n",
       "  </thead>\n",
       "  <tbody>\n",
       "    <tr>\n",
       "      <th>0</th>\n",
       "      <td>Wii Sports</td>\n",
       "      <td>Wii</td>\n",
       "      <td>2006</td>\n",
       "      <td>sports</td>\n",
       "      <td>41.36</td>\n",
       "      <td>28.96</td>\n",
       "      <td>3.77</td>\n",
       "      <td>8.45</td>\n",
       "      <td>76.0</td>\n",
       "      <td>8.0</td>\n",
       "      <td>E</td>\n",
       "      <td>82.54</td>\n",
       "    </tr>\n",
       "    <tr>\n",
       "      <th>1</th>\n",
       "      <td>Super Mario Bros.</td>\n",
       "      <td>NES</td>\n",
       "      <td>1985</td>\n",
       "      <td>platform</td>\n",
       "      <td>29.08</td>\n",
       "      <td>3.58</td>\n",
       "      <td>6.81</td>\n",
       "      <td>0.77</td>\n",
       "      <td>NaN</td>\n",
       "      <td>NaN</td>\n",
       "      <td>without</td>\n",
       "      <td>40.24</td>\n",
       "    </tr>\n",
       "    <tr>\n",
       "      <th>2</th>\n",
       "      <td>Mario Kart Wii</td>\n",
       "      <td>Wii</td>\n",
       "      <td>2008</td>\n",
       "      <td>racing</td>\n",
       "      <td>15.68</td>\n",
       "      <td>12.76</td>\n",
       "      <td>3.79</td>\n",
       "      <td>3.29</td>\n",
       "      <td>82.0</td>\n",
       "      <td>8.3</td>\n",
       "      <td>E</td>\n",
       "      <td>35.52</td>\n",
       "    </tr>\n",
       "    <tr>\n",
       "      <th>3</th>\n",
       "      <td>Wii Sports Resort</td>\n",
       "      <td>Wii</td>\n",
       "      <td>2009</td>\n",
       "      <td>sports</td>\n",
       "      <td>15.61</td>\n",
       "      <td>10.93</td>\n",
       "      <td>3.28</td>\n",
       "      <td>2.95</td>\n",
       "      <td>80.0</td>\n",
       "      <td>8.0</td>\n",
       "      <td>E</td>\n",
       "      <td>32.77</td>\n",
       "    </tr>\n",
       "    <tr>\n",
       "      <th>4</th>\n",
       "      <td>Pokemon Red/Pokemon Blue</td>\n",
       "      <td>GB</td>\n",
       "      <td>1996</td>\n",
       "      <td>role-playing</td>\n",
       "      <td>11.27</td>\n",
       "      <td>8.89</td>\n",
       "      <td>10.22</td>\n",
       "      <td>1.00</td>\n",
       "      <td>NaN</td>\n",
       "      <td>NaN</td>\n",
       "      <td>without</td>\n",
       "      <td>31.38</td>\n",
       "    </tr>\n",
       "  </tbody>\n",
       "</table>\n",
       "</div>"
      ],
      "text/plain": [
       "                       name platform  year_of_release         genre  na_sales  \\\n",
       "0                Wii Sports      Wii             2006        sports     41.36   \n",
       "1         Super Mario Bros.      NES             1985      platform     29.08   \n",
       "2            Mario Kart Wii      Wii             2008        racing     15.68   \n",
       "3         Wii Sports Resort      Wii             2009        sports     15.61   \n",
       "4  Pokemon Red/Pokemon Blue       GB             1996  role-playing     11.27   \n",
       "\n",
       "   eu_sales  jp_sales  other_sales  critic_score  user_score   rating  income  \n",
       "0     28.96      3.77         8.45          76.0         8.0        E   82.54  \n",
       "1      3.58      6.81         0.77           NaN         NaN  without   40.24  \n",
       "2     12.76      3.79         3.29          82.0         8.3        E   35.52  \n",
       "3     10.93      3.28         2.95          80.0         8.0        E   32.77  \n",
       "4      8.89     10.22         1.00           NaN         NaN  without   31.38  "
      ]
     },
     "execution_count": 36,
     "metadata": {},
     "output_type": "execute_result"
    }
   ],
   "source": [
    "data.head()"
   ]
  },
  {
   "cell_type": "code",
   "execution_count": 37,
   "metadata": {},
   "outputs": [
    {
     "data": {
      "text/html": [
       "<div>\n",
       "<style scoped>\n",
       "    .dataframe tbody tr th:only-of-type {\n",
       "        vertical-align: middle;\n",
       "    }\n",
       "\n",
       "    .dataframe tbody tr th {\n",
       "        vertical-align: top;\n",
       "    }\n",
       "\n",
       "    .dataframe thead th {\n",
       "        text-align: right;\n",
       "    }\n",
       "</style>\n",
       "<table border=\"1\" class=\"dataframe\">\n",
       "  <thead>\n",
       "    <tr style=\"text-align: right;\">\n",
       "      <th></th>\n",
       "      <th>platform</th>\n",
       "      <th>income</th>\n",
       "    </tr>\n",
       "  </thead>\n",
       "  <tbody>\n",
       "    <tr>\n",
       "      <th>0</th>\n",
       "      <td>PS2</td>\n",
       "      <td>1233.56</td>\n",
       "    </tr>\n",
       "    <tr>\n",
       "      <th>1</th>\n",
       "      <td>X360</td>\n",
       "      <td>961.24</td>\n",
       "    </tr>\n",
       "    <tr>\n",
       "      <th>2</th>\n",
       "      <td>PS3</td>\n",
       "      <td>931.33</td>\n",
       "    </tr>\n",
       "    <tr>\n",
       "      <th>3</th>\n",
       "      <td>Wii</td>\n",
       "      <td>891.18</td>\n",
       "    </tr>\n",
       "    <tr>\n",
       "      <th>4</th>\n",
       "      <td>DS</td>\n",
       "      <td>802.78</td>\n",
       "    </tr>\n",
       "    <tr>\n",
       "      <th>5</th>\n",
       "      <td>PS</td>\n",
       "      <td>727.58</td>\n",
       "    </tr>\n",
       "    <tr>\n",
       "      <th>6</th>\n",
       "      <td>PS4</td>\n",
       "      <td>314.14</td>\n",
       "    </tr>\n",
       "    <tr>\n",
       "      <th>7</th>\n",
       "      <td>GBA</td>\n",
       "      <td>312.88</td>\n",
       "    </tr>\n",
       "    <tr>\n",
       "      <th>8</th>\n",
       "      <td>PSP</td>\n",
       "      <td>289.53</td>\n",
       "    </tr>\n",
       "    <tr>\n",
       "      <th>9</th>\n",
       "      <td>3DS</td>\n",
       "      <td>257.81</td>\n",
       "    </tr>\n",
       "    <tr>\n",
       "      <th>10</th>\n",
       "      <td>PC</td>\n",
       "      <td>255.76</td>\n",
       "    </tr>\n",
       "  </tbody>\n",
       "</table>\n",
       "</div>"
      ],
      "text/plain": [
       "   platform   income\n",
       "0       PS2  1233.56\n",
       "1      X360   961.24\n",
       "2       PS3   931.33\n",
       "3       Wii   891.18\n",
       "4        DS   802.78\n",
       "5        PS   727.58\n",
       "6       PS4   314.14\n",
       "7       GBA   312.88\n",
       "8       PSP   289.53\n",
       "9       3DS   257.81\n",
       "10       PC   255.76"
      ]
     },
     "execution_count": 37,
     "metadata": {},
     "output_type": "execute_result"
    }
   ],
   "source": [
    "profitable_platforms = (data\n",
    "                        .pivot_table(index='platform', values='income', aggfunc='sum')\n",
    "                        .reset_index()\n",
    "                        .sort_values(by='income', ascending=False)\n",
    "                        .reset_index(drop=True)\n",
    "                        .head(11)\n",
    "                   )\n",
    "profitable_platforms"
   ]
  },
  {
   "cell_type": "code",
   "execution_count": 38,
   "metadata": {},
   "outputs": [
    {
     "data": {
      "image/png": "[encoded data removed]",
      "text/plain": [
       "<Figure size 864x432 with 1 Axes>"
      ]
     },
     "metadata": {
      "needs_background": "light"
     },
     "output_type": "display_data"
    }
   ],
   "source": [
    "profitable_platforms.sort_values(by='income',ascending=True).plot(\n",
    "    kind='barh',\n",
    "    y='income',\n",
    "    x='platform',\n",
    "    color='m',\n",
    "    legend=False, title='Количество продаж по платформам',\n",
    "    figsize=(12, 6)).set(xlabel='Платформа',ylabel='Продажи');"
   ]
  },
  {
   "cell_type": "code",
   "execution_count": 39,
   "metadata": {},
   "outputs": [
    {
     "data": {
      "text/plain": [
       "0      PS2\n",
       "1     X360\n",
       "2      PS3\n",
       "3      Wii\n",
       "4       DS\n",
       "5       PS\n",
       "6      PS4\n",
       "7      GBA\n",
       "8      PSP\n",
       "9      3DS\n",
       "10      PC\n",
       "Name: platform, dtype: object"
      ]
     },
     "execution_count": 39,
     "metadata": {},
     "output_type": "execute_result"
    }
   ],
   "source": [
    "#сохраним в отдельный список топ платформ для построения рсспределения\n",
    "platforms = profitable_platforms['platform']\n",
    "platforms"
   ]
  },
  {
   "cell_type": "markdown",
   "metadata": {},
   "source": [
    "Возьмём первые 10 платформ, как самые выгодные по суммарным продажам и построим распределение по годам. Использовать будем временную линейную диаграмму."
   ]
  },
  {
   "cell_type": "code",
   "execution_count": 40,
   "metadata": {},
   "outputs": [
    {
     "data": {
      "image/png": "[encoded data removed]",
      "text/plain": [
       "<Figure size 1296x432 with 1 Axes>"
      ]
     },
     "metadata": {
      "needs_background": "light"
     },
     "output_type": "display_data"
    }
   ],
   "source": [
    "#создадим сводную талицу суммарной выручки по платформам за каждый год\n",
    "#и пропишем функцию plot с параметрами\n",
    "pd.pivot_table(data.loc[data['platform'].isin(platforms)],\n",
    "        index='year_of_release',\n",
    "        columns='platform',\n",
    "        values='income',\n",
    "        aggfunc='sum').plot(\n",
    "    figsize=(18,6),\n",
    "    ls='-.',\n",
    "    marker='s',\n",
    "    title='Суммарные продажи по платформам в год',\n",
    "    xlabel='Год',\n",
    "    ylabel='Суммарные продажи,млн');"
   ]
  },
  {
   "cell_type": "markdown",
   "metadata": {},
   "source": [
    "На графике мы можем наблюдать следующую картину:\n",
    "\n",
    "- С 1995 года не переставая выпусукаются игры на персональный компьютер (PC). Можно сказать, что это самая стабильная и востребованная платформа за весь временной промежуток.\n",
    "- На графике можно увидеть тенденцию, что игры на Playstation начали набирать популярность с 1994 года. Первая \"плойка\" достигла пика по продажам к 1998 году и уже в 2002-2003 годах канула в лету с выходом PS2 в 2000 году. С 2000-го года  Playstation2 с 2001 по 2005 гг. лидировали на рынке игр по продажам, но с 2005 г. по 2010 г. пошла в откат. Также как PS2 заменила PS, PS3 заменила PS2, но такого пикового значения уже не достигла. Пик продаж у PS3 был в 2011 году, а в 2016 г. уже стала не популярна и была заменена PS4. PS4 показывает уже не такие результаты относительно своих предшественников.\n",
    "- Спад популярности PS-платформ мог быть также связан с выходом в 2004 г. Nintendo DS, которые набрали моментальную популярность в 2005-2010 гг. C 2006 по 2010 гг. были популярны игры на платформе Wii, которая показала колосальные значения по продажам, уступая только PS2.\n",
    "- Xbox, извечный противник PlayStation, в 2005 г. показал себя, выпустив игровую платформу X360. Пиковое значение X360 достиг в 2010 г. и с этого момента пошёл постепенно на спад.\n",
    "\n",
    "Из всех этих платформ самая продаваемая по сумме продаж - PS2. Как было сказано, в период 2000-2005 гг. у PS2 не было конкурентоспособных аналогов. Можно сказать, что второе место занимает Wii-приставка от Nintendo, а третье место делят между собой DS, Xbox360, Playstation3.Непопулярными среди топ-10 платформ остаются GBA, PC, PSP.\\\n",
    "\\\n",
    "Проведя данный вид анализа, можно сделать вывод, что период до 1994 года не является актуальным для анализа. До 1994 года выходило слишком мало игр относительно общей выборки. Примерный срок, за который устаревает платформа, составляет около 8-12 лет."
   ]
  },
  {
   "cell_type": "markdown",
   "metadata": {},
   "source": [
    "### 3.3. Потенциально прибыльные платформы за актуальный период"
   ]
  },
  {
   "cell_type": "markdown",
   "metadata": {},
   "source": [
    "Необходимо определить какие платформы лидируют по продажам, какие растут, а какие падают. За актуальный период примем 2013-2016 гг. Актуальность обуславливается тем, что мы возьмём большую часть платформ актуальных по сей день. На многие платформы перестали выпускаться игры в 2015 г. и ранее."
   ]
  },
  {
   "cell_type": "code",
   "execution_count": 41,
   "metadata": {},
   "outputs": [],
   "source": [
    "#создадим график по сводной таблице\n",
    "actual_period = data.query('year_of_release >= 2013')"
   ]
  },
  {
   "cell_type": "code",
   "execution_count": 42,
   "metadata": {},
   "outputs": [
    {
     "data": {
      "text/html": [
       "<div>\n",
       "<style scoped>\n",
       "    .dataframe tbody tr th:only-of-type {\n",
       "        vertical-align: middle;\n",
       "    }\n",
       "\n",
       "    .dataframe tbody tr th {\n",
       "        vertical-align: top;\n",
       "    }\n",
       "\n",
       "    .dataframe thead th {\n",
       "        text-align: right;\n",
       "    }\n",
       "</style>\n",
       "<table border=\"1\" class=\"dataframe\">\n",
       "  <thead>\n",
       "    <tr style=\"text-align: right;\">\n",
       "      <th>year_of_release</th>\n",
       "      <th>2013</th>\n",
       "      <th>2014</th>\n",
       "      <th>2015</th>\n",
       "      <th>2016</th>\n",
       "    </tr>\n",
       "    <tr>\n",
       "      <th>platform</th>\n",
       "      <th></th>\n",
       "      <th></th>\n",
       "      <th></th>\n",
       "      <th></th>\n",
       "    </tr>\n",
       "  </thead>\n",
       "  <tbody>\n",
       "    <tr>\n",
       "      <th>3DS</th>\n",
       "      <td>56.57</td>\n",
       "      <td>43.76</td>\n",
       "      <td>27.78</td>\n",
       "      <td>15.14</td>\n",
       "    </tr>\n",
       "    <tr>\n",
       "      <th>DS</th>\n",
       "      <td>1.54</td>\n",
       "      <td>NaN</td>\n",
       "      <td>NaN</td>\n",
       "      <td>NaN</td>\n",
       "    </tr>\n",
       "    <tr>\n",
       "      <th>PC</th>\n",
       "      <td>12.38</td>\n",
       "      <td>13.28</td>\n",
       "      <td>8.52</td>\n",
       "      <td>5.25</td>\n",
       "    </tr>\n",
       "    <tr>\n",
       "      <th>PS3</th>\n",
       "      <td>113.25</td>\n",
       "      <td>47.76</td>\n",
       "      <td>16.82</td>\n",
       "      <td>3.60</td>\n",
       "    </tr>\n",
       "    <tr>\n",
       "      <th>PS4</th>\n",
       "      <td>25.99</td>\n",
       "      <td>100.00</td>\n",
       "      <td>118.90</td>\n",
       "      <td>69.25</td>\n",
       "    </tr>\n",
       "    <tr>\n",
       "      <th>PSP</th>\n",
       "      <td>3.14</td>\n",
       "      <td>0.24</td>\n",
       "      <td>0.12</td>\n",
       "      <td>NaN</td>\n",
       "    </tr>\n",
       "    <tr>\n",
       "      <th>PSV</th>\n",
       "      <td>10.59</td>\n",
       "      <td>11.90</td>\n",
       "      <td>6.25</td>\n",
       "      <td>4.25</td>\n",
       "    </tr>\n",
       "    <tr>\n",
       "      <th>Wii</th>\n",
       "      <td>8.59</td>\n",
       "      <td>3.75</td>\n",
       "      <td>1.14</td>\n",
       "      <td>0.18</td>\n",
       "    </tr>\n",
       "    <tr>\n",
       "      <th>WiiU</th>\n",
       "      <td>21.65</td>\n",
       "      <td>22.03</td>\n",
       "      <td>16.35</td>\n",
       "      <td>4.60</td>\n",
       "    </tr>\n",
       "    <tr>\n",
       "      <th>X360</th>\n",
       "      <td>88.58</td>\n",
       "      <td>34.74</td>\n",
       "      <td>11.96</td>\n",
       "      <td>1.52</td>\n",
       "    </tr>\n",
       "    <tr>\n",
       "      <th>XOne</th>\n",
       "      <td>18.96</td>\n",
       "      <td>54.07</td>\n",
       "      <td>60.14</td>\n",
       "      <td>26.15</td>\n",
       "    </tr>\n",
       "  </tbody>\n",
       "</table>\n",
       "</div>"
      ],
      "text/plain": [
       "year_of_release    2013    2014    2015   2016\n",
       "platform                                      \n",
       "3DS               56.57   43.76   27.78  15.14\n",
       "DS                 1.54     NaN     NaN    NaN\n",
       "PC                12.38   13.28    8.52   5.25\n",
       "PS3              113.25   47.76   16.82   3.60\n",
       "PS4               25.99  100.00  118.90  69.25\n",
       "PSP                3.14    0.24    0.12    NaN\n",
       "PSV               10.59   11.90    6.25   4.25\n",
       "Wii                8.59    3.75    1.14   0.18\n",
       "WiiU              21.65   22.03   16.35   4.60\n",
       "X360              88.58   34.74   11.96   1.52\n",
       "XOne              18.96   54.07   60.14  26.15"
      ]
     },
     "execution_count": 42,
     "metadata": {},
     "output_type": "execute_result"
    }
   ],
   "source": [
    "actual_platforms = actual_period.pivot_table(\n",
    "    index='platform',\n",
    "    columns='year_of_release',\n",
    "    values='income',\n",
    "    aggfunc='sum')\n",
    "actual_platforms"
   ]
  },
  {
   "cell_type": "code",
   "execution_count": 43,
   "metadata": {},
   "outputs": [
    {
     "data": {
      "text/html": [
       "<div>\n",
       "<style scoped>\n",
       "    .dataframe tbody tr th:only-of-type {\n",
       "        vertical-align: middle;\n",
       "    }\n",
       "\n",
       "    .dataframe tbody tr th {\n",
       "        vertical-align: top;\n",
       "    }\n",
       "\n",
       "    .dataframe thead th {\n",
       "        text-align: right;\n",
       "    }\n",
       "</style>\n",
       "<table border=\"1\" class=\"dataframe\">\n",
       "  <thead>\n",
       "    <tr style=\"text-align: right;\">\n",
       "      <th>year_of_release</th>\n",
       "      <th>2013</th>\n",
       "      <th>2014</th>\n",
       "      <th>2015</th>\n",
       "      <th>2016</th>\n",
       "    </tr>\n",
       "    <tr>\n",
       "      <th>platform</th>\n",
       "      <th></th>\n",
       "      <th></th>\n",
       "      <th></th>\n",
       "      <th></th>\n",
       "    </tr>\n",
       "  </thead>\n",
       "  <tbody>\n",
       "    <tr>\n",
       "      <th>3DS</th>\n",
       "      <td>56.57</td>\n",
       "      <td>43.76</td>\n",
       "      <td>27.78</td>\n",
       "      <td>15.14</td>\n",
       "    </tr>\n",
       "    <tr>\n",
       "      <th>PC</th>\n",
       "      <td>12.38</td>\n",
       "      <td>13.28</td>\n",
       "      <td>8.52</td>\n",
       "      <td>5.25</td>\n",
       "    </tr>\n",
       "    <tr>\n",
       "      <th>PS3</th>\n",
       "      <td>113.25</td>\n",
       "      <td>47.76</td>\n",
       "      <td>16.82</td>\n",
       "      <td>3.60</td>\n",
       "    </tr>\n",
       "    <tr>\n",
       "      <th>PS4</th>\n",
       "      <td>25.99</td>\n",
       "      <td>100.00</td>\n",
       "      <td>118.90</td>\n",
       "      <td>69.25</td>\n",
       "    </tr>\n",
       "    <tr>\n",
       "      <th>PSV</th>\n",
       "      <td>10.59</td>\n",
       "      <td>11.90</td>\n",
       "      <td>6.25</td>\n",
       "      <td>4.25</td>\n",
       "    </tr>\n",
       "    <tr>\n",
       "      <th>Wii</th>\n",
       "      <td>8.59</td>\n",
       "      <td>3.75</td>\n",
       "      <td>1.14</td>\n",
       "      <td>0.18</td>\n",
       "    </tr>\n",
       "    <tr>\n",
       "      <th>WiiU</th>\n",
       "      <td>21.65</td>\n",
       "      <td>22.03</td>\n",
       "      <td>16.35</td>\n",
       "      <td>4.60</td>\n",
       "    </tr>\n",
       "    <tr>\n",
       "      <th>X360</th>\n",
       "      <td>88.58</td>\n",
       "      <td>34.74</td>\n",
       "      <td>11.96</td>\n",
       "      <td>1.52</td>\n",
       "    </tr>\n",
       "    <tr>\n",
       "      <th>XOne</th>\n",
       "      <td>18.96</td>\n",
       "      <td>54.07</td>\n",
       "      <td>60.14</td>\n",
       "      <td>26.15</td>\n",
       "    </tr>\n",
       "  </tbody>\n",
       "</table>\n",
       "</div>"
      ],
      "text/plain": [
       "year_of_release    2013    2014    2015   2016\n",
       "platform                                      \n",
       "3DS               56.57   43.76   27.78  15.14\n",
       "PC                12.38   13.28    8.52   5.25\n",
       "PS3              113.25   47.76   16.82   3.60\n",
       "PS4               25.99  100.00  118.90  69.25\n",
       "PSV               10.59   11.90    6.25   4.25\n",
       "Wii                8.59    3.75    1.14   0.18\n",
       "WiiU              21.65   22.03   16.35   4.60\n",
       "X360              88.58   34.74   11.96   1.52\n",
       "XOne              18.96   54.07   60.14  26.15"
      ]
     },
     "execution_count": 43,
     "metadata": {},
     "output_type": "execute_result"
    }
   ],
   "source": [
    "#удалим Nan-значения, которых всего 3 в таблице\n",
    "actual_platforms.dropna(subset = [2016], inplace = True)\n",
    "actual_platforms"
   ]
  },
  {
   "cell_type": "code",
   "execution_count": 44,
   "metadata": {},
   "outputs": [
    {
     "data": {
      "image/png": "[encoded data removed]",
      "text/plain": [
       "<Figure size 1080x720 with 1 Axes>"
      ]
     },
     "metadata": {
      "needs_background": "light"
     },
     "output_type": "display_data"
    }
   ],
   "source": [
    "actual_platforms = (actual_period\n",
    "                              .loc[(actual_period['platform'].isin((\"3DS\", \"PS4\", \"PSV\", \"WiiU\", \"XOne\", \"PC\", \"X360\", \"PS3\"))==True) & (\n",
    "                                  actual_period['year_of_release'].isin((2013, 2014, 2015, 2016))==True)]\n",
    "                              .pivot_table(index=['platform', 'year_of_release'], values='income', aggfunc='sum')\n",
    "                              .reset_index()\n",
    "                 )\n",
    "plot = sns.catplot(x='year_of_release', y='income', hue=\"platform\", kind=\"bar\", data=actual_platforms)\n",
    "plt.title(\"Выручка игр по актуальным платформам 2013-2016 гг.\", fontsize=14)\n",
    "plt.xlabel('Год выпуска', fontsize=12)\n",
    "plt.ylabel('Выручка,млн', fontsize=12)\n",
    "plot.fig.set_size_inches(15,10)"
   ]
  },
  {
   "cell_type": "markdown",
   "metadata": {},
   "source": [
    "Получился список лидирующих платформ на 2016 год и потенциально прибыльные в 2017 году. Сделаем по графику вывод потенциально прибыльных платформ на 2017 год.\\\n",
    "\\\n",
    "Обратим на 2016 год. Лидером является PS4. Второе место по выручке занимает XOne, третье - 3DS. PS3 показывает спад с годами на фоне своего последователя, PS4. PC и PSV показывают низкие значения в течении временного промежутка. Аустайдер в 2016 году - X360, которую также затмил последователь,XOne.\\\n",
    "\\\n",
    "В потенциально прибыльные сразу можно выделить PS4, XOne, 3DS. Снижение спроса на игры приходится на платформах 3DS, PlaystationVita и WiiU, и возможно, что могут показать себя довольно хорошо в следующих годах с выходом обновленных версий платформ, поэтому внесем их тоже в список потенциально прибыльных платформ."
   ]
  },
  {
   "cell_type": "markdown",
   "metadata": {},
   "source": [
    "### 3.4. Глобальные продажи игр в разбивке по платформам за актуальный период."
   ]
  },
  {
   "cell_type": "code",
   "execution_count": 45,
   "metadata": {},
   "outputs": [
    {
     "data": {
      "text/html": [
       "<div>\n",
       "<style scoped>\n",
       "    .dataframe tbody tr th:only-of-type {\n",
       "        vertical-align: middle;\n",
       "    }\n",
       "\n",
       "    .dataframe tbody tr th {\n",
       "        vertical-align: top;\n",
       "    }\n",
       "\n",
       "    .dataframe thead th {\n",
       "        text-align: right;\n",
       "    }\n",
       "</style>\n",
       "<table border=\"1\" class=\"dataframe\">\n",
       "  <thead>\n",
       "    <tr style=\"text-align: right;\">\n",
       "      <th></th>\n",
       "      <th>name</th>\n",
       "      <th>platform</th>\n",
       "      <th>year_of_release</th>\n",
       "      <th>genre</th>\n",
       "      <th>na_sales</th>\n",
       "      <th>eu_sales</th>\n",
       "      <th>jp_sales</th>\n",
       "      <th>other_sales</th>\n",
       "      <th>critic_score</th>\n",
       "      <th>user_score</th>\n",
       "      <th>rating</th>\n",
       "      <th>income</th>\n",
       "    </tr>\n",
       "  </thead>\n",
       "  <tbody>\n",
       "    <tr>\n",
       "      <th>0</th>\n",
       "      <td>Grand Theft Auto V</td>\n",
       "      <td>PS3</td>\n",
       "      <td>2013</td>\n",
       "      <td>action</td>\n",
       "      <td>7.02</td>\n",
       "      <td>9.09</td>\n",
       "      <td>0.98</td>\n",
       "      <td>3.96</td>\n",
       "      <td>97.0</td>\n",
       "      <td>8.2</td>\n",
       "      <td>M</td>\n",
       "      <td>21.05</td>\n",
       "    </tr>\n",
       "    <tr>\n",
       "      <th>1</th>\n",
       "      <td>Grand Theft Auto V</td>\n",
       "      <td>X360</td>\n",
       "      <td>2013</td>\n",
       "      <td>action</td>\n",
       "      <td>9.66</td>\n",
       "      <td>5.14</td>\n",
       "      <td>0.06</td>\n",
       "      <td>1.41</td>\n",
       "      <td>97.0</td>\n",
       "      <td>8.1</td>\n",
       "      <td>M</td>\n",
       "      <td>16.27</td>\n",
       "    </tr>\n",
       "    <tr>\n",
       "      <th>2</th>\n",
       "      <td>Call of Duty: Black Ops 3</td>\n",
       "      <td>PS4</td>\n",
       "      <td>2015</td>\n",
       "      <td>shooter</td>\n",
       "      <td>6.03</td>\n",
       "      <td>5.86</td>\n",
       "      <td>0.36</td>\n",
       "      <td>2.38</td>\n",
       "      <td>NaN</td>\n",
       "      <td>NaN</td>\n",
       "      <td>without</td>\n",
       "      <td>14.63</td>\n",
       "    </tr>\n",
       "    <tr>\n",
       "      <th>3</th>\n",
       "      <td>Pokemon X/Pokemon Y</td>\n",
       "      <td>3DS</td>\n",
       "      <td>2013</td>\n",
       "      <td>role-playing</td>\n",
       "      <td>5.28</td>\n",
       "      <td>4.19</td>\n",
       "      <td>4.35</td>\n",
       "      <td>0.78</td>\n",
       "      <td>NaN</td>\n",
       "      <td>NaN</td>\n",
       "      <td>without</td>\n",
       "      <td>14.60</td>\n",
       "    </tr>\n",
       "    <tr>\n",
       "      <th>4</th>\n",
       "      <td>Grand Theft Auto V</td>\n",
       "      <td>PS4</td>\n",
       "      <td>2014</td>\n",
       "      <td>action</td>\n",
       "      <td>3.96</td>\n",
       "      <td>6.31</td>\n",
       "      <td>0.38</td>\n",
       "      <td>1.97</td>\n",
       "      <td>97.0</td>\n",
       "      <td>8.3</td>\n",
       "      <td>M</td>\n",
       "      <td>12.62</td>\n",
       "    </tr>\n",
       "  </tbody>\n",
       "</table>\n",
       "</div>"
      ],
      "text/plain": [
       "                        name platform  year_of_release         genre  \\\n",
       "0         Grand Theft Auto V      PS3             2013        action   \n",
       "1         Grand Theft Auto V     X360             2013        action   \n",
       "2  Call of Duty: Black Ops 3      PS4             2015       shooter   \n",
       "3        Pokemon X/Pokemon Y      3DS             2013  role-playing   \n",
       "4         Grand Theft Auto V      PS4             2014        action   \n",
       "\n",
       "   na_sales  eu_sales  jp_sales  other_sales  critic_score  user_score  \\\n",
       "0      7.02      9.09      0.98         3.96          97.0         8.2   \n",
       "1      9.66      5.14      0.06         1.41          97.0         8.1   \n",
       "2      6.03      5.86      0.36         2.38           NaN         NaN   \n",
       "3      5.28      4.19      4.35         0.78           NaN         NaN   \n",
       "4      3.96      6.31      0.38         1.97          97.0         8.3   \n",
       "\n",
       "    rating  income  \n",
       "0        M   21.05  \n",
       "1        M   16.27  \n",
       "2  without   14.63  \n",
       "3  without   14.60  \n",
       "4        M   12.62  "
      ]
     },
     "execution_count": 45,
     "metadata": {},
     "output_type": "execute_result"
    }
   ],
   "source": [
    "profitable_platforms = pd.Series(actual_platforms['platform'].unique())\n",
    "popular_games = actual_period.loc[actual_period['platform'].isin(profitable_platforms)==True].reset_index(drop=True)\n",
    "popular_games.head()"
   ]
  },
  {
   "cell_type": "code",
   "execution_count": 46,
   "metadata": {},
   "outputs": [
    {
     "data": {
      "text/html": [
       "<div>\n",
       "<style scoped>\n",
       "    .dataframe tbody tr th:only-of-type {\n",
       "        vertical-align: middle;\n",
       "    }\n",
       "\n",
       "    .dataframe tbody tr th {\n",
       "        vertical-align: top;\n",
       "    }\n",
       "\n",
       "    .dataframe thead th {\n",
       "        text-align: right;\n",
       "    }\n",
       "</style>\n",
       "<table border=\"1\" class=\"dataframe\">\n",
       "  <thead>\n",
       "    <tr style=\"text-align: right;\">\n",
       "      <th></th>\n",
       "      <th>platform</th>\n",
       "      <th>name</th>\n",
       "      <th>income</th>\n",
       "    </tr>\n",
       "  </thead>\n",
       "  <tbody>\n",
       "    <tr>\n",
       "      <th>0</th>\n",
       "      <td>3DS</td>\n",
       "      <td>Beyblade Burst</td>\n",
       "      <td>0.03</td>\n",
       "    </tr>\n",
       "    <tr>\n",
       "      <th>1</th>\n",
       "      <td>3DS</td>\n",
       "      <td>Fire Emblem Fates</td>\n",
       "      <td>1.67</td>\n",
       "    </tr>\n",
       "    <tr>\n",
       "      <th>2</th>\n",
       "      <td>3DS</td>\n",
       "      <td>Frozen: Olaf's Quest</td>\n",
       "      <td>0.59</td>\n",
       "    </tr>\n",
       "    <tr>\n",
       "      <th>3</th>\n",
       "      <td>3DS</td>\n",
       "      <td>Haikyu!! Cross Team Match!</td>\n",
       "      <td>0.04</td>\n",
       "    </tr>\n",
       "    <tr>\n",
       "      <th>4</th>\n",
       "      <td>3DS</td>\n",
       "      <td>12-Sai. Honto no Kimochi</td>\n",
       "      <td>0.07</td>\n",
       "    </tr>\n",
       "    <tr>\n",
       "      <th>...</th>\n",
       "      <td>...</td>\n",
       "      <td>...</td>\n",
       "      <td>...</td>\n",
       "    </tr>\n",
       "    <tr>\n",
       "      <th>2130</th>\n",
       "      <td>XOne</td>\n",
       "      <td>XCOM 2</td>\n",
       "      <td>0.04</td>\n",
       "    </tr>\n",
       "    <tr>\n",
       "      <th>2131</th>\n",
       "      <td>XOne</td>\n",
       "      <td>ZombiU</td>\n",
       "      <td>0.01</td>\n",
       "    </tr>\n",
       "    <tr>\n",
       "      <th>2132</th>\n",
       "      <td>XOne</td>\n",
       "      <td>Zombie Army Trilogy</td>\n",
       "      <td>0.11</td>\n",
       "    </tr>\n",
       "    <tr>\n",
       "      <th>2133</th>\n",
       "      <td>XOne</td>\n",
       "      <td>Zoo Tycoon (2013)</td>\n",
       "      <td>0.36</td>\n",
       "    </tr>\n",
       "    <tr>\n",
       "      <th>2134</th>\n",
       "      <td>XOne</td>\n",
       "      <td>Zumba Fitness: World Party</td>\n",
       "      <td>0.24</td>\n",
       "    </tr>\n",
       "  </tbody>\n",
       "</table>\n",
       "<p>2135 rows × 3 columns</p>\n",
       "</div>"
      ],
      "text/plain": [
       "     platform                         name  income\n",
       "0         3DS               Beyblade Burst    0.03\n",
       "1         3DS            Fire Emblem Fates    1.67\n",
       "2         3DS         Frozen: Olaf's Quest    0.59\n",
       "3         3DS   Haikyu!! Cross Team Match!    0.04\n",
       "4         3DS     12-Sai. Honto no Kimochi    0.07\n",
       "...       ...                          ...     ...\n",
       "2130     XOne                       XCOM 2    0.04\n",
       "2131     XOne                       ZombiU    0.01\n",
       "2132     XOne          Zombie Army Trilogy    0.11\n",
       "2133     XOne            Zoo Tycoon (2013)    0.36\n",
       "2134     XOne   Zumba Fitness: World Party    0.24\n",
       "\n",
       "[2135 rows x 3 columns]"
      ]
     },
     "execution_count": 46,
     "metadata": {},
     "output_type": "execute_result"
    }
   ],
   "source": [
    "#cоздадим pivot_table() для построения boxplot()\n",
    "global_sales = popular_games.pivot_table(index=['platform', 'name'], values='income', aggfunc='sum').reset_index()\n",
    "global_sales"
   ]
  },
  {
   "cell_type": "code",
   "execution_count": 47,
   "metadata": {},
   "outputs": [
    {
     "data": {
      "image/png": "[encoded data removed]",
      "text/plain": [
       "<Figure size 864x504 with 1 Axes>"
      ]
     },
     "metadata": {
      "needs_background": "light"
     },
     "output_type": "display_data"
    }
   ],
   "source": [
    "#настроим размер фигуры\n",
    "plt.figure(figsize=(12,7))\n",
    "#построим boxplot\n",
    "sns.boxplot(\n",
    "    data=global_sales,\n",
    "    x='platform',\n",
    "    y='income',\n",
    "    palette='rainbow',\n",
    "    showfliers=False\n",
    ")\n",
    "#настроим окружение диаграммы\n",
    "plt.title(\"Глобальные продажи игр по потенциально прибыльным платформам\")\n",
    "plt.ylim(0, 2)\n",
    "plt.xlabel('Платформа')\n",
    "plt.ylabel('Выручка,млн')\n",
    "plt.show()"
   ]
  },
  {
   "cell_type": "markdown",
   "metadata": {},
   "source": [
    "Все boxplot-графики показывают скос данных вправо и превышение среднего значения над медианным. Можно распределить силу скоса по возрастанию: X360, PS4, и XOne сильнее всего, затем WiiU и PS3, последние 3DS, PC и небольшой boxplot PSVita. Также видны различия в медианных значениях: игры на PS4, X360 и XBoxOne сильно схожие графики, а WiiU и PS3 характеризуются меньшим значением; затем идёт 3DS, PC и PSV.\\\n",
    "\\\n",
    "Можно сделать предположение, что скос в данных и различия в медианных значениях могли произойти из-за разнобразия игр на ведущих платформах. PS и XBox популярны среди потребителей долгое время, поэтому выпускают больше игрового контента в разной ценовой категории для каждой потребительской группы. Следовательно, графики этих компаний шире и растянутее. WiiU также известная консоль, но менее популярная в сравнении с PS и Xbox. Соответственно, разнообразие игр на данной платформе ниже. PSVita - консоль с небольшим разнообразием игр. Разброс по данной платформе самый небольшой."
   ]
  },
  {
   "cell_type": "markdown",
   "metadata": {},
   "source": [
    "### 3.5. Влияние отзывов пользователей и критиков на продажи внутри одной популярной платформы ."
   ]
  },
  {
   "cell_type": "markdown",
   "metadata": {},
   "source": [
    "Построим матрицу корреляции и диаграммы рассеяния на основе PS4 (самой популярной платформы) между отзывами и продажами."
   ]
  },
  {
   "cell_type": "code",
   "execution_count": 48,
   "metadata": {},
   "outputs": [],
   "source": [
    "ps4_rating = actual_period.query('critic_score != -1 and user_score != -1')\n",
    "ps4 = ps4_rating[ps4_rating['platform'] == 'PS4']\n",
    "columns = ['user_score', 'critic_score', 'income']"
   ]
  },
  {
   "cell_type": "code",
   "execution_count": 49,
   "metadata": {},
   "outputs": [
    {
     "data": {
      "text/html": [
       "<div>\n",
       "<style scoped>\n",
       "    .dataframe tbody tr th:only-of-type {\n",
       "        vertical-align: middle;\n",
       "    }\n",
       "\n",
       "    .dataframe tbody tr th {\n",
       "        vertical-align: top;\n",
       "    }\n",
       "\n",
       "    .dataframe thead th {\n",
       "        text-align: right;\n",
       "    }\n",
       "</style>\n",
       "<table border=\"1\" class=\"dataframe\">\n",
       "  <thead>\n",
       "    <tr style=\"text-align: right;\">\n",
       "      <th></th>\n",
       "      <th>user_score</th>\n",
       "      <th>critic_score</th>\n",
       "      <th>income</th>\n",
       "    </tr>\n",
       "  </thead>\n",
       "  <tbody>\n",
       "    <tr>\n",
       "      <th>user_score</th>\n",
       "      <td>1.000000</td>\n",
       "      <td>0.557654</td>\n",
       "      <td>-0.031957</td>\n",
       "    </tr>\n",
       "    <tr>\n",
       "      <th>critic_score</th>\n",
       "      <td>0.557654</td>\n",
       "      <td>1.000000</td>\n",
       "      <td>0.406568</td>\n",
       "    </tr>\n",
       "    <tr>\n",
       "      <th>income</th>\n",
       "      <td>-0.031957</td>\n",
       "      <td>0.406568</td>\n",
       "      <td>1.000000</td>\n",
       "    </tr>\n",
       "  </tbody>\n",
       "</table>\n",
       "</div>"
      ],
      "text/plain": [
       "              user_score  critic_score    income\n",
       "user_score      1.000000      0.557654 -0.031957\n",
       "critic_score    0.557654      1.000000  0.406568\n",
       "income         -0.031957      0.406568  1.000000"
      ]
     },
     "execution_count": 49,
     "metadata": {},
     "output_type": "execute_result"
    }
   ],
   "source": [
    "#посчитаем корреляцию между отзывами пользователей, критиков и продажами\n",
    "ps4[columns].corr()"
   ]
  },
  {
   "cell_type": "code",
   "execution_count": 50,
   "metadata": {},
   "outputs": [
    {
     "data": {
      "image/png": "[encoded data removed]",
      "text/plain": [
       "<Figure size 576x288 with 1 Axes>"
      ]
     },
     "metadata": {
      "needs_background": "light"
     },
     "output_type": "display_data"
    },
    {
     "data": {
      "image/png": "[encoded data removed]",
      "text/plain": [
       "<Figure size 576x288 with 1 Axes>"
      ]
     },
     "metadata": {
      "needs_background": "light"
     },
     "output_type": "display_data"
    }
   ],
   "source": [
    "#построим диаграмму рассеяния по отзывам пользователей\n",
    "plt.figure(figsize=(8,4))\n",
    "sns.scatterplot(data=ps4, x='user_score', y='income')\n",
    "plt.title(label='Корреляция продаж и отзывов пользователей')\n",
    "plt.xlabel('Отзывы пользователей')\n",
    "plt.ylabel('Продажи');\n",
    "#построим диаграмму рассеяния по отзывам критиков\n",
    "plt.figure(figsize=(8,4))\n",
    "sns.scatterplot(data=ps4, x='critic_score', y='income')\n",
    "plt.title(label='Корреляция продаж и отзывов критиков')\n",
    "plt.xlabel('Отзывы критиков')\n",
    "plt.ylabel('Продажи');"
   ]
  },
  {
   "cell_type": "markdown",
   "metadata": {},
   "source": [
    "Судя по графикам и матрице корреляции можно сделать следующие выводы:\n",
    "* Отсутствует взаимосвязь между оценками пользователей и продажами\n",
    "* Имеется низкая взаимосвязь между оценками критиков и продажами\n",
    "* Есть взаимосвязь между оценками критиков и пользователей (0.56)\n",
    "* Также присутствует связь между оценками критиков и продажами\\\n",
    "\\\n",
    "Следуя из исследования, высокая оценка критиков не гарантирует высокие продажи игр для PS4, пользовательские оценки не гарантирую продажи вовсе."
   ]
  },
  {
   "cell_type": "markdown",
   "metadata": {},
   "source": [
    "### 3.6. Соотнесение выводов с продажами игр на других платформах"
   ]
  },
  {
   "cell_type": "markdown",
   "metadata": {},
   "source": [
    "**Выберем другие популярные платформы для сравнения вывода, который получился в случае с PS4**."
   ]
  },
  {
   "cell_type": "code",
   "execution_count": 51,
   "metadata": {},
   "outputs": [],
   "source": [
    "top_platforms = [\"3DS\", \"PSV\", \"WiiU\", \"XOne\", \"PC\", \"X360\", \"PS3\"]"
   ]
  },
  {
   "cell_type": "code",
   "execution_count": 52,
   "metadata": {},
   "outputs": [
    {
     "data": {
      "image/png": "[encoded data removed]",
      "text/plain": [
       "<Figure size 864x360 with 2 Axes>"
      ]
     },
     "metadata": {
      "needs_background": "light"
     },
     "output_type": "display_data"
    },
    {
     "data": {
      "image/png": "[encoded data removed]",
      "text/plain": [
       "<Figure size 864x360 with 2 Axes>"
      ]
     },
     "metadata": {
      "needs_background": "light"
     },
     "output_type": "display_data"
    },
    {
     "data": {
      "image/png": "[encoded data removed]",
      "text/plain": [
       "<Figure size 864x360 with 2 Axes>"
      ]
     },
     "metadata": {
      "needs_background": "light"
     },
     "output_type": "display_data"
    },
    {
     "data": {
      "image/png": "[encoded data removed]",
      "text/plain": [
       "<Figure size 864x360 with 2 Axes>"
      ]
     },
     "metadata": {
      "needs_background": "light"
     },
     "output_type": "display_data"
    },
    {
     "data": {
      "image/png": "[encoded data removed]",
      "text/plain": [
       "<Figure size 864x360 with 2 Axes>"
      ]
     },
     "metadata": {
      "needs_background": "light"
     },
     "output_type": "display_data"
    },
    {
     "data": {
      "image/png": "[encoded data removed]",
      "text/plain": [
       "<Figure size 864x360 with 2 Axes>"
      ]
     },
     "metadata": {
      "needs_background": "light"
     },
     "output_type": "display_data"
    },
    {
     "data": {
      "image/png": "[encoded data removed]",
      "text/plain": [
       "<Figure size 864x360 with 2 Axes>"
      ]
     },
     "metadata": {
      "needs_background": "light"
     },
     "output_type": "display_data"
    }
   ],
   "source": [
    "#используем цикл для построения диаграмм рассеяния\n",
    "for i in top_platforms:\n",
    "    x_critic = ps4_rating[ps4_rating['platform']==i]['critic_score']\n",
    "    y_critic = ps4_rating[ps4_rating['platform']==i]['income']\n",
    "    \n",
    "    x_user = ps4_rating[ps4_rating['platform']==i]['user_score']\n",
    "    y_user = ps4_rating[ps4_rating['platform']==i]['income']\n",
    "    \n",
    "    \n",
    "    fig = plt.figure(figsize=(12, 5))\n",
    "    \n",
    "    ax1 = fig.add_subplot(121)\n",
    "    ax1.scatter(x_critic, y_critic)\n",
    "    ax1.set_title('Зависимость продаж от оценок критиков\\n на платформе ' + i, fontsize=14, fontweight=\"bold\")\n",
    "    ax1.set_xlabel('Оценки критиков\\n', fontsize=14)\n",
    "    ax1.set_ylabel('Продажи', fontsize=14)\n",
    "    \n",
    "    ax2 = fig.add_subplot(122)\n",
    "    ax2.scatter(x_user, y_user)\n",
    "    ax2.set_title('Зависимость продаж от оценок пользователей\\n на платформе ' + i, fontsize=14, fontweight=\"bold\")\n",
    "    ax2.set_xlabel('Оценки пользователей\\n', fontsize=14)\n",
    "    ax2.set_ylabel('Продажи', fontsize=14)\n",
    "    \n",
    "    plt.tight_layout(w_pad=3)"
   ]
  },
  {
   "cell_type": "code",
   "execution_count": 53,
   "metadata": {},
   "outputs": [
    {
     "name": "stdout",
     "output_type": "stream",
     "text": [
      "Requirement already satisfied: tabulate in /opt/conda/lib/python3.9/site-packages (0.9.0)\n",
      "3DS\n",
      "0.36                          0.24                          \n",
      "PSV\n",
      "0.25                          0.00094                       \n",
      "WiiU\n",
      "0.38                          0.42                          \n",
      "XOne\n",
      "0.42                          -0.069                        \n",
      "PC\n",
      "0.2                           -0.094                        \n",
      "X360\n",
      "0.35                          -0.012                        \n",
      "PS3\n",
      "0.33                          0.0024                        \n",
      "+-------------+------------------------------+-----------------------------------+\n",
      "| Платформа   |   Корреляция продажи/критики |   Корреляция продажи/пользователи |\n",
      "+=============+==============================+===================================+\n",
      "| 3DS         |                         0.36 |                           0.24    |\n",
      "+-------------+------------------------------+-----------------------------------+\n",
      "| PSV         |                         0.25 |                           0.00094 |\n",
      "+-------------+------------------------------+-----------------------------------+\n",
      "| WiiU        |                         0.38 |                           0.42    |\n",
      "+-------------+------------------------------+-----------------------------------+\n",
      "| XOne        |                         0.42 |                          -0.069   |\n",
      "+-------------+------------------------------+-----------------------------------+\n",
      "| PC          |                         0.2  |                          -0.094   |\n",
      "+-------------+------------------------------+-----------------------------------+\n",
      "| X360        |                         0.35 |                          -0.012   |\n",
      "+-------------+------------------------------+-----------------------------------+\n",
      "| PS3         |                         0.33 |                           0.0024  |\n",
      "+-------------+------------------------------+-----------------------------------+\n"
     ]
    }
   ],
   "source": [
    "!pip install tabulate\n",
    "from tabulate import tabulate\n",
    "for i in top_platforms:\n",
    "    print(i)\n",
    "    print('{: <30.2}{: <30.2}'.format(ps4_rating[ps4_rating['platform']==i]['income']\\\n",
    "                                   .corr(ps4_rating[ps4_rating['platform']==i]['critic_score'])\\\n",
    "                                   \n",
    "                                   , ps4_rating[ps4_rating['platform']==i]['income']\\\n",
    "                                   .corr(ps4_rating[ps4_rating['platform']==i]['user_score'])))\n",
    "\n",
    " \n",
    "#обозначим данные для таблицы\n",
    "corr_data = [\n",
    "    [\"3DS\",\"0.36\",\"0.24\"],\n",
    "    [\"PSV\",\"0.25\",\"0.00094\"],\n",
    "    [\"WiiU\",\"0.38\",\"0.42\"],\n",
    "    [\"XOne\",\"0.42\",\"-0.069\"],\n",
    "    [\"PC\",\"0.2\",\"-0.094\"],\n",
    "    [\"X360\",\"0.35\",\"-0.012\"],\n",
    "    [\"PS3\",\"0.33\",\"0.0024\"]]\n",
    " \n",
    "# create header\n",
    "head = [\"Платформа\",\"Корреляция продажи/критики\",\"Корреляция продажи/пользователи\"]\n",
    " \n",
    "# display table\n",
    "print(tabulate(corr_data, headers=head, tablefmt=\"grid\"))"
   ]
  },
  {
   "cell_type": "markdown",
   "metadata": {},
   "source": [
    "**Вывод:** \\\n",
    "В целом можно сказать, что ситуация по другим платформам схожа с PS4.\\\n",
    "\\\n",
    "В случае 3DS, WiiU прослеживается низкая взаимосвязь между продажами и отзывами как критиков, так и пользователей. В случае PSV, XOne, PC, X360 и PS3 больше влияют на продажи отзывы критиков, но влияние все равно низкое. Отзывы пользователей не влияют на продажи.\\\n",
    "\\\n",
    "Относительно графиков можно отметить, что объем продаж резко возрастает при оценке критиков от 60 и пользователей от 6 баллов, в некоторых случаях от 4 баллов."
   ]
  },
  {
   "cell_type": "markdown",
   "metadata": {},
   "source": [
    "### 3.7. Общее распределение игр по жанрам"
   ]
  },
  {
   "cell_type": "markdown",
   "metadata": {},
   "source": [
    "Построим диаграммы и сделаем вывод о самых прибыльных жанрах. Выделим жанры с высокими и низкими продажами, если такие имеются. Для начала построим boxplot-график, где по абциссе будут лежать жанры, а по ординате выручка с продаж."
   ]
  },
  {
   "cell_type": "code",
   "execution_count": 54,
   "metadata": {},
   "outputs": [
    {
     "data": {
      "image/png": "[encoded data removed]",
      "text/plain": [
       "<Figure size 864x504 with 1 Axes>"
      ]
     },
     "metadata": {
      "needs_background": "light"
     },
     "output_type": "display_data"
    }
   ],
   "source": [
    "#установим размер графика\n",
    "plt.figure(figsize=(12,7))\n",
    "#построим график с выбросами\n",
    "sns.boxplot(x=\"genre\", y=\"income\", data=actual_period, palette='rainbow', showfliers=True)\n",
    "#настроим окружение\n",
    "plt.title(\"Глобальные продажи игр по жанрам\")\n",
    "plt.xlabel('Жанр')\n",
    "plt.ylabel('Выручка,млн')\n",
    "plt.ylim(0, 15)\n",
    "plt.show()"
   ]
  },
  {
   "cell_type": "code",
   "execution_count": 55,
   "metadata": {},
   "outputs": [
    {
     "data": {
      "image/png": "[encoded data removed]",
      "text/plain": [
       "<Figure size 720x360 with 1 Axes>"
      ]
     },
     "metadata": {
      "needs_background": "light"
     },
     "output_type": "display_data"
    }
   ],
   "source": [
    "#установим размер графика\n",
    "plt.figure(figsize=(10,5))\n",
    "#построим график без выбросов\n",
    "sns.boxplot(x=\"genre\", y=\"income\", data=actual_period, palette='rainbow', showfliers=False)\n",
    "#настроим окружение\n",
    "plt.title(\"Глобальные продажи игр по жанрам\")\n",
    "plt.xlabel('Жанр')\n",
    "plt.ylabel('Выручка,млн')\n",
    "plt.ylim(0,1.75)\n",
    "plt.show()"
   ]
  },
  {
   "cell_type": "code",
   "execution_count": 56,
   "metadata": {},
   "outputs": [
    {
     "data": {
      "image/png": "[encoded data removed]",
      "text/plain": [
       "<Figure size 576x576 with 1 Axes>"
      ]
     },
     "metadata": {},
     "output_type": "display_data"
    }
   ],
   "source": [
    "actual_period['genre'].value_counts().plot(kind='pie', figsize=(8,8), autopct = '%1.0f%%', legend=False);"
   ]
  },
  {
   "cell_type": "code",
   "execution_count": 57,
   "metadata": {},
   "outputs": [
    {
     "data": {
      "text/html": [
       "<div>\n",
       "<style scoped>\n",
       "    .dataframe tbody tr th:only-of-type {\n",
       "        vertical-align: middle;\n",
       "    }\n",
       "\n",
       "    .dataframe tbody tr th {\n",
       "        vertical-align: top;\n",
       "    }\n",
       "\n",
       "    .dataframe thead th {\n",
       "        text-align: right;\n",
       "    }\n",
       "</style>\n",
       "<table border=\"1\" class=\"dataframe\">\n",
       "  <thead>\n",
       "    <tr style=\"text-align: right;\">\n",
       "      <th></th>\n",
       "      <th>genre</th>\n",
       "      <th>income</th>\n",
       "    </tr>\n",
       "  </thead>\n",
       "  <tbody>\n",
       "    <tr>\n",
       "      <th>0</th>\n",
       "      <td>action</td>\n",
       "      <td>321.87</td>\n",
       "    </tr>\n",
       "    <tr>\n",
       "      <th>1</th>\n",
       "      <td>shooter</td>\n",
       "      <td>232.98</td>\n",
       "    </tr>\n",
       "    <tr>\n",
       "      <th>2</th>\n",
       "      <td>sports</td>\n",
       "      <td>150.65</td>\n",
       "    </tr>\n",
       "    <tr>\n",
       "      <th>3</th>\n",
       "      <td>role-playing</td>\n",
       "      <td>145.89</td>\n",
       "    </tr>\n",
       "    <tr>\n",
       "      <th>4</th>\n",
       "      <td>misc</td>\n",
       "      <td>62.82</td>\n",
       "    </tr>\n",
       "    <tr>\n",
       "      <th>5</th>\n",
       "      <td>platform</td>\n",
       "      <td>42.63</td>\n",
       "    </tr>\n",
       "    <tr>\n",
       "      <th>6</th>\n",
       "      <td>racing</td>\n",
       "      <td>39.89</td>\n",
       "    </tr>\n",
       "    <tr>\n",
       "      <th>7</th>\n",
       "      <td>fighting</td>\n",
       "      <td>35.31</td>\n",
       "    </tr>\n",
       "    <tr>\n",
       "      <th>8</th>\n",
       "      <td>adventure</td>\n",
       "      <td>23.64</td>\n",
       "    </tr>\n",
       "    <tr>\n",
       "      <th>9</th>\n",
       "      <td>simulation</td>\n",
       "      <td>21.76</td>\n",
       "    </tr>\n",
       "    <tr>\n",
       "      <th>10</th>\n",
       "      <td>strategy</td>\n",
       "      <td>10.08</td>\n",
       "    </tr>\n",
       "    <tr>\n",
       "      <th>11</th>\n",
       "      <td>puzzle</td>\n",
       "      <td>3.17</td>\n",
       "    </tr>\n",
       "  </tbody>\n",
       "</table>\n",
       "</div>"
      ],
      "text/plain": [
       "           genre  income\n",
       "0         action  321.87\n",
       "1        shooter  232.98\n",
       "2         sports  150.65\n",
       "3   role-playing  145.89\n",
       "4           misc   62.82\n",
       "5       platform   42.63\n",
       "6         racing   39.89\n",
       "7       fighting   35.31\n",
       "8      adventure   23.64\n",
       "9     simulation   21.76\n",
       "10      strategy   10.08\n",
       "11        puzzle    3.17"
      ]
     },
     "execution_count": 57,
     "metadata": {},
     "output_type": "execute_result"
    }
   ],
   "source": [
    "#рассмотрим подробнее информацию\n",
    "#построим сводную таблицу по жанрам и продажам\n",
    "(actual_period.pivot_table(\n",
    "    index='genre',\n",
    "    values='income',\n",
    "    aggfunc='sum').sort_values(by='income', ascending=False).reset_index()\n",
    ")"
   ]
  },
  {
   "cell_type": "code",
   "execution_count": 58,
   "metadata": {},
   "outputs": [
    {
     "data": {
      "text/html": [
       "<div>\n",
       "<style scoped>\n",
       "    .dataframe tbody tr th:only-of-type {\n",
       "        vertical-align: middle;\n",
       "    }\n",
       "\n",
       "    .dataframe tbody tr th {\n",
       "        vertical-align: top;\n",
       "    }\n",
       "\n",
       "    .dataframe thead th {\n",
       "        text-align: right;\n",
       "    }\n",
       "</style>\n",
       "<table border=\"1\" class=\"dataframe\">\n",
       "  <thead>\n",
       "    <tr style=\"text-align: right;\">\n",
       "      <th></th>\n",
       "      <th>genre</th>\n",
       "      <th>name</th>\n",
       "    </tr>\n",
       "  </thead>\n",
       "  <tbody>\n",
       "    <tr>\n",
       "      <th>0</th>\n",
       "      <td>action</td>\n",
       "      <td>3307</td>\n",
       "    </tr>\n",
       "    <tr>\n",
       "      <th>10</th>\n",
       "      <td>sports</td>\n",
       "      <td>2305</td>\n",
       "    </tr>\n",
       "    <tr>\n",
       "      <th>3</th>\n",
       "      <td>misc</td>\n",
       "      <td>1721</td>\n",
       "    </tr>\n",
       "    <tr>\n",
       "      <th>7</th>\n",
       "      <td>role-playing</td>\n",
       "      <td>1481</td>\n",
       "    </tr>\n",
       "    <tr>\n",
       "      <th>8</th>\n",
       "      <td>shooter</td>\n",
       "      <td>1296</td>\n",
       "    </tr>\n",
       "    <tr>\n",
       "      <th>1</th>\n",
       "      <td>adventure</td>\n",
       "      <td>1293</td>\n",
       "    </tr>\n",
       "    <tr>\n",
       "      <th>6</th>\n",
       "      <td>racing</td>\n",
       "      <td>1226</td>\n",
       "    </tr>\n",
       "    <tr>\n",
       "      <th>4</th>\n",
       "      <td>platform</td>\n",
       "      <td>878</td>\n",
       "    </tr>\n",
       "    <tr>\n",
       "      <th>9</th>\n",
       "      <td>simulation</td>\n",
       "      <td>857</td>\n",
       "    </tr>\n",
       "    <tr>\n",
       "      <th>2</th>\n",
       "      <td>fighting</td>\n",
       "      <td>837</td>\n",
       "    </tr>\n",
       "  </tbody>\n",
       "</table>\n",
       "</div>"
      ],
      "text/plain": [
       "           genre  name\n",
       "0         action  3307\n",
       "10        sports  2305\n",
       "3           misc  1721\n",
       "7   role-playing  1481\n",
       "8        shooter  1296\n",
       "1      adventure  1293\n",
       "6         racing  1226\n",
       "4       platform   878\n",
       "9     simulation   857\n",
       "2       fighting   837"
      ]
     },
     "execution_count": 58,
     "metadata": {},
     "output_type": "execute_result"
    }
   ],
   "source": [
    "#теперь рассмотрим данные о кол-ве выпущенных игр по жанрам\n",
    "popularity_genres = data.groupby('genre').agg({'name':'count'}).reset_index()\n",
    "popularity_genres.sort_values(by='name', ascending=False).head(10)"
   ]
  },
  {
   "cell_type": "markdown",
   "metadata": {},
   "source": [
    "**Вывод:** \n",
    "\n",
    "* Наиболее прибыльным жанром на рынке является Action. Всего Action принёс 312,87 млн выручки и продажи по кол-ву игр составили 3307.\n",
    "* На втором месте после жанра Action стоит Shooter (232.98 млн), но при этом игр в этом жанре продано в 2 раза меньше, чем в Action. Средний и медианный уровни продаж жанра Shooter выше значений других жанров, а датасет в разрезе данного жанра сильно скошен вправо. Следовательно, шутеры - перспективный жанр для продаж.\n",
    "* На третьем месте по доходу за анализируемый актуальный период - Sport. Для спортивных игр характерна та же ситуация, что и для игр в жанре Action. В основном доходность зависит от объема выпускаемых игр.\n",
    "* Меньше всего выручки принёс жанр puzzle, при этом данный жанр не сильно популярен среди игроков и кол-во выпущеных игр 569. Жанр strategy выглядит более перспективным, так как опережая пазлы всего на 100 игр, выручка со стратегий в 3 раза больше.\n",
    "* Самым непереспективным выглядит жанр adventure, который выпускается в достаточно больших количествах, но приносит очень мало выручки. По распределению наибольшее число игр было продана за низкую цену, по сравнению с другими жанрами.\\\n",
    "\\\n",
    "Таким образом, самым прибыльным и популярным жанром является жанр action. Выделим также shooter, так как это высокодоходный жанр, учитывая небольшое кол-во игр на рынке.\\\n",
    "Самые низкие по продаваемости можно выделить жанры Puzzle и Strategy. Выделяется наименее прибыльный и довольно популярный жанр adventure, который не выглядит прибыльным в будущем."
   ]
  },
  {
   "cell_type": "markdown",
   "metadata": {},
   "source": [
    "## 4. Портрет пользователя каждого региона"
   ]
  },
  {
   "cell_type": "markdown",
   "metadata": {},
   "source": [
    "Определим для пользователя каждого региона (NA, EU, JP):\n",
    "* Самые популярные платформы (топ-5)\n",
    "* Самые популярные жанры (топ-5)\n",
    "* Влияние рейтинга ESRB на продажи в отдельном регионе"
   ]
  },
  {
   "cell_type": "markdown",
   "metadata": {},
   "source": [
    "### 4.1. Самые популярные платформы"
   ]
  },
  {
   "cell_type": "code",
   "execution_count": 59,
   "metadata": {},
   "outputs": [
    {
     "data": {
      "text/html": [
       "<div>\n",
       "<style scoped>\n",
       "    .dataframe tbody tr th:only-of-type {\n",
       "        vertical-align: middle;\n",
       "    }\n",
       "\n",
       "    .dataframe tbody tr th {\n",
       "        vertical-align: top;\n",
       "    }\n",
       "\n",
       "    .dataframe thead th {\n",
       "        text-align: right;\n",
       "    }\n",
       "</style>\n",
       "<table border=\"1\" class=\"dataframe\">\n",
       "  <thead>\n",
       "    <tr style=\"text-align: right;\">\n",
       "      <th></th>\n",
       "      <th>platform</th>\n",
       "      <th>na_sales</th>\n",
       "      <th>na_ratio_sales</th>\n",
       "    </tr>\n",
       "  </thead>\n",
       "  <tbody>\n",
       "    <tr>\n",
       "      <th>0</th>\n",
       "      <td>PS4</td>\n",
       "      <td>108.74</td>\n",
       "      <td>0.248</td>\n",
       "    </tr>\n",
       "    <tr>\n",
       "      <th>1</th>\n",
       "      <td>XOne</td>\n",
       "      <td>93.12</td>\n",
       "      <td>0.213</td>\n",
       "    </tr>\n",
       "    <tr>\n",
       "      <th>2</th>\n",
       "      <td>X360</td>\n",
       "      <td>81.66</td>\n",
       "      <td>0.187</td>\n",
       "    </tr>\n",
       "    <tr>\n",
       "      <th>3</th>\n",
       "      <td>PS3</td>\n",
       "      <td>63.50</td>\n",
       "      <td>0.145</td>\n",
       "    </tr>\n",
       "    <tr>\n",
       "      <th>4</th>\n",
       "      <td>3DS</td>\n",
       "      <td>38.20</td>\n",
       "      <td>0.087</td>\n",
       "    </tr>\n",
       "  </tbody>\n",
       "</table>\n",
       "</div>"
      ],
      "text/plain": [
       "  platform  na_sales  na_ratio_sales\n",
       "0      PS4    108.74           0.248\n",
       "1     XOne     93.12           0.213\n",
       "2     X360     81.66           0.187\n",
       "3      PS3     63.50           0.145\n",
       "4      3DS     38.20           0.087"
      ]
     },
     "execution_count": 59,
     "metadata": {},
     "output_type": "execute_result"
    }
   ],
   "source": [
    "#исследуем данные по актуальному периоду (2013-2016гг.) в Северной Америке\n",
    "na_platforms = (actual_period\n",
    "                .pivot_table(index='platform',values='na_sales',aggfunc='sum')\n",
    "                .sort_values(by='na_sales',ascending=False)\n",
    "                .reset_index()\n",
    "               )\n",
    "na_platforms['na_ratio_sales'] = round(na_platforms['na_sales'] / sum(na_platforms['na_sales']), 3)\n",
    "na_platforms = na_platforms.head()\n",
    "na_platforms"
   ]
  },
  {
   "cell_type": "code",
   "execution_count": 60,
   "metadata": {},
   "outputs": [
    {
     "data": {
      "text/html": [
       "<div>\n",
       "<style scoped>\n",
       "    .dataframe tbody tr th:only-of-type {\n",
       "        vertical-align: middle;\n",
       "    }\n",
       "\n",
       "    .dataframe tbody tr th {\n",
       "        vertical-align: top;\n",
       "    }\n",
       "\n",
       "    .dataframe thead th {\n",
       "        text-align: right;\n",
       "    }\n",
       "</style>\n",
       "<table border=\"1\" class=\"dataframe\">\n",
       "  <thead>\n",
       "    <tr style=\"text-align: right;\">\n",
       "      <th></th>\n",
       "      <th>platform</th>\n",
       "      <th>eu_sales</th>\n",
       "      <th>eu_ratio_sales</th>\n",
       "    </tr>\n",
       "  </thead>\n",
       "  <tbody>\n",
       "    <tr>\n",
       "      <th>0</th>\n",
       "      <td>PS4</td>\n",
       "      <td>141.09</td>\n",
       "      <td>0.360</td>\n",
       "    </tr>\n",
       "    <tr>\n",
       "      <th>1</th>\n",
       "      <td>PS3</td>\n",
       "      <td>67.81</td>\n",
       "      <td>0.173</td>\n",
       "    </tr>\n",
       "    <tr>\n",
       "      <th>2</th>\n",
       "      <td>XOne</td>\n",
       "      <td>51.59</td>\n",
       "      <td>0.132</td>\n",
       "    </tr>\n",
       "    <tr>\n",
       "      <th>3</th>\n",
       "      <td>X360</td>\n",
       "      <td>42.52</td>\n",
       "      <td>0.108</td>\n",
       "    </tr>\n",
       "    <tr>\n",
       "      <th>4</th>\n",
       "      <td>3DS</td>\n",
       "      <td>30.96</td>\n",
       "      <td>0.079</td>\n",
       "    </tr>\n",
       "  </tbody>\n",
       "</table>\n",
       "</div>"
      ],
      "text/plain": [
       "  platform  eu_sales  eu_ratio_sales\n",
       "0      PS4    141.09           0.360\n",
       "1      PS3     67.81           0.173\n",
       "2     XOne     51.59           0.132\n",
       "3     X360     42.52           0.108\n",
       "4      3DS     30.96           0.079"
      ]
     },
     "execution_count": 60,
     "metadata": {},
     "output_type": "execute_result"
    }
   ],
   "source": [
    "#исследуем данные по актуальному периоду (2013-2016гг.) в Европе\n",
    "eu_platforms = (actual_period\n",
    "                .pivot_table(index='platform',values='eu_sales',aggfunc='sum')\n",
    "                .sort_values(by='eu_sales',ascending=False)\n",
    "                .reset_index()\n",
    "               )\n",
    "eu_platforms['eu_ratio_sales'] = round(eu_platforms['eu_sales'] / sum(eu_platforms['eu_sales']), 3)\n",
    "eu_platforms = eu_platforms.head()\n",
    "eu_platforms"
   ]
  },
  {
   "cell_type": "code",
   "execution_count": 61,
   "metadata": {},
   "outputs": [
    {
     "data": {
      "text/html": [
       "<div>\n",
       "<style scoped>\n",
       "    .dataframe tbody tr th:only-of-type {\n",
       "        vertical-align: middle;\n",
       "    }\n",
       "\n",
       "    .dataframe tbody tr th {\n",
       "        vertical-align: top;\n",
       "    }\n",
       "\n",
       "    .dataframe thead th {\n",
       "        text-align: right;\n",
       "    }\n",
       "</style>\n",
       "<table border=\"1\" class=\"dataframe\">\n",
       "  <thead>\n",
       "    <tr style=\"text-align: right;\">\n",
       "      <th></th>\n",
       "      <th>platform</th>\n",
       "      <th>jp_sales</th>\n",
       "      <th>eu_ratio_sales</th>\n",
       "    </tr>\n",
       "  </thead>\n",
       "  <tbody>\n",
       "    <tr>\n",
       "      <th>0</th>\n",
       "      <td>3DS</td>\n",
       "      <td>67.81</td>\n",
       "      <td>0.482</td>\n",
       "    </tr>\n",
       "    <tr>\n",
       "      <th>1</th>\n",
       "      <td>PS3</td>\n",
       "      <td>23.35</td>\n",
       "      <td>0.166</td>\n",
       "    </tr>\n",
       "    <tr>\n",
       "      <th>2</th>\n",
       "      <td>PSV</td>\n",
       "      <td>18.59</td>\n",
       "      <td>0.132</td>\n",
       "    </tr>\n",
       "    <tr>\n",
       "      <th>3</th>\n",
       "      <td>PS4</td>\n",
       "      <td>15.96</td>\n",
       "      <td>0.113</td>\n",
       "    </tr>\n",
       "    <tr>\n",
       "      <th>4</th>\n",
       "      <td>WiiU</td>\n",
       "      <td>10.88</td>\n",
       "      <td>0.077</td>\n",
       "    </tr>\n",
       "  </tbody>\n",
       "</table>\n",
       "</div>"
      ],
      "text/plain": [
       "  platform  jp_sales  eu_ratio_sales\n",
       "0      3DS     67.81           0.482\n",
       "1      PS3     23.35           0.166\n",
       "2      PSV     18.59           0.132\n",
       "3      PS4     15.96           0.113\n",
       "4     WiiU     10.88           0.077"
      ]
     },
     "execution_count": 61,
     "metadata": {},
     "output_type": "execute_result"
    }
   ],
   "source": [
    "#исследуем данные по актуальному периоду (2013-2016гг.) в Японии\n",
    "jp_platforms = (actual_period\n",
    "                .pivot_table(index='platform',values='jp_sales',aggfunc='sum')\n",
    "                .sort_values(by='jp_sales',ascending=False)\n",
    "                .reset_index()\n",
    "               )\n",
    "jp_platforms['eu_ratio_sales'] = round(jp_platforms['jp_sales'] / sum(jp_platforms['jp_sales']), 3)\n",
    "jp_platforms = jp_platforms.head(5)\n",
    "jp_platforms"
   ]
  },
  {
   "cell_type": "markdown",
   "metadata": {},
   "source": [
    "Опишем различия в долях продаж:"
   ]
  },
  {
   "cell_type": "code",
   "execution_count": 62,
   "metadata": {},
   "outputs": [
    {
     "data": {
      "text/html": [
       "<div>\n",
       "<style scoped>\n",
       "    .dataframe tbody tr th:only-of-type {\n",
       "        vertical-align: middle;\n",
       "    }\n",
       "\n",
       "    .dataframe tbody tr th {\n",
       "        vertical-align: top;\n",
       "    }\n",
       "\n",
       "    .dataframe thead th {\n",
       "        text-align: right;\n",
       "    }\n",
       "</style>\n",
       "<table border=\"1\" class=\"dataframe\">\n",
       "  <thead>\n",
       "    <tr style=\"text-align: right;\">\n",
       "      <th></th>\n",
       "      <th>platform</th>\n",
       "      <th>na_ratio</th>\n",
       "      <th>eu_ratio</th>\n",
       "      <th>jp_ratio</th>\n",
       "    </tr>\n",
       "  </thead>\n",
       "  <tbody>\n",
       "    <tr>\n",
       "      <th>0</th>\n",
       "      <td>PS4</td>\n",
       "      <td>0.248</td>\n",
       "      <td>0.360</td>\n",
       "      <td>0.113</td>\n",
       "    </tr>\n",
       "    <tr>\n",
       "      <th>1</th>\n",
       "      <td>XOne</td>\n",
       "      <td>0.213</td>\n",
       "      <td>0.132</td>\n",
       "      <td>NaN</td>\n",
       "    </tr>\n",
       "    <tr>\n",
       "      <th>2</th>\n",
       "      <td>X360</td>\n",
       "      <td>0.187</td>\n",
       "      <td>0.108</td>\n",
       "      <td>NaN</td>\n",
       "    </tr>\n",
       "    <tr>\n",
       "      <th>3</th>\n",
       "      <td>PS3</td>\n",
       "      <td>0.145</td>\n",
       "      <td>0.173</td>\n",
       "      <td>0.166</td>\n",
       "    </tr>\n",
       "    <tr>\n",
       "      <th>4</th>\n",
       "      <td>3DS</td>\n",
       "      <td>0.087</td>\n",
       "      <td>0.079</td>\n",
       "      <td>0.482</td>\n",
       "    </tr>\n",
       "    <tr>\n",
       "      <th>5</th>\n",
       "      <td>PSV</td>\n",
       "      <td>NaN</td>\n",
       "      <td>NaN</td>\n",
       "      <td>0.132</td>\n",
       "    </tr>\n",
       "    <tr>\n",
       "      <th>6</th>\n",
       "      <td>WiiU</td>\n",
       "      <td>NaN</td>\n",
       "      <td>NaN</td>\n",
       "      <td>0.077</td>\n",
       "    </tr>\n",
       "  </tbody>\n",
       "</table>\n",
       "</div>"
      ],
      "text/plain": [
       "  platform  na_ratio  eu_ratio  jp_ratio\n",
       "0      PS4     0.248     0.360     0.113\n",
       "1     XOne     0.213     0.132       NaN\n",
       "2     X360     0.187     0.108       NaN\n",
       "3      PS3     0.145     0.173     0.166\n",
       "4      3DS     0.087     0.079     0.482\n",
       "5      PSV       NaN       NaN     0.132\n",
       "6     WiiU       NaN       NaN     0.077"
      ]
     },
     "execution_count": 62,
     "metadata": {},
     "output_type": "execute_result"
    }
   ],
   "source": [
    "platforms_ratio = na_platforms.merge(\n",
    "    eu_platforms,\n",
    "    on='platform',\n",
    "    how='outer').merge(\n",
    "    jp_platforms,\n",
    "    on='platform',\n",
    "    how='outer'\n",
    ")\n",
    "platforms_ratio.drop(['na_sales', 'eu_sales', 'jp_sales'], axis='columns', inplace=True)\n",
    "platforms_ratio.sort_values(by='platform').reset_index(drop=True)\n",
    "platforms_ratio.columns = ['platform','na_ratio','eu_ratio','jp_ratio']\n",
    "platforms_ratio"
   ]
  },
  {
   "cell_type": "code",
   "execution_count": 63,
   "metadata": {},
   "outputs": [
    {
     "data": {
      "image/png": "[encoded data removed]",
      "text/plain": [
       "<Figure size 720x504 with 1 Axes>"
      ]
     },
     "metadata": {
      "needs_background": "light"
     },
     "output_type": "display_data"
    }
   ],
   "source": [
    "#построим subplots для сравнения долей продаж по платформам в разных регионах\n",
    "#столбцы наиболее показательные при сравнении, так как можно сравнить их высоту\n",
    "fig, ax = plt.subplots(figsize=(10,7))\n",
    "ax.set(title='Доля продаж игр по топ платформ по регионам',\n",
    "       xlabel='Платформы', ylabel='Доля продаж')\n",
    "x1 = np.arange(0,7) - 0.3\n",
    "x2 = np.arange(0,7)\n",
    "x3 = np.arange(0,7) + 0.3\n",
    "plt.xticks([0, 1, 2, 3, 4, 5, 6], ['PS4', 'XOne', 'X360', 'PS3', '3DS', 'PSV', 'WiiU'])\n",
    "ax.bar(x1, platforms_ratio['na_ratio'], width=0.3, label='NA')\n",
    "ax.bar(x2, platforms_ratio['eu_ratio'], width=0.3, label='EU')\n",
    "ax.bar(x3, platforms_ratio['jp_ratio'], width=0.3, label='JP')\n",
    "ax.grid=True\n",
    "ax.legend(bbox_to_anchor=(1.45, 1))\n",
    "plt.show()"
   ]
  },
  {
   "cell_type": "markdown",
   "metadata": {},
   "source": [
    "**Вывод по долям:** \n",
    "* Доля продаж PS4 выше всего в Европе, а ниже всего в Японии;\n",
    "* Доля продаж XOne выше всего в Серверной Америке и менее популярна в Европе. В Японии Xbox не пользуется популярностью;\n",
    "* С X360 обстоят дела также, как и с XOne, только показатели доли ниже (na_xone = 0.213 vs. na_xone = 0.187, eu_x360 = 0.132 vs. eu_x360 = 0.108);\n",
    "* Доли продаж больше всего схожи у PS3 во всех регионах, но все же PS3 имеет преимущество в Европе;\n",
    "* Доли продаж 3DS показывает колосальный уровень в Японии (0.482), в Северной Америке и Европе показатели продаж намного ниже (0.087 и 0.079, соответсвенно);\n",
    "* PSV и WiiU показывает продажи только в Японии"
   ]
  },
  {
   "cell_type": "markdown",
   "metadata": {},
   "source": [
    "**Вывод по топ-5 платформам для каждого региона:** \\\n",
    "Сформировав списки топ-платформ для каждого региона, сделаем вывод:\n",
    "* Топ 5 платформ для Северной Америки:\n",
    "    1. PS4\n",
    "    2. XOne\n",
    "    3. X360\n",
    "    4. PS3\n",
    "    5. 3DS\n",
    "* Топ 5 платформ для Европы:\n",
    "    1. PS4\n",
    "    2. PS3\n",
    "    3. XOne\n",
    "    4. X360\n",
    "    5. 3DS\n",
    "* Топ 5 платформ для Японии:\n",
    "    1. 3DS\n",
    "    2. PS3\n",
    "    3. PSV\n",
    "    4. PS4\n",
    "    5. WiiU"
   ]
  },
  {
   "cell_type": "markdown",
   "metadata": {},
   "source": [
    "### 4.2. Самые популярные жанры"
   ]
  },
  {
   "cell_type": "code",
   "execution_count": 64,
   "metadata": {},
   "outputs": [
    {
     "data": {
      "text/html": [
       "<div>\n",
       "<style scoped>\n",
       "    .dataframe tbody tr th:only-of-type {\n",
       "        vertical-align: middle;\n",
       "    }\n",
       "\n",
       "    .dataframe tbody tr th {\n",
       "        vertical-align: top;\n",
       "    }\n",
       "\n",
       "    .dataframe thead th {\n",
       "        text-align: right;\n",
       "    }\n",
       "</style>\n",
       "<table border=\"1\" class=\"dataframe\">\n",
       "  <thead>\n",
       "    <tr style=\"text-align: right;\">\n",
       "      <th></th>\n",
       "      <th>genre</th>\n",
       "      <th>na_sales</th>\n",
       "      <th>na_ratio_genres</th>\n",
       "    </tr>\n",
       "  </thead>\n",
       "  <tbody>\n",
       "    <tr>\n",
       "      <th>0</th>\n",
       "      <td>action</td>\n",
       "      <td>126.05</td>\n",
       "      <td>0.288</td>\n",
       "    </tr>\n",
       "    <tr>\n",
       "      <th>1</th>\n",
       "      <td>shooter</td>\n",
       "      <td>109.74</td>\n",
       "      <td>0.251</td>\n",
       "    </tr>\n",
       "    <tr>\n",
       "      <th>2</th>\n",
       "      <td>sports</td>\n",
       "      <td>65.27</td>\n",
       "      <td>0.149</td>\n",
       "    </tr>\n",
       "    <tr>\n",
       "      <th>3</th>\n",
       "      <td>role-playing</td>\n",
       "      <td>46.40</td>\n",
       "      <td>0.106</td>\n",
       "    </tr>\n",
       "    <tr>\n",
       "      <th>4</th>\n",
       "      <td>misc</td>\n",
       "      <td>27.49</td>\n",
       "      <td>0.063</td>\n",
       "    </tr>\n",
       "  </tbody>\n",
       "</table>\n",
       "</div>"
      ],
      "text/plain": [
       "          genre  na_sales  na_ratio_genres\n",
       "0        action    126.05            0.288\n",
       "1       shooter    109.74            0.251\n",
       "2        sports     65.27            0.149\n",
       "3  role-playing     46.40            0.106\n",
       "4          misc     27.49            0.063"
      ]
     },
     "execution_count": 64,
     "metadata": {},
     "output_type": "execute_result"
    }
   ],
   "source": [
    "#также исследуем данные по актуальному периоду (2013-2016гг.) в Северной Америке\n",
    "na_genres = (actual_period\n",
    "                .pivot_table(index='genre',values='na_sales',aggfunc='sum')\n",
    "                .sort_values(by='na_sales',ascending=False)\n",
    "                .reset_index()\n",
    "               )\n",
    "na_genres['na_ratio_genres'] = round(na_genres['na_sales'] / sum(na_genres['na_sales']), 3)\n",
    "na_genres = na_genres.head()\n",
    "na_genres"
   ]
  },
  {
   "cell_type": "code",
   "execution_count": 65,
   "metadata": {},
   "outputs": [
    {
     "data": {
      "text/html": [
       "<div>\n",
       "<style scoped>\n",
       "    .dataframe tbody tr th:only-of-type {\n",
       "        vertical-align: middle;\n",
       "    }\n",
       "\n",
       "    .dataframe tbody tr th {\n",
       "        vertical-align: top;\n",
       "    }\n",
       "\n",
       "    .dataframe thead th {\n",
       "        text-align: right;\n",
       "    }\n",
       "</style>\n",
       "<table border=\"1\" class=\"dataframe\">\n",
       "  <thead>\n",
       "    <tr style=\"text-align: right;\">\n",
       "      <th></th>\n",
       "      <th>genre</th>\n",
       "      <th>eu_sales</th>\n",
       "      <th>eu_ratio_genres</th>\n",
       "    </tr>\n",
       "  </thead>\n",
       "  <tbody>\n",
       "    <tr>\n",
       "      <th>0</th>\n",
       "      <td>action</td>\n",
       "      <td>118.13</td>\n",
       "      <td>0.301</td>\n",
       "    </tr>\n",
       "    <tr>\n",
       "      <th>1</th>\n",
       "      <td>shooter</td>\n",
       "      <td>87.86</td>\n",
       "      <td>0.224</td>\n",
       "    </tr>\n",
       "    <tr>\n",
       "      <th>2</th>\n",
       "      <td>sports</td>\n",
       "      <td>60.52</td>\n",
       "      <td>0.154</td>\n",
       "    </tr>\n",
       "    <tr>\n",
       "      <th>3</th>\n",
       "      <td>role-playing</td>\n",
       "      <td>36.97</td>\n",
       "      <td>0.094</td>\n",
       "    </tr>\n",
       "    <tr>\n",
       "      <th>4</th>\n",
       "      <td>racing</td>\n",
       "      <td>20.19</td>\n",
       "      <td>0.051</td>\n",
       "    </tr>\n",
       "  </tbody>\n",
       "</table>\n",
       "</div>"
      ],
      "text/plain": [
       "          genre  eu_sales  eu_ratio_genres\n",
       "0        action    118.13            0.301\n",
       "1       shooter     87.86            0.224\n",
       "2        sports     60.52            0.154\n",
       "3  role-playing     36.97            0.094\n",
       "4        racing     20.19            0.051"
      ]
     },
     "execution_count": 65,
     "metadata": {},
     "output_type": "execute_result"
    }
   ],
   "source": [
    "eu_genres = (actual_period\n",
    "                .pivot_table(index='genre',values='eu_sales',aggfunc='sum')\n",
    "                .sort_values(by='eu_sales',ascending=False)\n",
    "                .reset_index()\n",
    "               )\n",
    "eu_genres['eu_ratio_genres'] = round(eu_genres['eu_sales'] / sum(eu_genres['eu_sales']), 3)\n",
    "eu_genres = eu_genres.head()\n",
    "eu_genres"
   ]
  },
  {
   "cell_type": "code",
   "execution_count": 66,
   "metadata": {},
   "outputs": [
    {
     "data": {
      "text/html": [
       "<div>\n",
       "<style scoped>\n",
       "    .dataframe tbody tr th:only-of-type {\n",
       "        vertical-align: middle;\n",
       "    }\n",
       "\n",
       "    .dataframe tbody tr th {\n",
       "        vertical-align: top;\n",
       "    }\n",
       "\n",
       "    .dataframe thead th {\n",
       "        text-align: right;\n",
       "    }\n",
       "</style>\n",
       "<table border=\"1\" class=\"dataframe\">\n",
       "  <thead>\n",
       "    <tr style=\"text-align: right;\">\n",
       "      <th></th>\n",
       "      <th>genre</th>\n",
       "      <th>jp_sales</th>\n",
       "      <th>jp_ratio_genres</th>\n",
       "    </tr>\n",
       "  </thead>\n",
       "  <tbody>\n",
       "    <tr>\n",
       "      <th>0</th>\n",
       "      <td>role-playing</td>\n",
       "      <td>51.04</td>\n",
       "      <td>0.363</td>\n",
       "    </tr>\n",
       "    <tr>\n",
       "      <th>1</th>\n",
       "      <td>action</td>\n",
       "      <td>40.49</td>\n",
       "      <td>0.288</td>\n",
       "    </tr>\n",
       "    <tr>\n",
       "      <th>2</th>\n",
       "      <td>misc</td>\n",
       "      <td>9.20</td>\n",
       "      <td>0.065</td>\n",
       "    </tr>\n",
       "    <tr>\n",
       "      <th>3</th>\n",
       "      <td>fighting</td>\n",
       "      <td>7.65</td>\n",
       "      <td>0.054</td>\n",
       "    </tr>\n",
       "    <tr>\n",
       "      <th>4</th>\n",
       "      <td>shooter</td>\n",
       "      <td>6.61</td>\n",
       "      <td>0.047</td>\n",
       "    </tr>\n",
       "  </tbody>\n",
       "</table>\n",
       "</div>"
      ],
      "text/plain": [
       "          genre  jp_sales  jp_ratio_genres\n",
       "0  role-playing     51.04            0.363\n",
       "1        action     40.49            0.288\n",
       "2          misc      9.20            0.065\n",
       "3      fighting      7.65            0.054\n",
       "4       shooter      6.61            0.047"
      ]
     },
     "execution_count": 66,
     "metadata": {},
     "output_type": "execute_result"
    }
   ],
   "source": [
    "jp_genres = (actual_period\n",
    "                .pivot_table(index='genre',values='jp_sales',aggfunc='sum')\n",
    "                .sort_values(by='jp_sales',ascending=False)\n",
    "                .reset_index()\n",
    "               )\n",
    "jp_genres['jp_ratio_genres'] = round(jp_genres['jp_sales'] / sum(jp_genres['jp_sales']), 3)\n",
    "jp_genres = jp_genres.head(5)\n",
    "jp_genres"
   ]
  },
  {
   "cell_type": "code",
   "execution_count": 67,
   "metadata": {},
   "outputs": [
    {
     "data": {
      "text/html": [
       "<div>\n",
       "<style scoped>\n",
       "    .dataframe tbody tr th:only-of-type {\n",
       "        vertical-align: middle;\n",
       "    }\n",
       "\n",
       "    .dataframe tbody tr th {\n",
       "        vertical-align: top;\n",
       "    }\n",
       "\n",
       "    .dataframe thead th {\n",
       "        text-align: right;\n",
       "    }\n",
       "</style>\n",
       "<table border=\"1\" class=\"dataframe\">\n",
       "  <thead>\n",
       "    <tr style=\"text-align: right;\">\n",
       "      <th></th>\n",
       "      <th>genre</th>\n",
       "      <th>na_ratio</th>\n",
       "      <th>eu_ratio</th>\n",
       "      <th>jp_ratio</th>\n",
       "    </tr>\n",
       "  </thead>\n",
       "  <tbody>\n",
       "    <tr>\n",
       "      <th>0</th>\n",
       "      <td>action</td>\n",
       "      <td>0.288</td>\n",
       "      <td>0.301</td>\n",
       "      <td>0.288</td>\n",
       "    </tr>\n",
       "    <tr>\n",
       "      <th>1</th>\n",
       "      <td>shooter</td>\n",
       "      <td>0.251</td>\n",
       "      <td>0.224</td>\n",
       "      <td>0.047</td>\n",
       "    </tr>\n",
       "    <tr>\n",
       "      <th>2</th>\n",
       "      <td>sports</td>\n",
       "      <td>0.149</td>\n",
       "      <td>0.154</td>\n",
       "      <td>NaN</td>\n",
       "    </tr>\n",
       "    <tr>\n",
       "      <th>3</th>\n",
       "      <td>role-playing</td>\n",
       "      <td>0.106</td>\n",
       "      <td>0.094</td>\n",
       "      <td>0.363</td>\n",
       "    </tr>\n",
       "    <tr>\n",
       "      <th>4</th>\n",
       "      <td>misc</td>\n",
       "      <td>0.063</td>\n",
       "      <td>NaN</td>\n",
       "      <td>0.065</td>\n",
       "    </tr>\n",
       "    <tr>\n",
       "      <th>5</th>\n",
       "      <td>racing</td>\n",
       "      <td>NaN</td>\n",
       "      <td>0.051</td>\n",
       "      <td>NaN</td>\n",
       "    </tr>\n",
       "    <tr>\n",
       "      <th>6</th>\n",
       "      <td>fighting</td>\n",
       "      <td>NaN</td>\n",
       "      <td>NaN</td>\n",
       "      <td>0.054</td>\n",
       "    </tr>\n",
       "  </tbody>\n",
       "</table>\n",
       "</div>"
      ],
      "text/plain": [
       "          genre  na_ratio  eu_ratio  jp_ratio\n",
       "0        action     0.288     0.301     0.288\n",
       "1       shooter     0.251     0.224     0.047\n",
       "2        sports     0.149     0.154       NaN\n",
       "3  role-playing     0.106     0.094     0.363\n",
       "4          misc     0.063       NaN     0.065\n",
       "5        racing       NaN     0.051       NaN\n",
       "6      fighting       NaN       NaN     0.054"
      ]
     },
     "execution_count": 67,
     "metadata": {},
     "output_type": "execute_result"
    }
   ],
   "source": [
    "#Опишем различия в долях продаж:\n",
    "genres_ratio = na_genres.merge(\n",
    "    eu_genres,\n",
    "    on='genre',\n",
    "    how='outer').merge(\n",
    "    jp_genres,\n",
    "    on='genre',\n",
    "    how='outer'\n",
    ")\n",
    "genres_ratio.drop(['na_sales', 'eu_sales', 'jp_sales'], axis='columns', inplace=True)\n",
    "genres_ratio.sort_values(by='genre').reset_index(drop=True)\n",
    "genres_ratio.columns = ['genre','na_ratio','eu_ratio','jp_ratio']\n",
    "genres_ratio"
   ]
  },
  {
   "cell_type": "code",
   "execution_count": 68,
   "metadata": {},
   "outputs": [
    {
     "data": {
      "image/png": "[encoded data removed]",
      "text/plain": [
       "<Figure size 720x504 with 1 Axes>"
      ]
     },
     "metadata": {
      "needs_background": "light"
     },
     "output_type": "display_data"
    }
   ],
   "source": [
    "#построим subplots для сравнения долей продаж по жанрам в разных регионах\n",
    "#также используем столбчатую диаграмму\n",
    "fig, ax = plt.subplots(figsize=(10,7))\n",
    "ax.set(title='Доля продаж игр по топ жанрам по регионам',\n",
    "       xlabel='Платформы', ylabel='Доля продаж')\n",
    "x1 = np.arange(0,7) - 0.3\n",
    "x2 = np.arange(0,7)\n",
    "x3 = np.arange(0,7) + 0.3\n",
    "plt.xticks([0, 1, 2, 3, 4, 5, 6], ['action', 'shooter', 'sports', 'role-playing', 'misc', 'racing', 'fighting'])\n",
    "ax.bar(x1, genres_ratio['na_ratio'], width=0.3, label='NA')\n",
    "ax.bar(x2, genres_ratio['eu_ratio'], width=0.3, label='EU')\n",
    "ax.bar(x3, genres_ratio['jp_ratio'], width=0.3, label='JP')\n",
    "ax.grid=True\n",
    "ax.legend(bbox_to_anchor=(1.45, 1))\n",
    "plt.show()"
   ]
  },
  {
   "cell_type": "markdown",
   "metadata": {},
   "source": [
    "**Вывод по топ-5 жанрам для каждого региона:** \\\n",
    "Сформировав списки топ-жанров для каждого региона, сделаем вывод:\n",
    "* Топ 5 жанров для Северной Америки:\n",
    "    1. Action\n",
    "    2. Shooter\n",
    "    3. Sports\n",
    "    4. Role-playing\n",
    "    5. Misc\n",
    "* Топ 5 платформ для Европы:\n",
    "    1. Action\n",
    "    2. Shooter\n",
    "    3. Sports\n",
    "    4. Role-playing\n",
    "    5. Racing\n",
    "* Топ 5 платформ для Японии:\n",
    "    1. Role-playing\n",
    "    2. Action\n",
    "    3. Misc\n",
    "    4. Fighting\n",
    "    5. Shooter"
   ]
  },
  {
   "cell_type": "markdown",
   "metadata": {},
   "source": [
    "**Вывод по долям продаж:** \n",
    "* Доля продаж жанра Action самая высокая среди всех жанров, если не учитывать огромное значение role-play в Японии. Во всех регионах почти доля продаж занимает 30%;\n",
    "* Доля продаж жанра Shooter выше всего в Серверной Америке и не менее популярна в Европе (25% и 22,4% соотвественно). В Японии жанр Shooter не пользуется популярностью (всего 5% от общих продаж);\n",
    "* Жанр Sports занимает 15% от рынка Северной Америки и Европы, а в Японии является не популярным жанром;\n",
    "* Жанр Role-playing самый популярный жанр в Японии и занимает целых 36% от рынка. В других регионах этот жанр не так популярен (около 10% от рынка в СА и Ев.);\n",
    "* Жанр Misc или Miscellaneous на 3 месте по популярности в Японии и на 5 месте у Северной Америки (и там, и там по 6%) - относительно небольшая доля на рынке;\n",
    "* Жанр Fighting показывает продажи только в Японии за актуальный период. Доля составляет 5%. (Tekken и Mortal Combat уже явно уходят от популярности в мире)"
   ]
  },
  {
   "cell_type": "markdown",
   "metadata": {},
   "source": [
    "### 4.3. Влияние рейтинга ESRB на продажи в отдельном регионе"
   ]
  },
  {
   "cell_type": "code",
   "execution_count": 69,
   "metadata": {},
   "outputs": [
    {
     "data": {
      "text/html": [
       "<div>\n",
       "<style scoped>\n",
       "    .dataframe tbody tr th:only-of-type {\n",
       "        vertical-align: middle;\n",
       "    }\n",
       "\n",
       "    .dataframe tbody tr th {\n",
       "        vertical-align: top;\n",
       "    }\n",
       "\n",
       "    .dataframe thead th {\n",
       "        text-align: right;\n",
       "    }\n",
       "</style>\n",
       "<table border=\"1\" class=\"dataframe\">\n",
       "  <thead>\n",
       "    <tr style=\"text-align: right;\">\n",
       "      <th></th>\n",
       "      <th>rating</th>\n",
       "      <th>na_sales</th>\n",
       "      <th>na_ratio</th>\n",
       "    </tr>\n",
       "  </thead>\n",
       "  <tbody>\n",
       "    <tr>\n",
       "      <th>0</th>\n",
       "      <td>M</td>\n",
       "      <td>165.21</td>\n",
       "      <td>0.377</td>\n",
       "    </tr>\n",
       "    <tr>\n",
       "      <th>1</th>\n",
       "      <td>without</td>\n",
       "      <td>89.42</td>\n",
       "      <td>0.204</td>\n",
       "    </tr>\n",
       "    <tr>\n",
       "      <th>2</th>\n",
       "      <td>E</td>\n",
       "      <td>79.05</td>\n",
       "      <td>0.181</td>\n",
       "    </tr>\n",
       "    <tr>\n",
       "      <th>3</th>\n",
       "      <td>E10+</td>\n",
       "      <td>54.24</td>\n",
       "      <td>0.124</td>\n",
       "    </tr>\n",
       "    <tr>\n",
       "      <th>4</th>\n",
       "      <td>T</td>\n",
       "      <td>49.79</td>\n",
       "      <td>0.114</td>\n",
       "    </tr>\n",
       "  </tbody>\n",
       "</table>\n",
       "</div>"
      ],
      "text/plain": [
       "    rating  na_sales  na_ratio\n",
       "0        M    165.21     0.377\n",
       "1  without     89.42     0.204\n",
       "2        E     79.05     0.181\n",
       "3     E10+     54.24     0.124\n",
       "4        T     49.79     0.114"
      ]
     },
     "execution_count": 69,
     "metadata": {},
     "output_type": "execute_result"
    },
    {
     "data": {
      "image/png": "[encoded data removed]",
      "text/plain": [
       "<Figure size 360x288 with 1 Axes>"
      ]
     },
     "metadata": {
      "needs_background": "light"
     },
     "output_type": "display_data"
    }
   ],
   "source": [
    "#Проверим влияние при помощи построения сводной таблицы и столбчатой диаграммы\n",
    "na_esrb = (actual_period\n",
    "    .pivot_table(index='rating', values='na_sales', aggfunc='sum')\n",
    "    .sort_values(by='na_sales', ascending=False)\n",
    "    .reset_index()\n",
    "          )\n",
    "na_esrb['na_ratio'] = round(na_esrb['na_sales'] / sum(na_esrb['na_sales']), 3)\n",
    "na_esrb.plot(\n",
    "    kind='bar',\n",
    "    x='rating',\n",
    "    y='na_sales',\n",
    "    color='g',\n",
    "    figsize=(5,4))\n",
    "plt.title('Влияние рейтинга ESRB на продажи в Северной Америке')\n",
    "plt.xlabel('Оценка в рейтинге')\n",
    "plt.ylabel('Выручка,млн');\n",
    "na_esrb"
   ]
  },
  {
   "cell_type": "markdown",
   "metadata": {},
   "source": [
    "* На 1 месте Северной Америке за анализируемый период являются игры c рейтингом M (17+) - 37,7% от продаж;\n",
    "* На 2 месте игры, которые помечены как \"без рейтинга\" - 20,4% от продаж;\n",
    "* На 3 месте игры с рейтингом E (0+) - 18%;\n",
    "* На 4 месте игры с рейтингом E10+ (10+) - 12,4%;\n",
    "* На 5 месте игры с рейтингом T (13+) - 11,4%;"
   ]
  },
  {
   "cell_type": "code",
   "execution_count": 70,
   "metadata": {},
   "outputs": [
    {
     "data": {
      "text/html": [
       "<div>\n",
       "<style scoped>\n",
       "    .dataframe tbody tr th:only-of-type {\n",
       "        vertical-align: middle;\n",
       "    }\n",
       "\n",
       "    .dataframe tbody tr th {\n",
       "        vertical-align: top;\n",
       "    }\n",
       "\n",
       "    .dataframe thead th {\n",
       "        text-align: right;\n",
       "    }\n",
       "</style>\n",
       "<table border=\"1\" class=\"dataframe\">\n",
       "  <thead>\n",
       "    <tr style=\"text-align: right;\">\n",
       "      <th></th>\n",
       "      <th>rating</th>\n",
       "      <th>eu_sales</th>\n",
       "      <th>eu_ratio</th>\n",
       "    </tr>\n",
       "  </thead>\n",
       "  <tbody>\n",
       "    <tr>\n",
       "      <th>0</th>\n",
       "      <td>M</td>\n",
       "      <td>145.32</td>\n",
       "      <td>0.370</td>\n",
       "    </tr>\n",
       "    <tr>\n",
       "      <th>1</th>\n",
       "      <td>E</td>\n",
       "      <td>83.36</td>\n",
       "      <td>0.213</td>\n",
       "    </tr>\n",
       "    <tr>\n",
       "      <th>2</th>\n",
       "      <td>without</td>\n",
       "      <td>78.91</td>\n",
       "      <td>0.201</td>\n",
       "    </tr>\n",
       "    <tr>\n",
       "      <th>3</th>\n",
       "      <td>E10+</td>\n",
       "      <td>42.69</td>\n",
       "      <td>0.109</td>\n",
       "    </tr>\n",
       "    <tr>\n",
       "      <th>4</th>\n",
       "      <td>T</td>\n",
       "      <td>41.95</td>\n",
       "      <td>0.107</td>\n",
       "    </tr>\n",
       "  </tbody>\n",
       "</table>\n",
       "</div>"
      ],
      "text/plain": [
       "    rating  eu_sales  eu_ratio\n",
       "0        M    145.32     0.370\n",
       "1        E     83.36     0.213\n",
       "2  without     78.91     0.201\n",
       "3     E10+     42.69     0.109\n",
       "4        T     41.95     0.107"
      ]
     },
     "execution_count": 70,
     "metadata": {},
     "output_type": "execute_result"
    },
    {
     "data": {
      "image/png": "[encoded data removed]",
      "text/plain": [
       "<Figure size 360x288 with 1 Axes>"
      ]
     },
     "metadata": {
      "needs_background": "light"
     },
     "output_type": "display_data"
    }
   ],
   "source": [
    "#Проверим влияние при помощи построения сводной таблицы и столбчатой диаграммы\n",
    "eu_esrb = (actual_period\n",
    "    .pivot_table(index='rating', values='eu_sales', aggfunc='sum')\n",
    "    .sort_values(by='eu_sales', ascending=False)\n",
    "    .reset_index()\n",
    "          )\n",
    "eu_esrb['eu_ratio'] = round(eu_esrb['eu_sales'] / sum(eu_esrb['eu_sales']), 3)\n",
    "eu_esrb.plot(\n",
    "    kind='bar',\n",
    "    x='rating',\n",
    "    y='eu_sales',\n",
    "    color='y',\n",
    "    figsize=(5,4))\n",
    "plt.title('Влияние рейтинга ESRB на продажи в Европе')\n",
    "plt.xlabel('Оценка в рейтинге')\n",
    "plt.ylabel('Выручка,млн');\n",
    "eu_esrb"
   ]
  },
  {
   "cell_type": "markdown",
   "metadata": {},
   "source": [
    "* На 1 месте Европы за анализируемый период являются игры c рейтингом M (17+) - 37% от продаж;\n",
    "* На 2 месте игры с рейтингом E (0+) - 21,3%;\n",
    "* На 3 месте игры, которые помечены как \"без рейтинга\" - 20%;\n",
    "* На 4 месте игры с рейтингом E10+ (10+) - 11%;\n",
    "* На 5 месте игры с рейтингом T (13+) - 10,7%;"
   ]
  },
  {
   "cell_type": "code",
   "execution_count": 71,
   "metadata": {},
   "outputs": [
    {
     "data": {
      "text/html": [
       "<div>\n",
       "<style scoped>\n",
       "    .dataframe tbody tr th:only-of-type {\n",
       "        vertical-align: middle;\n",
       "    }\n",
       "\n",
       "    .dataframe tbody tr th {\n",
       "        vertical-align: top;\n",
       "    }\n",
       "\n",
       "    .dataframe thead th {\n",
       "        text-align: right;\n",
       "    }\n",
       "</style>\n",
       "<table border=\"1\" class=\"dataframe\">\n",
       "  <thead>\n",
       "    <tr style=\"text-align: right;\">\n",
       "      <th></th>\n",
       "      <th>rating</th>\n",
       "      <th>jp_sales</th>\n",
       "      <th>jp_ratio</th>\n",
       "    </tr>\n",
       "  </thead>\n",
       "  <tbody>\n",
       "    <tr>\n",
       "      <th>0</th>\n",
       "      <td>without</td>\n",
       "      <td>85.05</td>\n",
       "      <td>0.604</td>\n",
       "    </tr>\n",
       "    <tr>\n",
       "      <th>1</th>\n",
       "      <td>T</td>\n",
       "      <td>20.59</td>\n",
       "      <td>0.146</td>\n",
       "    </tr>\n",
       "    <tr>\n",
       "      <th>2</th>\n",
       "      <td>E</td>\n",
       "      <td>15.14</td>\n",
       "      <td>0.108</td>\n",
       "    </tr>\n",
       "    <tr>\n",
       "      <th>3</th>\n",
       "      <td>M</td>\n",
       "      <td>14.11</td>\n",
       "      <td>0.100</td>\n",
       "    </tr>\n",
       "    <tr>\n",
       "      <th>4</th>\n",
       "      <td>E10+</td>\n",
       "      <td>5.89</td>\n",
       "      <td>0.042</td>\n",
       "    </tr>\n",
       "  </tbody>\n",
       "</table>\n",
       "</div>"
      ],
      "text/plain": [
       "    rating  jp_sales  jp_ratio\n",
       "0  without     85.05     0.604\n",
       "1        T     20.59     0.146\n",
       "2        E     15.14     0.108\n",
       "3        M     14.11     0.100\n",
       "4     E10+      5.89     0.042"
      ]
     },
     "execution_count": 71,
     "metadata": {},
     "output_type": "execute_result"
    },
    {
     "data": {
      "image/png": "[encoded data removed]",
      "text/plain": [
       "<Figure size 360x288 with 1 Axes>"
      ]
     },
     "metadata": {
      "needs_background": "light"
     },
     "output_type": "display_data"
    }
   ],
   "source": [
    "#Проверим влияние при помощи построения сводной таблицы и столбчатой диаграммы\n",
    "jp_esrb = (actual_period\n",
    "    .pivot_table(index='rating', values='jp_sales', aggfunc='sum')\n",
    "    .sort_values(by='jp_sales', ascending=False)\n",
    "    .reset_index()\n",
    "          )\n",
    "jp_esrb['jp_ratio'] = round(jp_esrb['jp_sales'] / sum(jp_esrb['jp_sales']), 3)\n",
    "jp_esrb.plot(\n",
    "    kind='bar',\n",
    "    x='rating',\n",
    "    y='jp_sales',\n",
    "    color='orange',\n",
    "    figsize=(5,4))\n",
    "plt.title('Влияние рейтинга ESRB на продажи в Европе')\n",
    "plt.xlabel('Оценка в рейтинге')\n",
    "plt.ylabel('Выручка,млн');\n",
    "jp_esrb"
   ]
  },
  {
   "cell_type": "markdown",
   "metadata": {},
   "source": [
    "* На 1 месте Японии за анализируемый период являются игры \"без рейтинга\" - целых 60% от продаж;\n",
    "* На 2 месте игры, которые помеченые T-рейтингом (13+) - 14,6% от продаж;\n",
    "* На 3 месте игры с рейтингом E (0+) - 10,8%;\n",
    "* На 4 месте игры с рейтингом M (17+) - 10%;\n",
    "* На 5 месте игры с рейтингом E10+ (10+) - 4,2%;"
   ]
  },
  {
   "cell_type": "markdown",
   "metadata": {},
   "source": [
    "Таким образом, в Северной Америке и Европе схожая структура продаж по рейтингу игр. В Японии предпочтения отличаются: подростковые игры более популярны, чем игры для взрослых, что свойственно культуре Японии (в детстве развлекаешься, а во взрослой жизни работаешь). Такой вывод можно сделать сравнив по продажам категории M (17+) с другими."
   ]
  },
  {
   "cell_type": "markdown",
   "metadata": {},
   "source": [
    "## 5. Проверка гипотез"
   ]
  },
  {
   "cell_type": "markdown",
   "metadata": {},
   "source": [
    "### 5.1. Средние пользовательские рейтинги платформ Xbox One и PC одинаковые"
   ]
  },
  {
   "cell_type": "markdown",
   "metadata": {},
   "source": [
    "За генеральные совокупности возьмём две выборки: пользовательские рейтинги на платформе XOne и PC."
   ]
  },
  {
   "cell_type": "code",
   "execution_count": 72,
   "metadata": {},
   "outputs": [],
   "source": [
    "xone_rate = actual_period[(actual_period['platform'] == 'XOne') & (actual_period['user_score'] > 0)]['user_score']\n",
    "pc_rate = actual_period[(actual_period['platform'] == 'PC') & (actual_period['user_score'] > 0)]['user_score']"
   ]
  },
  {
   "cell_type": "markdown",
   "metadata": {},
   "source": [
    "Сформулируем нулевую и альтернативные гипотезы:\\\n",
    "**H0**: Средние двух выборок между собой равны;\\\n",
    "**H1**: Средние двух выборок между собой не равны.\\\n",
    "\\\n",
    "H0: μ1 = μ2\\\n",
    "H1: μ1 ≠ μ2\\\n",
    "\\\n",
    "Для проверки гипотезы будем использовать тест о равенстве средних двух генеральных совокупностей. Используем метод scipy.stats.ttest_ind(array1, array2, equal_var, alternative)."
   ]
  },
  {
   "cell_type": "code",
   "execution_count": 73,
   "metadata": {},
   "outputs": [
    {
     "name": "stdout",
     "output_type": "stream",
     "text": [
      "p-значение: 0.14012658403611647\n",
      "Не получилось отвергнуть нулевую гипотезу\n"
     ]
    }
   ],
   "source": [
    "#импортируем модуль\n",
    "from scipy import stats as st\n",
    "#уровень значимости будет равен 5%.\n",
    "alpha=.05\n",
    "results = st.ttest_ind(xone_rate, pc_rate)\n",
    "print('p-значение:', results.pvalue)\n",
    "\n",
    "if (results.pvalue < alpha):\n",
    "    print('Отвергаем нулевую гипотезу')\n",
    "else:\n",
    "    print('Не получилось отвергнуть нулевую гипотезу')"
   ]
  },
  {
   "cell_type": "markdown",
   "metadata": {},
   "source": [
    "#### Вывод по гипотезе №1. \n",
    "P-value меньше alpha и ttest показал, что мы не отвергаем нулевую гипотезу (H0). Соответсвенно, можно сделать вывод, что средние пользовательские рейтинги платформ XOne и PC равны между собой."
   ]
  },
  {
   "cell_type": "markdown",
   "metadata": {},
   "source": [
    "### 5.2. Средние пользовательские рейтинги жанров Action и Sports разные."
   ]
  },
  {
   "cell_type": "code",
   "execution_count": 74,
   "metadata": {},
   "outputs": [],
   "source": [
    "action_rate = actual_period[(actual_period['genre'] == 'action') & (actual_period['user_score'] > 0)]['user_score']\n",
    "sports_rate = actual_period[(actual_period['genre'] == 'sports') & (actual_period['user_score'] > 0)]['user_score']"
   ]
  },
  {
   "cell_type": "markdown",
   "metadata": {},
   "source": [
    "Сделаем проверку гипотезы по жанрам. Только в данном случае нас интересует, что средние пользовательские рейтинги **не равны**.\\\n",
    "\\\n",
    "Также сформулируем нулевую и альтернативные гипотезы:\\\n",
    "**H0**: Средние двух выборок между собой равны;\\\n",
    "**H1**: Средние двух выборок между собой не равны.\\\n",
    "\\\n",
    "H0: μ1 = μ2\\\n",
    "H1: μ1 ≠ μ2\\\n",
    "\\\n",
    "Для проверки гипотезы будем использовать тест о равенстве средних двух генеральных совокупностей. Используем метод scipy.stats.ttest_ind(array1, array2, equal_var, alternative)."
   ]
  },
  {
   "cell_type": "code",
   "execution_count": 75,
   "metadata": {},
   "outputs": [
    {
     "name": "stdout",
     "output_type": "stream",
     "text": [
      "p-значение: 1.0517832389140023e-27\n",
      "Отвергаем нулевую гипотезу\n"
     ]
    }
   ],
   "source": [
    "#уровень значимости также равен 5%.\n",
    "alpha=.05\n",
    "results = st.ttest_ind(action_rate, sports_rate)\n",
    "print('p-значение:', results.pvalue)\n",
    "\n",
    "if (results.pvalue < alpha):\n",
    "    print('Отвергаем нулевую гипотезу')\n",
    "else:\n",
    "    print('Не получилось отвергнуть нулевую гипотезу')"
   ]
  },
  {
   "cell_type": "markdown",
   "metadata": {},
   "source": [
    "#### Вывод по гипотезе №2. \n",
    "P-value больше alpha и ttest показал, что мы отвергаем нулевую гипотезу (H0). Соответсвенно, можно сделать вывод, что средние пользовательские рейтинги жанров Action и Sports не равны между собой и гипотеза о различии подтвердилась."
   ]
  },
  {
   "cell_type": "markdown",
   "metadata": {},
   "source": [
    "## 6. Общий вывод"
   ]
  },
  {
   "cell_type": "markdown",
   "metadata": {},
   "source": [
    "Была проведена аналитика по исторических данным из открытых источников о продажах игр. В данных столбцы были приведены к нижнему регистру, nan-значения, где возможно, заполнены, проверены и устранены дубликаты в столбце 'name', изменены типы данных.\\\n",
    "\\\n",
    "После просмотра и предобработки данных были исследованы данные по различным параметрам: год, платформа, жанр, отзывы пользователей и критиков.\\\n",
    "Самым непоказательным отрезком времени оказался с 1980 г. по 1995 г., поскольку в данный отрезок времени было выпущено довольно мало игр и у игровых платформ не было явных конкурентов. Актульный период для прогнозирования на 2017 г. был определён 2013-2016 гг., так как на этот момент используется новейшее поколение игровых платформ и уже сформировались потребительские предпочтения относительно платформ и жанров игр в разных регионах и в целом по миру.\\\n",
    "\\\n",
    "Из всех этих платформ самая продаваемая по сумме продаж с 1990 г. по 2016 г. - PS2. Как было сказано, в период 2000-2005 гг. у PS2 не было конкурентоспособных аналогов. Можно сказать, что второе место занимает Wii-приставка от Nintendo, а третье место делят между собой DS, Xbox360, Playstation3. Непопулярные среди топ-10 платформ - GBA, PC, PSP. Примерный срок, за который устаревает платформа, составляет около 8-12 лет.\\\n",
    "\\\n",
    "В потенциально прибыльные за актуальный период (2013-2016 гг.) были выделены PS4, XOne, 3DS. Снижение спроса на игры приходится на платформах 3DS, PlaystationVita и WiiU, но эти платформы также могут показать себя довольно хорошо в следующих годах с выходом более новых версий платформ.\\\n",
    "\\\n",
    "Относительно разнообразия игрового контента, PS и XBox популярны среди потребителей долгое время, поэтому выпускают больше игрового контента в разной ценовой категории для каждой потребительской группы. WiiU также известная консоль, но менее популярная в сравнении с PS и Xbox. Соответственно, разнообразие игр на данной платформе ниже. PSVita - консоль с небольшим разнообразием игр. Разброс по данной платформе самый небольшой.\\\n",
    "\\\n",
    "Из проведенного анализа влияния отзывов пользователей и критиков на продажи, сделан вывод, что высокая оценка критиков не гарантирует высокие продажи игр (связь слабая - 0,41), а пользовательские оценки не гарантирую продажи вовсе (очень слабая связь - 0 - 0,2). В случае 3DS, WiiU прослеживается низкая взаимосвязь между продажами и отзывами как критиков, так и пользователей. В случае PSV, XOne, PC, X360 и PS3 больше влияют на продажи отзывы критиков, но влияние все равно низкое. Отзывы пользователей не влияют на продажи. Относительно графиков можно отметить, что объем продаж возрастает при оценке критиков от 60 и пользователей от 6 баллов, в некоторых случаях от 4 баллов.\\\n",
    "\\\n",
    "В анализа данных были созданы основные предпочтения пользователей по платформам, жанрам по регионам (Северная Америка, Европа и Япония). Топ-5 платформ и жанров представлены в пункте 4 (Портрет пользователя каждого региона). Также было оценено влияние рейтинга ESRB на продажи в каждом регионе (можно увидеть в пункте 4.3).\\\n",
    "\\\n",
    "В ходе проверки гипотез удалось заключить, что пользовательские рейтинги платформ Xbox One и PC одинаковые, а средние пользовательские рейтинги жанров Action и Sports разные. Тестирование было проведено при помощи ttest-а о равенстве двух генеральных совокупностей. Уровень значимости был приведен к стандартному значению - 5%.\\\n",
    "\\\n",
    "Одной из задач исследования было выявить определяющие успешность игры закономерности, что позволит сделать ставку на потенциально популярный продукт и спланировать рекламные кампании. Следует обратить внимание на следующие закономерности:\n",
    "1) Срок устаревания платформы 8-12 лет. В лучшем случае можно сделать ставку на новую версию платформы;\n",
    "2) Актуальный период для аналитики - 3-5 лет, так как обновленные данные покажут актуальность платформы, жанра и игры;\n",
    "3) Количество выпускаемых игр на платформу;\n",
    "4) Обратить внимание на оценку ESRB относительно местоположения интернет-магазина \"Стримчик\" (необходимы дополнительные данные о деятельности магазина в других регионах);"
   ]
  }
 ],
 "metadata": {
  "ExecuteTimeLog": [
   {
    "duration": 1633,
    "start_time": "2023-09-24T08:34:50.491Z"
   },
   {
    "duration": 54,
    "start_time": "2023-09-24T08:34:52.128Z"
   },
   {
    "duration": 6,
    "start_time": "2023-09-24T08:34:52.184Z"
   },
   {
    "duration": 53,
    "start_time": "2023-09-24T08:34:52.192Z"
   },
   {
    "duration": 34,
    "start_time": "2023-09-24T08:34:52.246Z"
   },
   {
    "duration": 52,
    "start_time": "2023-09-24T08:34:52.282Z"
   },
   {
    "duration": 32,
    "start_time": "2023-09-24T08:34:52.336Z"
   },
   {
    "duration": 39,
    "start_time": "2023-09-24T08:34:52.370Z"
   },
   {
    "duration": 88,
    "start_time": "2023-09-24T08:34:52.411Z"
   },
   {
    "duration": 36,
    "start_time": "2023-09-24T08:34:52.503Z"
   },
   {
    "duration": 74,
    "start_time": "2023-09-24T08:34:52.541Z"
   },
   {
    "duration": 9,
    "start_time": "2023-09-24T08:34:52.616Z"
   },
   {
    "duration": 54,
    "start_time": "2023-09-24T08:34:52.627Z"
   },
   {
    "duration": 12,
    "start_time": "2023-09-24T08:34:52.683Z"
   },
   {
    "duration": 30,
    "start_time": "2023-09-24T08:34:52.697Z"
   },
   {
    "duration": 41,
    "start_time": "2023-09-24T08:34:52.728Z"
   },
   {
    "duration": 15,
    "start_time": "2023-09-24T08:34:52.771Z"
   },
   {
    "duration": 36,
    "start_time": "2023-09-24T08:34:52.787Z"
   },
   {
    "duration": 58,
    "start_time": "2023-09-24T08:34:52.825Z"
   },
   {
    "duration": 51,
    "start_time": "2023-09-24T08:34:52.884Z"
   },
   {
    "duration": 50,
    "start_time": "2023-09-24T08:34:52.937Z"
   },
   {
    "duration": 49,
    "start_time": "2023-09-24T08:34:52.989Z"
   },
   {
    "duration": 20,
    "start_time": "2023-09-24T08:34:53.039Z"
   },
   {
    "duration": 26,
    "start_time": "2023-09-24T08:34:53.061Z"
   },
   {
    "duration": 19,
    "start_time": "2023-09-24T08:34:53.090Z"
   },
   {
    "duration": 46,
    "start_time": "2023-09-24T08:34:53.110Z"
   },
   {
    "duration": 44,
    "start_time": "2023-09-24T08:34:53.158Z"
   },
   {
    "duration": 49,
    "start_time": "2023-09-24T08:34:53.209Z"
   },
   {
    "duration": 5,
    "start_time": "2023-09-24T08:34:53.260Z"
   },
   {
    "duration": 26,
    "start_time": "2023-09-24T08:34:53.267Z"
   },
   {
    "duration": 241,
    "start_time": "2023-09-24T08:34:53.296Z"
   },
   {
    "duration": 24,
    "start_time": "2023-09-24T08:34:53.539Z"
   },
   {
    "duration": 43,
    "start_time": "2023-09-24T08:34:53.565Z"
   },
   {
    "duration": 201,
    "start_time": "2023-09-24T08:34:53.611Z"
   },
   {
    "duration": 6,
    "start_time": "2023-09-24T08:34:53.813Z"
   },
   {
    "duration": 413,
    "start_time": "2023-09-24T08:34:53.821Z"
   },
   {
    "duration": 8,
    "start_time": "2023-09-24T08:34:54.236Z"
   },
   {
    "duration": 32,
    "start_time": "2023-09-24T08:34:54.246Z"
   },
   {
    "duration": 20,
    "start_time": "2023-09-24T08:34:54.280Z"
   },
   {
    "duration": 775,
    "start_time": "2023-09-24T08:34:54.302Z"
   },
   {
    "duration": 19,
    "start_time": "2023-09-24T08:34:55.078Z"
   },
   {
    "duration": 60,
    "start_time": "2023-09-24T08:34:55.098Z"
   },
   {
    "duration": 339,
    "start_time": "2023-09-24T08:34:55.159Z"
   },
   {
    "duration": 9,
    "start_time": "2023-09-24T08:34:55.500Z"
   },
   {
    "duration": 28,
    "start_time": "2023-09-24T08:34:55.510Z"
   },
   {
    "duration": 384,
    "start_time": "2023-09-24T08:34:55.540Z"
   },
   {
    "duration": 4,
    "start_time": "2023-09-24T08:34:55.926Z"
   },
   {
    "duration": 3249,
    "start_time": "2023-09-24T08:34:55.932Z"
   },
   {
    "duration": 135,
    "start_time": "2023-09-24T08:34:59.183Z"
   },
   {
    "duration": 0,
    "start_time": "2023-09-24T08:34:59.319Z"
   },
   {
    "duration": 0,
    "start_time": "2023-09-24T08:34:59.321Z"
   },
   {
    "duration": 0,
    "start_time": "2023-09-24T08:34:59.323Z"
   },
   {
    "duration": 0,
    "start_time": "2023-09-24T08:34:59.324Z"
   },
   {
    "duration": 0,
    "start_time": "2023-09-24T08:34:59.325Z"
   },
   {
    "duration": 0,
    "start_time": "2023-09-24T08:34:59.326Z"
   },
   {
    "duration": 0,
    "start_time": "2023-09-24T08:34:59.327Z"
   },
   {
    "duration": 0,
    "start_time": "2023-09-24T08:34:59.329Z"
   },
   {
    "duration": 0,
    "start_time": "2023-09-24T08:34:59.330Z"
   },
   {
    "duration": 0,
    "start_time": "2023-09-24T08:34:59.331Z"
   },
   {
    "duration": 0,
    "start_time": "2023-09-24T08:34:59.332Z"
   },
   {
    "duration": 0,
    "start_time": "2023-09-24T08:34:59.333Z"
   },
   {
    "duration": 0,
    "start_time": "2023-09-24T08:34:59.347Z"
   },
   {
    "duration": 0,
    "start_time": "2023-09-24T08:34:59.348Z"
   },
   {
    "duration": 0,
    "start_time": "2023-09-24T08:34:59.349Z"
   },
   {
    "duration": 0,
    "start_time": "2023-09-24T08:34:59.350Z"
   },
   {
    "duration": 0,
    "start_time": "2023-09-24T08:34:59.351Z"
   },
   {
    "duration": 0,
    "start_time": "2023-09-24T08:34:59.356Z"
   },
   {
    "duration": 0,
    "start_time": "2023-09-24T08:34:59.357Z"
   },
   {
    "duration": 0,
    "start_time": "2023-09-24T08:34:59.358Z"
   },
   {
    "duration": 0,
    "start_time": "2023-09-24T08:34:59.359Z"
   },
   {
    "duration": 0,
    "start_time": "2023-09-24T08:34:59.360Z"
   },
   {
    "duration": 3376,
    "start_time": "2023-09-24T08:35:26.334Z"
   },
   {
    "duration": 1505,
    "start_time": "2023-09-24T08:35:35.699Z"
   },
   {
    "duration": 52,
    "start_time": "2023-09-24T08:35:37.207Z"
   },
   {
    "duration": 12,
    "start_time": "2023-09-24T08:35:37.261Z"
   },
   {
    "duration": 11,
    "start_time": "2023-09-24T08:35:37.275Z"
   },
   {
    "duration": 11,
    "start_time": "2023-09-24T08:35:37.289Z"
   },
   {
    "duration": 29,
    "start_time": "2023-09-24T08:35:37.303Z"
   },
   {
    "duration": 20,
    "start_time": "2023-09-24T08:35:37.334Z"
   },
   {
    "duration": 35,
    "start_time": "2023-09-24T08:35:37.357Z"
   },
   {
    "duration": 31,
    "start_time": "2023-09-24T08:35:37.394Z"
   },
   {
    "duration": 30,
    "start_time": "2023-09-24T08:35:37.428Z"
   },
   {
    "duration": 27,
    "start_time": "2023-09-24T08:35:37.461Z"
   },
   {
    "duration": 6,
    "start_time": "2023-09-24T08:35:37.490Z"
   },
   {
    "duration": 24,
    "start_time": "2023-09-24T08:35:37.498Z"
   },
   {
    "duration": 27,
    "start_time": "2023-09-24T08:35:37.524Z"
   },
   {
    "duration": 6,
    "start_time": "2023-09-24T08:35:37.553Z"
   },
   {
    "duration": 33,
    "start_time": "2023-09-24T08:35:37.561Z"
   },
   {
    "duration": 16,
    "start_time": "2023-09-24T08:35:37.596Z"
   },
   {
    "duration": 44,
    "start_time": "2023-09-24T08:35:37.614Z"
   },
   {
    "duration": 26,
    "start_time": "2023-09-24T08:35:37.660Z"
   },
   {
    "duration": 26,
    "start_time": "2023-09-24T08:35:37.689Z"
   },
   {
    "duration": 31,
    "start_time": "2023-09-24T08:35:37.717Z"
   },
   {
    "duration": 19,
    "start_time": "2023-09-24T08:35:37.750Z"
   },
   {
    "duration": 12,
    "start_time": "2023-09-24T08:35:37.771Z"
   },
   {
    "duration": 7,
    "start_time": "2023-09-24T08:35:37.785Z"
   },
   {
    "duration": 8,
    "start_time": "2023-09-24T08:35:37.794Z"
   },
   {
    "duration": 15,
    "start_time": "2023-09-24T08:35:37.804Z"
   },
   {
    "duration": 49,
    "start_time": "2023-09-24T08:35:37.821Z"
   },
   {
    "duration": 18,
    "start_time": "2023-09-24T08:35:37.875Z"
   },
   {
    "duration": 6,
    "start_time": "2023-09-24T08:35:37.895Z"
   },
   {
    "duration": 12,
    "start_time": "2023-09-24T08:35:37.903Z"
   },
   {
    "duration": 248,
    "start_time": "2023-09-24T08:35:37.917Z"
   },
   {
    "duration": 16,
    "start_time": "2023-09-24T08:35:38.167Z"
   },
   {
    "duration": 31,
    "start_time": "2023-09-24T08:35:38.186Z"
   },
   {
    "duration": 266,
    "start_time": "2023-09-24T08:35:38.220Z"
   },
   {
    "duration": 6,
    "start_time": "2023-09-24T08:35:38.488Z"
   },
   {
    "duration": 406,
    "start_time": "2023-09-24T08:35:38.496Z"
   },
   {
    "duration": 7,
    "start_time": "2023-09-24T08:35:38.904Z"
   },
   {
    "duration": 43,
    "start_time": "2023-09-24T08:35:38.913Z"
   },
   {
    "duration": 15,
    "start_time": "2023-09-24T08:35:38.958Z"
   },
   {
    "duration": 834,
    "start_time": "2023-09-24T08:35:38.975Z"
   },
   {
    "duration": 23,
    "start_time": "2023-09-24T08:35:39.811Z"
   },
   {
    "duration": 48,
    "start_time": "2023-09-24T08:35:39.835Z"
   },
   {
    "duration": 308,
    "start_time": "2023-09-24T08:35:39.885Z"
   },
   {
    "duration": 10,
    "start_time": "2023-09-24T08:35:40.195Z"
   },
   {
    "duration": 27,
    "start_time": "2023-09-24T08:35:40.207Z"
   },
   {
    "duration": 395,
    "start_time": "2023-09-24T08:35:40.235Z"
   },
   {
    "duration": 4,
    "start_time": "2023-09-24T08:35:40.632Z"
   },
   {
    "duration": 3262,
    "start_time": "2023-09-24T08:35:40.654Z"
   },
   {
    "duration": 2759,
    "start_time": "2023-09-24T08:35:43.918Z"
   },
   {
    "duration": 356,
    "start_time": "2023-09-24T08:35:46.679Z"
   },
   {
    "duration": 323,
    "start_time": "2023-09-24T08:35:47.037Z"
   },
   {
    "duration": 223,
    "start_time": "2023-09-24T08:35:47.362Z"
   },
   {
    "duration": 18,
    "start_time": "2023-09-24T08:35:47.587Z"
   },
   {
    "duration": 32,
    "start_time": "2023-09-24T08:35:47.606Z"
   },
   {
    "duration": 38,
    "start_time": "2023-09-24T08:35:47.640Z"
   },
   {
    "duration": 18,
    "start_time": "2023-09-24T08:35:47.680Z"
   },
   {
    "duration": 20,
    "start_time": "2023-09-24T08:35:47.700Z"
   },
   {
    "duration": 32,
    "start_time": "2023-09-24T08:35:47.721Z"
   },
   {
    "duration": 246,
    "start_time": "2023-09-24T08:35:47.755Z"
   },
   {
    "duration": 19,
    "start_time": "2023-09-24T08:35:48.003Z"
   },
   {
    "duration": 39,
    "start_time": "2023-09-24T08:35:48.024Z"
   },
   {
    "duration": 21,
    "start_time": "2023-09-24T08:35:48.065Z"
   },
   {
    "duration": 21,
    "start_time": "2023-09-24T08:35:48.088Z"
   },
   {
    "duration": 385,
    "start_time": "2023-09-24T08:35:48.111Z"
   },
   {
    "duration": 202,
    "start_time": "2023-09-24T08:35:48.498Z"
   },
   {
    "duration": 184,
    "start_time": "2023-09-24T08:35:48.702Z"
   },
   {
    "duration": 201,
    "start_time": "2023-09-24T08:35:48.888Z"
   },
   {
    "duration": 7,
    "start_time": "2023-09-24T08:35:49.091Z"
   },
   {
    "duration": 7,
    "start_time": "2023-09-24T08:35:49.101Z"
   },
   {
    "duration": 15,
    "start_time": "2023-09-24T08:35:49.109Z"
   },
   {
    "duration": 21,
    "start_time": "2023-09-24T08:35:49.126Z"
   },
   {
    "duration": 1671,
    "start_time": "2023-09-24T10:00:25.702Z"
   },
   {
    "duration": 106,
    "start_time": "2023-09-24T10:00:39.906Z"
   },
   {
    "duration": 13,
    "start_time": "2023-09-24T10:10:06.962Z"
   },
   {
    "duration": 10,
    "start_time": "2023-09-24T10:10:20.670Z"
   },
   {
    "duration": 20,
    "start_time": "2023-09-24T10:10:35.295Z"
   },
   {
    "duration": 11,
    "start_time": "2023-09-24T10:10:53.960Z"
   },
   {
    "duration": 10,
    "start_time": "2023-09-24T10:10:59.671Z"
   },
   {
    "duration": 9,
    "start_time": "2023-09-24T10:11:20.634Z"
   },
   {
    "duration": 1328,
    "start_time": "2023-09-24T10:11:32.415Z"
   },
   {
    "duration": 1339,
    "start_time": "2023-09-24T10:11:58.495Z"
   },
   {
    "duration": 36,
    "start_time": "2023-09-24T10:11:59.836Z"
   },
   {
    "duration": 5,
    "start_time": "2023-09-24T10:11:59.874Z"
   },
   {
    "duration": 28,
    "start_time": "2023-09-24T10:11:59.882Z"
   },
   {
    "duration": 7,
    "start_time": "2023-09-24T10:11:59.911Z"
   },
   {
    "duration": 16,
    "start_time": "2023-09-24T10:11:59.919Z"
   },
   {
    "duration": 13,
    "start_time": "2023-09-24T10:11:59.937Z"
   },
   {
    "duration": 17,
    "start_time": "2023-09-24T10:11:59.952Z"
   },
   {
    "duration": 56,
    "start_time": "2023-09-24T10:11:59.971Z"
   },
   {
    "duration": 24,
    "start_time": "2023-09-24T10:12:00.031Z"
   },
   {
    "duration": 55,
    "start_time": "2023-09-24T10:12:00.056Z"
   },
   {
    "duration": 31,
    "start_time": "2023-09-24T10:12:00.113Z"
   },
   {
    "duration": 59,
    "start_time": "2023-09-24T10:12:00.146Z"
   },
   {
    "duration": 8,
    "start_time": "2023-09-24T10:12:00.207Z"
   },
   {
    "duration": 27,
    "start_time": "2023-09-24T10:12:00.217Z"
   },
   {
    "duration": 49,
    "start_time": "2023-09-24T10:12:00.246Z"
   },
   {
    "duration": 30,
    "start_time": "2023-09-24T10:12:00.296Z"
   },
   {
    "duration": 30,
    "start_time": "2023-09-24T10:12:00.328Z"
   },
   {
    "duration": 52,
    "start_time": "2023-09-24T10:12:00.360Z"
   },
   {
    "duration": 45,
    "start_time": "2023-09-24T10:12:00.414Z"
   },
   {
    "duration": 30,
    "start_time": "2023-09-24T10:12:00.461Z"
   },
   {
    "duration": 49,
    "start_time": "2023-09-24T10:12:00.493Z"
   },
   {
    "duration": 49,
    "start_time": "2023-09-24T10:12:00.544Z"
   },
   {
    "duration": 19,
    "start_time": "2023-09-24T10:12:00.596Z"
   },
   {
    "duration": 22,
    "start_time": "2023-09-24T10:12:00.617Z"
   },
   {
    "duration": 39,
    "start_time": "2023-09-24T10:12:00.640Z"
   },
   {
    "duration": 34,
    "start_time": "2023-09-24T10:12:00.681Z"
   },
   {
    "duration": 45,
    "start_time": "2023-09-24T10:12:00.720Z"
   },
   {
    "duration": 22,
    "start_time": "2023-09-24T10:12:00.767Z"
   },
   {
    "duration": 19,
    "start_time": "2023-09-24T10:12:00.792Z"
   },
   {
    "duration": 24,
    "start_time": "2023-09-24T10:12:00.813Z"
   },
   {
    "duration": 201,
    "start_time": "2023-09-24T10:12:00.838Z"
   },
   {
    "duration": 15,
    "start_time": "2023-09-24T10:12:01.041Z"
   },
   {
    "duration": 46,
    "start_time": "2023-09-24T10:12:01.058Z"
   },
   {
    "duration": 203,
    "start_time": "2023-09-24T10:12:01.106Z"
   },
   {
    "duration": 6,
    "start_time": "2023-09-24T10:12:01.311Z"
   },
   {
    "duration": 392,
    "start_time": "2023-09-24T10:12:01.319Z"
   },
   {
    "duration": 8,
    "start_time": "2023-09-24T10:12:01.713Z"
   },
   {
    "duration": 62,
    "start_time": "2023-09-24T10:12:01.723Z"
   },
   {
    "duration": 33,
    "start_time": "2023-09-24T10:12:01.788Z"
   },
   {
    "duration": 766,
    "start_time": "2023-09-24T10:12:01.823Z"
   },
   {
    "duration": 28,
    "start_time": "2023-09-24T10:12:02.591Z"
   },
   {
    "duration": 41,
    "start_time": "2023-09-24T10:12:02.621Z"
   },
   {
    "duration": 258,
    "start_time": "2023-09-24T10:12:02.663Z"
   },
   {
    "duration": 8,
    "start_time": "2023-09-24T10:12:02.923Z"
   },
   {
    "duration": 32,
    "start_time": "2023-09-24T10:12:02.933Z"
   },
   {
    "duration": 335,
    "start_time": "2023-09-24T10:12:02.967Z"
   },
   {
    "duration": 5,
    "start_time": "2023-09-24T10:12:03.304Z"
   },
   {
    "duration": 3235,
    "start_time": "2023-09-24T10:12:03.311Z"
   },
   {
    "duration": 3282,
    "start_time": "2023-09-24T10:12:06.549Z"
   },
   {
    "duration": 324,
    "start_time": "2023-09-24T10:12:09.834Z"
   },
   {
    "duration": 285,
    "start_time": "2023-09-24T10:12:10.160Z"
   },
   {
    "duration": 210,
    "start_time": "2023-09-24T10:12:10.446Z"
   },
   {
    "duration": 17,
    "start_time": "2023-09-24T10:12:10.658Z"
   },
   {
    "duration": 32,
    "start_time": "2023-09-24T10:12:10.677Z"
   },
   {
    "duration": 18,
    "start_time": "2023-09-24T10:12:10.710Z"
   },
   {
    "duration": 20,
    "start_time": "2023-09-24T10:12:10.730Z"
   },
   {
    "duration": 19,
    "start_time": "2023-09-24T10:12:10.752Z"
   },
   {
    "duration": 44,
    "start_time": "2023-09-24T10:12:10.773Z"
   },
   {
    "duration": 226,
    "start_time": "2023-09-24T10:12:10.819Z"
   },
   {
    "duration": 19,
    "start_time": "2023-09-24T10:12:11.047Z"
   },
   {
    "duration": 19,
    "start_time": "2023-09-24T10:12:11.068Z"
   },
   {
    "duration": 41,
    "start_time": "2023-09-24T10:12:11.089Z"
   },
   {
    "duration": 40,
    "start_time": "2023-09-24T10:12:11.132Z"
   },
   {
    "duration": 365,
    "start_time": "2023-09-24T10:12:11.174Z"
   },
   {
    "duration": 198,
    "start_time": "2023-09-24T10:12:11.541Z"
   },
   {
    "duration": 187,
    "start_time": "2023-09-24T10:12:11.740Z"
   },
   {
    "duration": 194,
    "start_time": "2023-09-24T10:12:11.929Z"
   },
   {
    "duration": 7,
    "start_time": "2023-09-24T10:12:12.125Z"
   },
   {
    "duration": 10,
    "start_time": "2023-09-24T10:12:12.134Z"
   },
   {
    "duration": 29,
    "start_time": "2023-09-24T10:12:12.145Z"
   },
   {
    "duration": 5,
    "start_time": "2023-09-24T10:12:12.176Z"
   },
   {
    "duration": 181,
    "start_time": "2023-09-24T10:12:27.544Z"
   },
   {
    "duration": 23,
    "start_time": "2023-09-24T10:12:50.319Z"
   },
   {
    "duration": 11,
    "start_time": "2023-09-24T10:12:59.518Z"
   },
   {
    "duration": 34,
    "start_time": "2023-09-24T10:15:03.185Z"
   },
   {
    "duration": 4,
    "start_time": "2023-09-24T10:18:02.763Z"
   },
   {
    "duration": 10,
    "start_time": "2023-09-24T10:18:59.614Z"
   },
   {
    "duration": 9,
    "start_time": "2023-09-24T10:19:07.220Z"
   },
   {
    "duration": 14,
    "start_time": "2023-09-24T10:19:22.605Z"
   },
   {
    "duration": 4,
    "start_time": "2023-09-24T10:19:30.006Z"
   },
   {
    "duration": 27,
    "start_time": "2023-09-24T10:19:44.880Z"
   },
   {
    "duration": 1544,
    "start_time": "2023-09-24T10:20:10.452Z"
   },
   {
    "duration": 53,
    "start_time": "2023-09-24T10:20:11.998Z"
   },
   {
    "duration": 5,
    "start_time": "2023-09-24T10:20:12.053Z"
   },
   {
    "duration": 9,
    "start_time": "2023-09-24T10:20:12.060Z"
   },
   {
    "duration": 16,
    "start_time": "2023-09-24T10:20:12.071Z"
   },
   {
    "duration": 51,
    "start_time": "2023-09-24T10:20:12.090Z"
   },
   {
    "duration": 15,
    "start_time": "2023-09-24T10:20:12.144Z"
   },
   {
    "duration": 23,
    "start_time": "2023-09-24T10:20:12.161Z"
   },
   {
    "duration": 49,
    "start_time": "2023-09-24T10:20:12.186Z"
   },
   {
    "duration": 25,
    "start_time": "2023-09-24T10:20:12.239Z"
   },
   {
    "duration": 46,
    "start_time": "2023-09-24T10:20:12.266Z"
   },
   {
    "duration": 10,
    "start_time": "2023-09-24T10:20:12.315Z"
   },
   {
    "duration": 29,
    "start_time": "2023-09-24T10:20:12.337Z"
   },
   {
    "duration": 10,
    "start_time": "2023-09-24T10:20:12.368Z"
   },
   {
    "duration": 36,
    "start_time": "2023-09-24T10:20:12.380Z"
   },
   {
    "duration": 42,
    "start_time": "2023-09-24T10:20:12.419Z"
   },
   {
    "duration": 19,
    "start_time": "2023-09-24T10:20:12.464Z"
   },
   {
    "duration": 34,
    "start_time": "2023-09-24T10:20:12.485Z"
   },
   {
    "duration": 24,
    "start_time": "2023-09-24T10:20:12.524Z"
   },
   {
    "duration": 27,
    "start_time": "2023-09-24T10:20:12.550Z"
   },
   {
    "duration": 73,
    "start_time": "2023-09-24T10:20:12.580Z"
   },
   {
    "duration": 5,
    "start_time": "2023-09-24T10:20:12.655Z"
   },
   {
    "duration": 12,
    "start_time": "2023-09-24T10:20:12.663Z"
   },
   {
    "duration": 70,
    "start_time": "2023-09-24T10:20:12.678Z"
   },
   {
    "duration": 22,
    "start_time": "2023-09-24T10:20:12.750Z"
   },
   {
    "duration": 37,
    "start_time": "2023-09-24T10:20:12.775Z"
   },
   {
    "duration": 13,
    "start_time": "2023-09-24T10:20:12.815Z"
   },
   {
    "duration": 19,
    "start_time": "2023-09-24T10:20:12.835Z"
   },
   {
    "duration": 13,
    "start_time": "2023-09-24T10:20:12.857Z"
   },
   {
    "duration": 17,
    "start_time": "2023-09-24T10:20:12.872Z"
   },
   {
    "duration": 27,
    "start_time": "2023-09-24T10:20:12.914Z"
   },
   {
    "duration": 31,
    "start_time": "2023-09-24T10:20:12.946Z"
   },
   {
    "duration": 4,
    "start_time": "2023-09-24T10:20:12.980Z"
   },
   {
    "duration": 26,
    "start_time": "2023-09-24T10:20:12.986Z"
   },
   {
    "duration": 255,
    "start_time": "2023-09-24T10:20:13.014Z"
   },
   {
    "duration": 16,
    "start_time": "2023-09-24T10:20:13.271Z"
   },
   {
    "duration": 47,
    "start_time": "2023-09-24T10:20:13.289Z"
   },
   {
    "duration": 235,
    "start_time": "2023-09-24T10:20:13.338Z"
   },
   {
    "duration": 6,
    "start_time": "2023-09-24T10:20:13.575Z"
   },
   {
    "duration": 443,
    "start_time": "2023-09-24T10:20:13.583Z"
   },
   {
    "duration": 13,
    "start_time": "2023-09-24T10:20:14.030Z"
   },
   {
    "duration": 24,
    "start_time": "2023-09-24T10:20:14.045Z"
   },
   {
    "duration": 23,
    "start_time": "2023-09-24T10:20:14.071Z"
   },
   {
    "duration": 760,
    "start_time": "2023-09-24T10:20:14.097Z"
   },
   {
    "duration": 28,
    "start_time": "2023-09-24T10:20:14.859Z"
   },
   {
    "duration": 53,
    "start_time": "2023-09-24T10:20:14.889Z"
   },
   {
    "duration": 326,
    "start_time": "2023-09-24T10:20:14.944Z"
   },
   {
    "duration": 9,
    "start_time": "2023-09-24T10:20:15.273Z"
   },
   {
    "duration": 45,
    "start_time": "2023-09-24T10:20:15.285Z"
   },
   {
    "duration": 419,
    "start_time": "2023-09-24T10:20:15.333Z"
   },
   {
    "duration": 3,
    "start_time": "2023-09-24T10:20:15.754Z"
   },
   {
    "duration": 3702,
    "start_time": "2023-09-24T10:20:15.759Z"
   },
   {
    "duration": 2832,
    "start_time": "2023-09-24T10:20:19.463Z"
   },
   {
    "duration": 451,
    "start_time": "2023-09-24T10:20:22.298Z"
   },
   {
    "duration": 425,
    "start_time": "2023-09-24T10:20:22.751Z"
   },
   {
    "duration": 266,
    "start_time": "2023-09-24T10:20:23.178Z"
   },
   {
    "duration": 20,
    "start_time": "2023-09-24T10:20:23.445Z"
   },
   {
    "duration": 24,
    "start_time": "2023-09-24T10:20:23.467Z"
   },
   {
    "duration": 34,
    "start_time": "2023-09-24T10:20:23.510Z"
   },
   {
    "duration": 57,
    "start_time": "2023-09-24T10:20:23.547Z"
   },
   {
    "duration": 55,
    "start_time": "2023-09-24T10:20:23.606Z"
   },
   {
    "duration": 21,
    "start_time": "2023-09-24T10:20:23.664Z"
   },
   {
    "duration": 258,
    "start_time": "2023-09-24T10:20:23.687Z"
   },
   {
    "duration": 21,
    "start_time": "2023-09-24T10:20:23.947Z"
   },
   {
    "duration": 43,
    "start_time": "2023-09-24T10:20:23.970Z"
   },
   {
    "duration": 31,
    "start_time": "2023-09-24T10:20:24.015Z"
   },
   {
    "duration": 42,
    "start_time": "2023-09-24T10:20:24.048Z"
   },
   {
    "duration": 442,
    "start_time": "2023-09-24T10:20:24.092Z"
   },
   {
    "duration": 220,
    "start_time": "2023-09-24T10:20:24.537Z"
   },
   {
    "duration": 212,
    "start_time": "2023-09-24T10:20:24.759Z"
   },
   {
    "duration": 246,
    "start_time": "2023-09-24T10:20:24.974Z"
   },
   {
    "duration": 18,
    "start_time": "2023-09-24T10:20:25.228Z"
   },
   {
    "duration": 8,
    "start_time": "2023-09-24T10:20:25.248Z"
   },
   {
    "duration": 10,
    "start_time": "2023-09-24T10:20:25.258Z"
   },
   {
    "duration": 9,
    "start_time": "2023-09-24T10:20:25.271Z"
   },
   {
    "duration": 42,
    "start_time": "2023-09-24T10:20:50.694Z"
   },
   {
    "duration": 1378,
    "start_time": "2023-09-24T15:41:24.924Z"
   },
   {
    "duration": 34,
    "start_time": "2023-09-24T15:41:26.305Z"
   },
   {
    "duration": 5,
    "start_time": "2023-09-24T15:41:26.341Z"
   },
   {
    "duration": 4,
    "start_time": "2023-09-24T15:41:26.349Z"
   },
   {
    "duration": 13,
    "start_time": "2023-09-24T15:41:26.355Z"
   },
   {
    "duration": 16,
    "start_time": "2023-09-24T15:41:26.369Z"
   },
   {
    "duration": 10,
    "start_time": "2023-09-24T15:41:26.387Z"
   },
   {
    "duration": 22,
    "start_time": "2023-09-24T15:41:26.398Z"
   },
   {
    "duration": 43,
    "start_time": "2023-09-24T15:41:26.422Z"
   },
   {
    "duration": 22,
    "start_time": "2023-09-24T15:41:26.468Z"
   },
   {
    "duration": 13,
    "start_time": "2023-09-24T15:41:26.492Z"
   },
   {
    "duration": 5,
    "start_time": "2023-09-24T15:41:26.507Z"
   },
   {
    "duration": 51,
    "start_time": "2023-09-24T15:41:26.513Z"
   },
   {
    "duration": 7,
    "start_time": "2023-09-24T15:41:26.565Z"
   },
   {
    "duration": 6,
    "start_time": "2023-09-24T15:41:26.573Z"
   },
   {
    "duration": 25,
    "start_time": "2023-09-24T15:41:26.580Z"
   },
   {
    "duration": 14,
    "start_time": "2023-09-24T15:41:26.606Z"
   },
   {
    "duration": 50,
    "start_time": "2023-09-24T15:41:26.622Z"
   },
   {
    "duration": 18,
    "start_time": "2023-09-24T15:41:26.673Z"
   },
   {
    "duration": 20,
    "start_time": "2023-09-24T15:41:26.693Z"
   },
   {
    "duration": 35,
    "start_time": "2023-09-24T15:41:26.715Z"
   },
   {
    "duration": 4,
    "start_time": "2023-09-24T15:41:26.751Z"
   },
   {
    "duration": 13,
    "start_time": "2023-09-24T15:41:26.757Z"
   },
   {
    "duration": 30,
    "start_time": "2023-09-24T15:41:26.772Z"
   },
   {
    "duration": 15,
    "start_time": "2023-09-24T15:41:26.803Z"
   },
   {
    "duration": 34,
    "start_time": "2023-09-24T15:41:26.819Z"
   },
   {
    "duration": 6,
    "start_time": "2023-09-24T15:41:26.854Z"
   },
   {
    "duration": 6,
    "start_time": "2023-09-24T15:41:26.863Z"
   },
   {
    "duration": 7,
    "start_time": "2023-09-24T15:41:26.870Z"
   },
   {
    "duration": 15,
    "start_time": "2023-09-24T15:41:26.879Z"
   },
   {
    "duration": 14,
    "start_time": "2023-09-24T15:41:26.896Z"
   },
   {
    "duration": 18,
    "start_time": "2023-09-24T15:41:26.947Z"
   },
   {
    "duration": 6,
    "start_time": "2023-09-24T15:41:26.966Z"
   },
   {
    "duration": 21,
    "start_time": "2023-09-24T15:41:26.973Z"
   },
   {
    "duration": 200,
    "start_time": "2023-09-24T15:41:26.996Z"
   },
   {
    "duration": 15,
    "start_time": "2023-09-24T15:41:27.198Z"
   },
   {
    "duration": 28,
    "start_time": "2023-09-24T15:41:27.214Z"
   },
   {
    "duration": 188,
    "start_time": "2023-09-24T15:41:27.247Z"
   },
   {
    "duration": 11,
    "start_time": "2023-09-24T15:41:27.438Z"
   },
   {
    "duration": 318,
    "start_time": "2023-09-24T15:41:27.450Z"
   },
   {
    "duration": 6,
    "start_time": "2023-09-24T15:41:27.770Z"
   },
   {
    "duration": 27,
    "start_time": "2023-09-24T15:41:27.778Z"
   },
   {
    "duration": 13,
    "start_time": "2023-09-24T15:41:27.806Z"
   },
   {
    "duration": 699,
    "start_time": "2023-09-24T15:41:27.820Z"
   },
   {
    "duration": 26,
    "start_time": "2023-09-24T15:41:28.521Z"
   },
   {
    "duration": 21,
    "start_time": "2023-09-24T15:41:28.549Z"
   },
   {
    "duration": 256,
    "start_time": "2023-09-24T15:41:28.572Z"
   },
   {
    "duration": 17,
    "start_time": "2023-09-24T15:41:28.830Z"
   },
   {
    "duration": 12,
    "start_time": "2023-09-24T15:41:28.849Z"
   },
   {
    "duration": 347,
    "start_time": "2023-09-24T15:41:28.862Z"
   },
   {
    "duration": 3,
    "start_time": "2023-09-24T15:41:29.211Z"
   },
   {
    "duration": 3093,
    "start_time": "2023-09-24T15:41:29.216Z"
   },
   {
    "duration": 2447,
    "start_time": "2023-09-24T15:41:32.311Z"
   },
   {
    "duration": 320,
    "start_time": "2023-09-24T15:41:34.760Z"
   },
   {
    "duration": 348,
    "start_time": "2023-09-24T15:41:35.082Z"
   },
   {
    "duration": 195,
    "start_time": "2023-09-24T15:41:35.432Z"
   },
   {
    "duration": 28,
    "start_time": "2023-09-24T15:41:35.628Z"
   },
   {
    "duration": 13,
    "start_time": "2023-09-24T15:41:35.658Z"
   },
   {
    "duration": 22,
    "start_time": "2023-09-24T15:41:35.673Z"
   },
   {
    "duration": 19,
    "start_time": "2023-09-24T15:41:35.697Z"
   },
   {
    "duration": 44,
    "start_time": "2023-09-24T15:41:35.718Z"
   },
   {
    "duration": 28,
    "start_time": "2023-09-24T15:41:35.764Z"
   },
   {
    "duration": 231,
    "start_time": "2023-09-24T15:41:35.794Z"
   },
   {
    "duration": 28,
    "start_time": "2023-09-24T15:41:36.027Z"
   },
   {
    "duration": 29,
    "start_time": "2023-09-24T15:41:36.057Z"
   },
   {
    "duration": 33,
    "start_time": "2023-09-24T15:41:36.088Z"
   },
   {
    "duration": 30,
    "start_time": "2023-09-24T15:41:36.124Z"
   },
   {
    "duration": 372,
    "start_time": "2023-09-24T15:41:36.155Z"
   },
   {
    "duration": 189,
    "start_time": "2023-09-24T15:41:36.529Z"
   },
   {
    "duration": 190,
    "start_time": "2023-09-24T15:41:36.720Z"
   },
   {
    "duration": 179,
    "start_time": "2023-09-24T15:41:36.911Z"
   },
   {
    "duration": 7,
    "start_time": "2023-09-24T15:41:37.092Z"
   },
   {
    "duration": 12,
    "start_time": "2023-09-24T15:41:37.101Z"
   },
   {
    "duration": 8,
    "start_time": "2023-09-24T15:41:37.115Z"
   },
   {
    "duration": 23,
    "start_time": "2023-09-24T15:41:37.125Z"
   }
  ],
  "kernelspec": {
   "display_name": "Python 3 (ipykernel)",
   "language": "python",
   "name": "python3"
  },
  "language_info": {
   "codemirror_mode": {
    "name": "ipython",
    "version": 3
   },
   "file_extension": ".py",
   "mimetype": "text/x-python",
   "name": "python",
   "nbconvert_exporter": "python",
   "pygments_lexer": "ipython3",
   "version": "3.11.7"
  },
  "toc": {
   "base_numbering": 1,
   "nav_menu": {},
   "number_sections": true,
   "sideBar": true,
   "skip_h1_title": true,
   "title_cell": "Table of Contents",
   "title_sidebar": "Contents",
   "toc_cell": false,
   "toc_position": {},
   "toc_section_display": true,
   "toc_window_display": false
  }
 },
 "nbformat": 4,
 "nbformat_minor": 4
}
