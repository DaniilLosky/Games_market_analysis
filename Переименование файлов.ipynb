{
 "cells": [
  {
   "cell_type": "code",
   "execution_count": 5,
   "id": "ff3821a3",
   "metadata": {},
   "outputs": [
    {
     "name": "stdout",
     "output_type": "stream",
     "text": [
      "Файл /Users/bis.partnermail.ru/Desktop/все_5/11_1.pdf переименован в /Users/bis.partnermail.ru/Desktop/все_5/Аваняну\tПавлу\tСергеевичу.pdf\n",
      "Файл /Users/bis.partnermail.ru/Desktop/все_5/11_2.pdf переименован в /Users/bis.partnermail.ru/Desktop/все_5/Аверину\tДаниилу\tВячеславовичу.pdf\n",
      "Файл /Users/bis.partnermail.ru/Desktop/все_5/11_3.pdf переименован в /Users/bis.partnermail.ru/Desktop/все_5/Аксеновой\tСофии\tАндреевне.pdf\n",
      "Файл /Users/bis.partnermail.ru/Desktop/все_5/11_4.pdf переименован в /Users/bis.partnermail.ru/Desktop/все_5/Андрушe\tВалерии\tАлексеевне.pdf\n",
      "Файл /Users/bis.partnermail.ru/Desktop/все_5/11_5.pdf переименован в /Users/bis.partnermail.ru/Desktop/все_5/Анисовец\tЯне\tАлександровне.pdf\n",
      "Файл /Users/bis.partnermail.ru/Desktop/все_5/11_6.pdf переименован в /Users/bis.partnermail.ru/Desktop/все_5/Антоновой\tАнастасии\tАлександровне.pdf\n",
      "Файл /Users/bis.partnermail.ru/Desktop/все_5/11_7.pdf переименован в /Users/bis.partnermail.ru/Desktop/все_5/Апрелевой\tПолине\tДмитриевне.pdf\n",
      "Файл /Users/bis.partnermail.ru/Desktop/все_5/11_8.pdf переименован в /Users/bis.partnermail.ru/Desktop/все_5/Ахциеву\tИсламу\tМуссаевичу.pdf\n",
      "Файл /Users/bis.partnermail.ru/Desktop/все_5/11_9.pdf переименован в /Users/bis.partnermail.ru/Desktop/все_5/Бондаревой\tАнне\tЮрьевне.pdf\n",
      "Файл /Users/bis.partnermail.ru/Desktop/все_5/11_10.pdf переименован в /Users/bis.partnermail.ru/Desktop/все_5/Браверман\tДарье\tВалерьевне.pdf\n",
      "Файл /Users/bis.partnermail.ru/Desktop/все_5/11_11.pdf переименован в /Users/bis.partnermail.ru/Desktop/все_5/Гайдук\tАрине\tАлексеевне.pdf\n",
      "Файл /Users/bis.partnermail.ru/Desktop/все_5/11_12.pdf переименован в /Users/bis.partnermail.ru/Desktop/все_5/Горбунову\tСемёну\tМихайловичу.pdf\n",
      "Файл /Users/bis.partnermail.ru/Desktop/все_5/11_13.pdf переименован в /Users/bis.partnermail.ru/Desktop/все_5/Гуськовой\tДарье\tСергеевне.pdf\n",
      "Файл /Users/bis.partnermail.ru/Desktop/все_5/11_14.pdf переименован в /Users/bis.partnermail.ru/Desktop/все_5/Даровской\tАнастасии\tМихайловне.pdf\n",
      "Файл /Users/bis.partnermail.ru/Desktop/все_5/11_15.pdf переименован в /Users/bis.partnermail.ru/Desktop/все_5/Демушкиной\tОльге\tОлеговне.pdf\n",
      "Файл /Users/bis.partnermail.ru/Desktop/все_5/11_16.pdf переименован в /Users/bis.partnermail.ru/Desktop/все_5/Егоровой\tАлександре\tИгоревне.pdf\n",
      "Файл /Users/bis.partnermail.ru/Desktop/все_5/11_17.pdf переименован в /Users/bis.partnermail.ru/Desktop/все_5/Еремеевой\tАлександре\tПавловне.pdf\n",
      "Файл /Users/bis.partnermail.ru/Desktop/все_5/11_18.pdf переименован в /Users/bis.partnermail.ru/Desktop/все_5/Еремеевой\tАнастасии\tНиколаевне.pdf\n",
      "Файл /Users/bis.partnermail.ru/Desktop/все_5/11_19.pdf переименован в /Users/bis.partnermail.ru/Desktop/все_5/Засовой\tВалерии\tВитальевне.pdf\n",
      "Файл /Users/bis.partnermail.ru/Desktop/все_5/11_20.pdf переименован в /Users/bis.partnermail.ru/Desktop/все_5/Иванникову\tВладимиру\tВикторовичу.pdf\n",
      "Файл /Users/bis.partnermail.ru/Desktop/все_5/11_21.pdf переименован в /Users/bis.partnermail.ru/Desktop/все_5/Казанковой\tЕкатерине\tДмитриевне.pdf\n",
      "Файл /Users/bis.partnermail.ru/Desktop/все_5/11_22.pdf переименован в /Users/bis.partnermail.ru/Desktop/все_5/Каменевой\tЕвгении\tДмитриевне.pdf\n",
      "Файл /Users/bis.partnermail.ru/Desktop/все_5/11_23.pdf переименован в /Users/bis.partnermail.ru/Desktop/все_5/Кистанову\tИвану\tГеннадьевичу.pdf\n",
      "Файл /Users/bis.partnermail.ru/Desktop/все_5/11_24.pdf переименован в /Users/bis.partnermail.ru/Desktop/все_5/Ковтуну\tВладимиру\tОлеговичу.pdf\n",
      "Файл /Users/bis.partnermail.ru/Desktop/все_5/11_25.pdf переименован в /Users/bis.partnermail.ru/Desktop/все_5/Козыревой\tАнастасии\tСергеевне.pdf\n",
      "Файл /Users/bis.partnermail.ru/Desktop/все_5/11_26.pdf переименован в /Users/bis.partnermail.ru/Desktop/все_5/Кузнецовой\tАнастасии\tВикторовне.pdf\n",
      "Файл /Users/bis.partnermail.ru/Desktop/все_5/11_27.pdf переименован в /Users/bis.partnermail.ru/Desktop/все_5/Куликовой\tИрине\tАлександровне.pdf\n",
      "Файл /Users/bis.partnermail.ru/Desktop/все_5/11_28.pdf переименован в /Users/bis.partnermail.ru/Desktop/все_5/Латиповой\tЭлине\tИрековне.pdf\n",
      "Файл /Users/bis.partnermail.ru/Desktop/все_5/11_29.pdf переименован в /Users/bis.partnermail.ru/Desktop/все_5/Лыловой\tЕкатерине\tАлексеевне.pdf\n",
      "Файл /Users/bis.partnermail.ru/Desktop/все_5/11_30.pdf переименован в /Users/bis.partnermail.ru/Desktop/все_5/Малышеву\tМатвею\tАлексеевичу.pdf\n",
      "Файл /Users/bis.partnermail.ru/Desktop/все_5/11_31.pdf переименован в /Users/bis.partnermail.ru/Desktop/все_5/Малькову\tАлександру\tАлександровичу.pdf\n",
      "Файл /Users/bis.partnermail.ru/Desktop/все_5/11_32.pdf переименован в /Users/bis.partnermail.ru/Desktop/все_5/Моисееву\tАлексею\tВалерьевичу.pdf\n",
      "Файл /Users/bis.partnermail.ru/Desktop/все_5/11_33.pdf переименован в /Users/bis.partnermail.ru/Desktop/все_5/Моховой\tАлине\tМаксимовне.pdf\n",
      "Файл /Users/bis.partnermail.ru/Desktop/все_5/11_34.pdf переименован в /Users/bis.partnermail.ru/Desktop/все_5/Мстоева\tФариде\tЭлазовне.pdf\n",
      "Файл /Users/bis.partnermail.ru/Desktop/все_5/11_35.pdf переименован в /Users/bis.partnermail.ru/Desktop/все_5/Мятину\tДаниилу\tДмитриевичу.pdf\n",
      "Файл /Users/bis.partnermail.ru/Desktop/все_5/11_36.pdf переименован в /Users/bis.partnermail.ru/Desktop/все_5/Орловой\tНаталии\tВячеславовне.pdf\n",
      "Файл /Users/bis.partnermail.ru/Desktop/все_5/11_37.pdf переименован в /Users/bis.partnermail.ru/Desktop/все_5/Пономарчук\tЮлии\tВасильевне.pdf\n",
      "Файл /Users/bis.partnermail.ru/Desktop/все_5/11_38.pdf переименован в /Users/bis.partnermail.ru/Desktop/все_5/Приваловой\tПолине\tАлексеевне.pdf\n",
      "Файл /Users/bis.partnermail.ru/Desktop/все_5/11_39.pdf переименован в /Users/bis.partnermail.ru/Desktop/все_5/Розиной\tГалине\tАлександровне.pdf\n",
      "Файл /Users/bis.partnermail.ru/Desktop/все_5/11_40.pdf переименован в /Users/bis.partnermail.ru/Desktop/все_5/Рыковой\tАлине\tФаридовне.pdf\n",
      "Файл /Users/bis.partnermail.ru/Desktop/все_5/11_41.pdf переименован в /Users/bis.partnermail.ru/Desktop/все_5/Сальниковой\tАнастасии\tОлеговне.pdf\n",
      "Файл /Users/bis.partnermail.ru/Desktop/все_5/11_42.pdf переименован в /Users/bis.partnermail.ru/Desktop/все_5/Сережину\tДенису\tОлеговичу.pdf\n",
      "Файл /Users/bis.partnermail.ru/Desktop/все_5/11_43.pdf переименован в /Users/bis.partnermail.ru/Desktop/все_5/Смирновой\tЕкатерине\tАлександровне.pdf\n",
      "Файл /Users/bis.partnermail.ru/Desktop/все_5/11_44.pdf переименован в /Users/bis.partnermail.ru/Desktop/все_5/Смирновой\tМаргарите\tРадиковне.pdf\n",
      "Файл /Users/bis.partnermail.ru/Desktop/все_5/11_45.pdf переименован в /Users/bis.partnermail.ru/Desktop/все_5/Смитрович\tЯне\tЮрьевне.pdf\n",
      "Файл /Users/bis.partnermail.ru/Desktop/все_5/11_46.pdf переименован в /Users/bis.partnermail.ru/Desktop/все_5/Соколовой\tЮлии\tАлександровне.pdf\n",
      "Файл /Users/bis.partnermail.ru/Desktop/все_5/11_47.pdf переименован в /Users/bis.partnermail.ru/Desktop/все_5/Стебневой\tЕкатерине\tАлександровне.pdf\n",
      "Файл /Users/bis.partnermail.ru/Desktop/все_5/11_48.pdf переименован в /Users/bis.partnermail.ru/Desktop/все_5/Тарановой\tЕвгении\tВладимировне.pdf\n",
      "Файл /Users/bis.partnermail.ru/Desktop/все_5/11_49.pdf переименован в /Users/bis.partnermail.ru/Desktop/все_5/Тереховой\tЮлии\tСергеевне.pdf\n",
      "Файл /Users/bis.partnermail.ru/Desktop/все_5/11_50.pdf переименован в /Users/bis.partnermail.ru/Desktop/все_5/Тюняевой\tВиктории\tАндреевне.pdf\n",
      "Файл /Users/bis.partnermail.ru/Desktop/все_5/11_51.pdf переименован в /Users/bis.partnermail.ru/Desktop/все_5/Умярову\tРоману\tЗякиевичу.pdf\n",
      "Файл /Users/bis.partnermail.ru/Desktop/все_5/11_52.pdf переименован в /Users/bis.partnermail.ru/Desktop/все_5/Федорахиной\tМаргарите\tГеннадьевне.pdf\n",
      "Файл /Users/bis.partnermail.ru/Desktop/все_5/11_53.pdf переименован в /Users/bis.partnermail.ru/Desktop/все_5/Филипповой\tДарье\tДмитриевне.pdf\n",
      "Файл /Users/bis.partnermail.ru/Desktop/все_5/11_54.pdf переименован в /Users/bis.partnermail.ru/Desktop/все_5/Фихтнер\tКристине\tСергеевне.pdf\n",
      "Файл /Users/bis.partnermail.ru/Desktop/все_5/11_55.pdf переименован в /Users/bis.partnermail.ru/Desktop/все_5/Ходакову\tСергею\tАндреевичу.pdf\n",
      "Файл /Users/bis.partnermail.ru/Desktop/все_5/11_56.pdf переименован в /Users/bis.partnermail.ru/Desktop/все_5/Хусаиновой\tАделе\tРимовне.pdf\n",
      "Файл /Users/bis.partnermail.ru/Desktop/все_5/11_57.pdf переименован в /Users/bis.partnermail.ru/Desktop/все_5/Часнык\tЕлизавете\tВитальевне25.10.1990.pdf\n",
      "Файл /Users/bis.partnermail.ru/Desktop/все_5/11_58.pdf переименован в /Users/bis.partnermail.ru/Desktop/все_5/Ширияздановой\tРозалии\tАхатовне.pdf\n",
      "Файл /Users/bis.partnermail.ru/Desktop/все_5/11_59.pdf переименован в /Users/bis.partnermail.ru/Desktop/все_5/Шляковой\tАнгелине\tВладимировне.pdf\n"
     ]
    }
   ],
   "source": [
    "import os\n",
    "\n",
    "# Путь к папке с файлами\n",
    "folder_path = '/Users/bis.partnermail.ru/Desktop/все_5'\n",
    "\n",
    "# Чтение списка фамилий и имен из txt файла\n",
    "with open('/Users/bis.partnermail.ru/Desktop/срез.txt', 'r', encoding='windows-1251') as file:\n",
    "    names = [line.strip() for line in file.readlines()]\n",
    "\n",
    "# Переименование файлов\n",
    "for i, name in enumerate(names, 1):\n",
    "    old_filename = os.path.join(folder_path, f'11_{i}.pdf')  # или другой формат\n",
    "    new_filename = os.path.join(folder_path, f'{name}.pdf')\n",
    "    \n",
    "    if os.path.exists(old_filename):\n",
    "        os.rename(old_filename, new_filename)\n",
    "        print(f'Файл {old_filename} переименован в {new_filename}')\n",
    "    else:\n",
    "        print(f'Файл {old_filename} не найден')"
   ]
  }
 ],
 "metadata": {
  "kernelspec": {
   "display_name": "Python 3 (ipykernel)",
   "language": "python",
   "name": "python3"
  },
  "language_info": {
   "codemirror_mode": {
    "name": "ipython",
    "version": 3
   },
   "file_extension": ".py",
   "mimetype": "text/x-python",
   "name": "python",
   "nbconvert_exporter": "python",
   "pygments_lexer": "ipython3",
   "version": "3.11.7"
  }
 },
 "nbformat": 4,
 "nbformat_minor": 5
}
